{
 "cells": [
  {
   "cell_type": "code",
   "execution_count": 1,
   "metadata": {},
   "outputs": [
    {
     "name": "stderr",
     "output_type": "stream",
     "text": [
      "/Users/yohei/.pyenv/versions/anaconda3-5.0.0/envs/tensorflow/lib/python3.5/site-packages/h5py/__init__.py:36: FutureWarning: Conversion of the second argument of issubdtype from `float` to `np.floating` is deprecated. In future, it will be treated as `np.float64 == np.dtype(float).type`.\n",
      "  from ._conv import register_converters as _register_converters\n"
     ]
    }
   ],
   "source": [
    "import tensorflow as tf\n",
    "import numpy as np\n",
    "import matplotlib.pyplot as plt\n",
    "%matplotlib inline"
   ]
  },
  {
   "cell_type": "markdown",
   "metadata": {},
   "source": [
    "# 00_mnist_sigmoid_keras.py"
   ]
  },
  {
   "cell_type": "code",
   "execution_count": 24,
   "metadata": {
    "collapsed": true
   },
   "outputs": [
    {
     "name": "stderr",
     "output_type": "stream",
     "text": [
      "Using TensorFlow backend.\n",
      "/Users/yohei/.pyenv/versions/anaconda3-5.0.0/envs/tensorflow/lib/python3.5/site-packages/sklearn/model_selection/_split.py:2026: FutureWarning: From version 0.21, test_size will always complement train_size unless both are specified.\n",
      "  FutureWarning)\n"
     ]
    },
    {
     "name": "stdout",
     "output_type": "stream",
     "text": [
      "Epoch 1/100\n",
      "8000/8000 [==============================] - 1s 92us/step - loss: 2.0083 - acc: 0.3389\n",
      "Epoch 2/100\n",
      "8000/8000 [==============================] - 0s 31us/step - loss: 1.3750 - acc: 0.6516\n",
      "Epoch 3/100\n",
      "8000/8000 [==============================] - 0s 31us/step - loss: 1.0863 - acc: 0.7589\n",
      "Epoch 4/100\n",
      "8000/8000 [==============================] - 0s 32us/step - loss: 0.9107 - acc: 0.8055\n",
      "Epoch 5/100\n",
      "8000/8000 [==============================] - 0s 34us/step - loss: 0.7950 - acc: 0.8315\n",
      "Epoch 6/100\n",
      "8000/8000 [==============================] - 0s 33us/step - loss: 0.7090 - acc: 0.8506\n",
      "Epoch 7/100\n",
      "8000/8000 [==============================] - 0s 31us/step - loss: 0.6456 - acc: 0.8633\n",
      "Epoch 8/100\n",
      "8000/8000 [==============================] - 0s 32us/step - loss: 0.5963 - acc: 0.8741\n",
      "Epoch 9/100\n",
      "8000/8000 [==============================] - 0s 35us/step - loss: 0.5548 - acc: 0.8854\n",
      "Epoch 10/100\n",
      "8000/8000 [==============================] - 0s 35us/step - loss: 0.5225 - acc: 0.8909\n",
      "Epoch 11/100\n",
      "8000/8000 [==============================] - 0s 41us/step - loss: 0.4931 - acc: 0.8980\n",
      "Epoch 12/100\n",
      "8000/8000 [==============================] - 0s 37us/step - loss: 0.4687 - acc: 0.9029\n",
      "Epoch 13/100\n",
      "8000/8000 [==============================] - 0s 35us/step - loss: 0.4451 - acc: 0.9082\n",
      "Epoch 14/100\n",
      "8000/8000 [==============================] - 0s 33us/step - loss: 0.4270 - acc: 0.9134\n",
      "Epoch 15/100\n",
      "8000/8000 [==============================] - 0s 38us/step - loss: 0.4108 - acc: 0.9166\n",
      "Epoch 16/100\n",
      "8000/8000 [==============================] - 0s 34us/step - loss: 0.3934 - acc: 0.9191\n",
      "Epoch 17/100\n",
      "8000/8000 [==============================] - 0s 32us/step - loss: 0.3811 - acc: 0.9228\n",
      "Epoch 18/100\n",
      "8000/8000 [==============================] - 0s 35us/step - loss: 0.3680 - acc: 0.9265\n",
      "Epoch 19/100\n",
      "8000/8000 [==============================] - 0s 33us/step - loss: 0.3564 - acc: 0.9284\n",
      "Epoch 20/100\n",
      "8000/8000 [==============================] - 0s 34us/step - loss: 0.3461 - acc: 0.9301\n",
      "Epoch 21/100\n",
      "8000/8000 [==============================] - 0s 37us/step - loss: 0.3350 - acc: 0.9336\n",
      "Epoch 22/100\n",
      "8000/8000 [==============================] - 0s 38us/step - loss: 0.3263 - acc: 0.9342\n",
      "Epoch 23/100\n",
      "8000/8000 [==============================] - 0s 40us/step - loss: 0.3185 - acc: 0.9361\n",
      "Epoch 24/100\n",
      "8000/8000 [==============================] - 0s 36us/step - loss: 0.3106 - acc: 0.9380\n",
      "Epoch 25/100\n",
      "8000/8000 [==============================] - 0s 34us/step - loss: 0.3033 - acc: 0.9390\n",
      "Epoch 26/100\n",
      "8000/8000 [==============================] - 0s 35us/step - loss: 0.2962 - acc: 0.9389\n",
      "Epoch 27/100\n",
      "8000/8000 [==============================] - 0s 36us/step - loss: 0.2899 - acc: 0.9407\n",
      "Epoch 28/100\n",
      "8000/8000 [==============================] - 0s 31us/step - loss: 0.2840 - acc: 0.9417\n",
      "Epoch 29/100\n",
      "8000/8000 [==============================] - 0s 34us/step - loss: 0.2782 - acc: 0.9446\n",
      "Epoch 30/100\n",
      "8000/8000 [==============================] - 0s 33us/step - loss: 0.2728 - acc: 0.9455\n",
      "Epoch 31/100\n",
      "8000/8000 [==============================] - 0s 32us/step - loss: 0.2684 - acc: 0.9457\n",
      "Epoch 32/100\n",
      "8000/8000 [==============================] - 0s 33us/step - loss: 0.2633 - acc: 0.9467\n",
      "Epoch 33/100\n",
      "8000/8000 [==============================] - 0s 35us/step - loss: 0.2591 - acc: 0.9472\n",
      "Epoch 34/100\n",
      "8000/8000 [==============================] - 0s 37us/step - loss: 0.2551 - acc: 0.9481\n",
      "Epoch 35/100\n",
      "8000/8000 [==============================] - 0s 39us/step - loss: 0.2513 - acc: 0.9475\n",
      "Epoch 36/100\n",
      "8000/8000 [==============================] - 0s 33us/step - loss: 0.2484 - acc: 0.9484\n",
      "Epoch 37/100\n",
      "8000/8000 [==============================] - 0s 32us/step - loss: 0.2445 - acc: 0.9500\n",
      "Epoch 38/100\n",
      "8000/8000 [==============================] - 0s 39us/step - loss: 0.2414 - acc: 0.9495\n",
      "Epoch 39/100\n",
      "8000/8000 [==============================] - 0s 39us/step - loss: 0.2381 - acc: 0.9506\n",
      "Epoch 40/100\n",
      "8000/8000 [==============================] - 0s 36us/step - loss: 0.2355 - acc: 0.9505\n",
      "Epoch 41/100\n",
      "8000/8000 [==============================] - 0s 36us/step - loss: 0.2326 - acc: 0.9515\n",
      "Epoch 42/100\n",
      "8000/8000 [==============================] - 0s 37us/step - loss: 0.2302 - acc: 0.9511\n",
      "Epoch 43/100\n",
      "8000/8000 [==============================] - 0s 33us/step - loss: 0.2274 - acc: 0.9521\n",
      "Epoch 44/100\n",
      "8000/8000 [==============================] - 0s 32us/step - loss: 0.2247 - acc: 0.9525\n",
      "Epoch 45/100\n",
      "8000/8000 [==============================] - 0s 33us/step - loss: 0.2221 - acc: 0.9521\n",
      "Epoch 46/100\n",
      "8000/8000 [==============================] - 0s 30us/step - loss: 0.2200 - acc: 0.9526\n",
      "Epoch 47/100\n",
      "8000/8000 [==============================] - 0s 33us/step - loss: 0.2179 - acc: 0.9532\n",
      "Epoch 48/100\n",
      "8000/8000 [==============================] - 0s 35us/step - loss: 0.2155 - acc: 0.9532\n",
      "Epoch 49/100\n",
      "8000/8000 [==============================] - 0s 32us/step - loss: 0.2138 - acc: 0.9537\n",
      "Epoch 50/100\n",
      "8000/8000 [==============================] - 0s 37us/step - loss: 0.2117 - acc: 0.9541\n",
      "Epoch 51/100\n",
      "8000/8000 [==============================] - 0s 31us/step - loss: 0.2094 - acc: 0.9546\n",
      "Epoch 52/100\n",
      "8000/8000 [==============================] - 0s 36us/step - loss: 0.2077 - acc: 0.9544\n",
      "Epoch 53/100\n",
      "8000/8000 [==============================] - 0s 38us/step - loss: 0.2057 - acc: 0.9545\n",
      "Epoch 54/100\n",
      "8000/8000 [==============================] - 0s 35us/step - loss: 0.2039 - acc: 0.9555\n",
      "Epoch 55/100\n",
      "8000/8000 [==============================] - 0s 32us/step - loss: 0.2021 - acc: 0.9560\n",
      "Epoch 56/100\n",
      "8000/8000 [==============================] - 0s 33us/step - loss: 0.2005 - acc: 0.9561\n",
      "Epoch 57/100\n",
      "8000/8000 [==============================] - 0s 38us/step - loss: 0.1990 - acc: 0.9567\n",
      "Epoch 58/100\n",
      "8000/8000 [==============================] - 0s 36us/step - loss: 0.1973 - acc: 0.9572\n",
      "Epoch 59/100\n",
      "8000/8000 [==============================] - 0s 38us/step - loss: 0.1958 - acc: 0.9567\n",
      "Epoch 60/100\n",
      "8000/8000 [==============================] - 0s 32us/step - loss: 0.1943 - acc: 0.9574\n",
      "Epoch 61/100\n",
      "8000/8000 [==============================] - 0s 39us/step - loss: 0.1931 - acc: 0.9576\n",
      "Epoch 62/100\n",
      "8000/8000 [==============================] - 0s 37us/step - loss: 0.1917 - acc: 0.9574\n",
      "Epoch 63/100\n",
      "8000/8000 [==============================] - 0s 34us/step - loss: 0.1904 - acc: 0.9581\n",
      "Epoch 64/100\n",
      "8000/8000 [==============================] - 0s 40us/step - loss: 0.1890 - acc: 0.9580\n",
      "Epoch 65/100\n",
      "8000/8000 [==============================] - 0s 34us/step - loss: 0.1877 - acc: 0.9581\n",
      "Epoch 66/100\n",
      "8000/8000 [==============================] - 0s 32us/step - loss: 0.1866 - acc: 0.9584\n",
      "Epoch 67/100\n",
      "8000/8000 [==============================] - 0s 35us/step - loss: 0.1854 - acc: 0.9586\n",
      "Epoch 68/100\n",
      "8000/8000 [==============================] - 0s 35us/step - loss: 0.1842 - acc: 0.9590\n",
      "Epoch 69/100\n",
      "8000/8000 [==============================] - 0s 39us/step - loss: 0.1829 - acc: 0.9589\n",
      "Epoch 70/100\n",
      "8000/8000 [==============================] - 0s 41us/step - loss: 0.1816 - acc: 0.9594\n",
      "Epoch 71/100\n",
      "8000/8000 [==============================] - 0s 45us/step - loss: 0.1804 - acc: 0.9595\n",
      "Epoch 72/100\n",
      "8000/8000 [==============================] - 0s 46us/step - loss: 0.1795 - acc: 0.9597\n",
      "Epoch 73/100\n",
      "8000/8000 [==============================] - 0s 38us/step - loss: 0.1784 - acc: 0.9596\n",
      "Epoch 74/100\n",
      "8000/8000 [==============================] - 0s 40us/step - loss: 0.1775 - acc: 0.9597\n",
      "Epoch 75/100\n",
      "8000/8000 [==============================] - 0s 33us/step - loss: 0.1767 - acc: 0.9603\n",
      "Epoch 76/100\n",
      "8000/8000 [==============================] - 0s 30us/step - loss: 0.1757 - acc: 0.9599\n",
      "Epoch 77/100\n",
      "8000/8000 [==============================] - 0s 29us/step - loss: 0.1745 - acc: 0.9600\n",
      "Epoch 78/100\n",
      "8000/8000 [==============================] - 0s 33us/step - loss: 0.1735 - acc: 0.9604\n",
      "Epoch 79/100\n",
      "8000/8000 [==============================] - 0s 30us/step - loss: 0.1726 - acc: 0.9601\n",
      "Epoch 80/100\n",
      "8000/8000 [==============================] - 0s 34us/step - loss: 0.1718 - acc: 0.9605\n",
      "Epoch 81/100\n",
      "8000/8000 [==============================] - 0s 30us/step - loss: 0.1708 - acc: 0.9606\n",
      "Epoch 82/100\n",
      "8000/8000 [==============================] - 0s 33us/step - loss: 0.1700 - acc: 0.9607\n",
      "Epoch 83/100\n",
      "8000/8000 [==============================] - 0s 30us/step - loss: 0.1691 - acc: 0.9609\n",
      "Epoch 84/100\n",
      "8000/8000 [==============================] - 0s 30us/step - loss: 0.1682 - acc: 0.9609\n",
      "Epoch 85/100\n",
      "8000/8000 [==============================] - 0s 30us/step - loss: 0.1674 - acc: 0.9609\n",
      "Epoch 86/100\n",
      "8000/8000 [==============================] - 0s 31us/step - loss: 0.1667 - acc: 0.9609\n",
      "Epoch 87/100\n",
      "8000/8000 [==============================] - 0s 30us/step - loss: 0.1659 - acc: 0.9607\n",
      "Epoch 88/100\n",
      "8000/8000 [==============================] - 0s 30us/step - loss: 0.1650 - acc: 0.9611\n",
      "Epoch 89/100\n",
      "8000/8000 [==============================] - 0s 30us/step - loss: 0.1643 - acc: 0.9611\n",
      "Epoch 90/100\n",
      "8000/8000 [==============================] - 0s 31us/step - loss: 0.1635 - acc: 0.9614\n",
      "Epoch 91/100\n",
      "8000/8000 [==============================] - 0s 30us/step - loss: 0.1628 - acc: 0.9617\n",
      "Epoch 92/100\n",
      "8000/8000 [==============================] - 0s 30us/step - loss: 0.1621 - acc: 0.9615\n",
      "Epoch 93/100\n",
      "8000/8000 [==============================] - 0s 31us/step - loss: 0.1614 - acc: 0.9617\n",
      "Epoch 94/100\n",
      "8000/8000 [==============================] - 0s 30us/step - loss: 0.1607 - acc: 0.9619\n",
      "Epoch 95/100\n",
      "8000/8000 [==============================] - 0s 30us/step - loss: 0.1600 - acc: 0.9618\n",
      "Epoch 96/100\n",
      "8000/8000 [==============================] - 0s 31us/step - loss: 0.1593 - acc: 0.9620\n",
      "Epoch 97/100\n",
      "8000/8000 [==============================] - 0s 30us/step - loss: 0.1587 - acc: 0.9624\n",
      "Epoch 98/100\n",
      "8000/8000 [==============================] - 0s 30us/step - loss: 0.1581 - acc: 0.9625\n",
      "Epoch 99/100\n",
      "8000/8000 [==============================] - 0s 30us/step - loss: 0.1574 - acc: 0.9624\n",
      "Epoch 100/100\n",
      "8000/8000 [==============================] - 0s 30us/step - loss: 0.1568 - acc: 0.9629\n",
      "2000/2000 [==============================] - 0s 48us/step\n",
      "[0.35901652324199679, 0.89249999999999996]\n"
     ]
    }
   ],
   "source": [
    "%run keras/00_mnist_sigmoid_keras.py"
   ]
  },
  {
   "cell_type": "markdown",
   "metadata": {},
   "source": [
    "# 01_minist_tanh"
   ]
  },
  {
   "cell_type": "code",
   "execution_count": 4,
   "metadata": {
    "collapsed": true
   },
   "outputs": [],
   "source": [
    "mnist = datasets.fetch_mldata('MNIST original', data_home='.')"
   ]
  },
  {
   "cell_type": "code",
   "execution_count": 8,
   "metadata": {
    "collapsed": true
   },
   "outputs": [],
   "source": [
    "N=10000\n",
    "indices = np.random.permutation(range(n))[:N]  # ランダムにN枚を選択\n",
    "\n",
    "X = mnist.data[indices]\n",
    "y = mnist.target[indices]"
   ]
  },
  {
   "cell_type": "code",
   "execution_count": 11,
   "metadata": {
    "collapsed": true
   },
   "outputs": [
    {
     "data": {
      "text/plain": [
       "array([[ 0.,  0.,  1., ...,  0.,  0.,  0.],\n",
       "       [ 0.,  0.,  1., ...,  0.,  0.,  0.],\n",
       "       [ 1.,  0.,  0., ...,  0.,  0.,  0.],\n",
       "       ..., \n",
       "       [ 0.,  0.,  0., ...,  0.,  0.,  0.],\n",
       "       [ 1.,  0.,  0., ...,  0.,  0.,  0.],\n",
       "       [ 0.,  1.,  0., ...,  0.,  0.,  0.]])"
      ]
     },
     "execution_count": 11,
     "metadata": {},
     "output_type": "execute_result"
    }
   ],
   "source": [
    "np.eye(10)[y.astype(int)]"
   ]
  },
  {
   "cell_type": "code",
   "execution_count": 14,
   "metadata": {
    "collapsed": true
   },
   "outputs": [
    {
     "data": {
      "text/plain": [
       "array([2, 2, 0, ..., 6, 0, 1])"
      ]
     },
     "execution_count": 14,
     "metadata": {},
     "output_type": "execute_result"
    }
   ],
   "source": [
    "y.astype(int)"
   ]
  },
  {
   "cell_type": "markdown",
   "metadata": {},
   "source": [
    "np.eye() [...]の中にリストを入れることによって取り出す行を指定できる．"
   ]
  },
  {
   "cell_type": "code",
   "execution_count": 2,
   "metadata": {},
   "outputs": [
    {
     "data": {
      "text/plain": [
       "array([[ 0.,  1.,  0.],\n",
       "       [ 0.,  0.,  1.],\n",
       "       [ 0.,  1.,  0.],\n",
       "       [ 0.,  0.,  1.]])"
      ]
     },
     "execution_count": 2,
     "metadata": {},
     "output_type": "execute_result"
    }
   ],
   "source": [
    "np.eye(3)[[1,2,1,2]]"
   ]
  },
  {
   "cell_type": "code",
   "execution_count": 23,
   "metadata": {
    "collapsed": true
   },
   "outputs": [
    {
     "data": {
      "text/plain": [
       "(3, 784)"
      ]
     },
     "execution_count": 23,
     "metadata": {},
     "output_type": "execute_result"
    }
   ],
   "source": [
    "X[[1,2,3]].shape"
   ]
  },
  {
   "cell_type": "code",
   "execution_count": 26,
   "metadata": {
    "collapsed": true
   },
   "outputs": [
    {
     "name": "stdout",
     "output_type": "stream",
     "text": [
      "epoch: 0  loss: 1.67277  accuracy: 0.51025\n",
      "epoch: 1  loss: 1.25893  accuracy: 0.68025\n",
      "epoch: 2  loss: 1.01379  accuracy: 0.744\n",
      "epoch: 3  loss: 0.859842  accuracy: 0.778375\n",
      "epoch: 4  loss: 0.750811  accuracy: 0.807\n",
      "epoch: 5  loss: 0.674457  accuracy: 0.821\n",
      "epoch: 6  loss: 0.615064  accuracy: 0.83825\n",
      "epoch: 7  loss: 0.566706  accuracy: 0.849125\n",
      "epoch: 8  loss: 0.531823  accuracy: 0.856125\n",
      "epoch: 9  loss: 0.500278  accuracy: 0.864125\n",
      "epoch: 10  loss: 0.476117  accuracy: 0.871375\n",
      "epoch: 11  loss: 0.454941  accuracy: 0.873625\n",
      "epoch: 12  loss: 0.433915  accuracy: 0.881\n",
      "epoch: 13  loss: 0.415177  accuracy: 0.887\n",
      "epoch: 14  loss: 0.400274  accuracy: 0.889\n",
      "epoch: 15  loss: 0.385812  accuracy: 0.89425\n",
      "epoch: 16  loss: 0.372084  accuracy: 0.8955\n",
      "epoch: 17  loss: 0.363385  accuracy: 0.900625\n",
      "epoch: 18  loss: 0.35677  accuracy: 0.901375\n",
      "epoch: 19  loss: 0.338634  accuracy: 0.9095\n",
      "epoch: 20  loss: 0.325776  accuracy: 0.909875\n",
      "epoch: 21  loss: 0.314382  accuracy: 0.913\n",
      "epoch: 22  loss: 0.307549  accuracy: 0.91725\n",
      "epoch: 23  loss: 0.298741  accuracy: 0.9185\n",
      "epoch: 24  loss: 0.29109  accuracy: 0.92025\n",
      "epoch: 25  loss: 0.288328  accuracy: 0.921375\n",
      "epoch: 26  loss: 0.273624  accuracy: 0.927125\n",
      "epoch: 27  loss: 0.268521  accuracy: 0.927875\n",
      "epoch: 28  loss: 0.264279  accuracy: 0.9285\n",
      "epoch: 29  loss: 0.263385  accuracy: 0.929\n",
      "epoch: 30  loss: 0.259557  accuracy: 0.931\n",
      "epoch: 31  loss: 0.248144  accuracy: 0.932375\n",
      "epoch: 32  loss: 0.246381  accuracy: 0.93375\n",
      "epoch: 33  loss: 0.238734  accuracy: 0.935\n",
      "epoch: 34  loss: 0.238126  accuracy: 0.935625\n",
      "epoch: 35  loss: 0.228846  accuracy: 0.937875\n",
      "epoch: 36  loss: 0.226875  accuracy: 0.936875\n",
      "epoch: 37  loss: 0.21964  accuracy: 0.938375\n",
      "epoch: 38  loss: 0.213246  accuracy: 0.942375\n",
      "epoch: 39  loss: 0.208322  accuracy: 0.94475\n",
      "epoch: 40  loss: 0.203278  accuracy: 0.945125\n",
      "epoch: 41  loss: 0.2008  accuracy: 0.946125\n",
      "epoch: 42  loss: 0.194683  accuracy: 0.94675\n",
      "epoch: 43  loss: 0.192377  accuracy: 0.946875\n",
      "epoch: 44  loss: 0.188171  accuracy: 0.948\n",
      "epoch: 45  loss: 0.179382  accuracy: 0.9535\n",
      "epoch: 46  loss: 0.183433  accuracy: 0.950125\n",
      "epoch: 47  loss: 0.173268  accuracy: 0.95375\n",
      "epoch: 48  loss: 0.164203  accuracy: 0.957875\n",
      "epoch: 49  loss: 0.158547  accuracy: 0.960625\n",
      "epoch: 50  loss: 0.156626  accuracy: 0.959875\n",
      "epoch: 51  loss: 0.152375  accuracy: 0.961375\n",
      "epoch: 52  loss: 0.152583  accuracy: 0.962375\n",
      "epoch: 53  loss: 0.150216  accuracy: 0.9645\n",
      "epoch: 54  loss: 0.152537  accuracy: 0.96225\n",
      "epoch: 55  loss: 0.146348  accuracy: 0.9635\n",
      "epoch: 56  loss: 0.143269  accuracy: 0.96475\n",
      "epoch: 57  loss: 0.139786  accuracy: 0.964375\n",
      "epoch: 58  loss: 0.136761  accuracy: 0.967375\n",
      "epoch: 59  loss: 0.130187  accuracy: 0.9705\n",
      "epoch: 60  loss: 0.128634  accuracy: 0.9705\n",
      "epoch: 61  loss: 0.130165  accuracy: 0.96975\n",
      "epoch: 62  loss: 0.124783  accuracy: 0.9705\n",
      "epoch: 63  loss: 0.123408  accuracy: 0.972625\n",
      "epoch: 64  loss: 0.120921  accuracy: 0.971125\n",
      "epoch: 65  loss: 0.117038  accuracy: 0.974\n",
      "epoch: 66  loss: 0.120246  accuracy: 0.97125\n",
      "epoch: 67  loss: 0.11343  accuracy: 0.97375\n",
      "epoch: 68  loss: 0.112948  accuracy: 0.973\n",
      "epoch: 69  loss: 0.109924  accuracy: 0.975375\n",
      "epoch: 70  loss: 0.107942  accuracy: 0.97575\n",
      "epoch: 71  loss: 0.106361  accuracy: 0.975375\n",
      "epoch: 72  loss: 0.104878  accuracy: 0.975625\n",
      "epoch: 73  loss: 0.0974963  accuracy: 0.97875\n",
      "epoch: 74  loss: 0.0955144  accuracy: 0.978625\n",
      "epoch: 75  loss: 0.0948498  accuracy: 0.98\n",
      "epoch: 76  loss: 0.0917155  accuracy: 0.981\n",
      "epoch: 77  loss: 0.0886122  accuracy: 0.98125\n",
      "epoch: 78  loss: 0.085877  accuracy: 0.98325\n",
      "epoch: 79  loss: 0.084482  accuracy: 0.982375\n",
      "epoch: 80  loss: 0.082192  accuracy: 0.983\n",
      "epoch: 81  loss: 0.0815305  accuracy: 0.982875\n",
      "epoch: 82  loss: 0.0812836  accuracy: 0.982\n",
      "epoch: 83  loss: 0.07941  accuracy: 0.98325\n",
      "epoch: 84  loss: 0.077178  accuracy: 0.984125\n",
      "epoch: 85  loss: 0.0748876  accuracy: 0.985625\n",
      "epoch: 86  loss: 0.0735002  accuracy: 0.985625\n",
      "epoch: 87  loss: 0.0719165  accuracy: 0.986\n",
      "epoch: 88  loss: 0.0699285  accuracy: 0.987\n",
      "epoch: 89  loss: 0.0686515  accuracy: 0.98725\n",
      "epoch: 90  loss: 0.0691713  accuracy: 0.987\n",
      "epoch: 91  loss: 0.066919  accuracy: 0.987375\n",
      "epoch: 92  loss: 0.0654187  accuracy: 0.986875\n",
      "epoch: 93  loss: 0.0636147  accuracy: 0.9885\n",
      "epoch: 94  loss: 0.0617512  accuracy: 0.9885\n",
      "epoch: 95  loss: 0.0609214  accuracy: 0.98875\n",
      "epoch: 96  loss: 0.0597474  accuracy: 0.98875\n",
      "epoch: 97  loss: 0.0587999  accuracy: 0.989625\n",
      "epoch: 98  loss: 0.0578947  accuracy: 0.99\n",
      "epoch: 99  loss: 0.0568843  accuracy: 0.99\n",
      "accuracy:  0.898\n"
     ]
    }
   ],
   "source": [
    "%run tensorflow/01_mnist_tanh_tensorflow.py"
   ]
  },
  {
   "cell_type": "code",
   "execution_count": 35,
   "metadata": {
    "collapsed": true
   },
   "outputs": [
    {
     "name": "stdout",
     "output_type": "stream",
     "text": [
      "Epoch 1/100\n",
      "8000/8000 [==============================] - 1s 128us/step - loss: 1.8716 - acc: 0.4218\n",
      "Epoch 2/100\n",
      "8000/8000 [==============================] - 0s 58us/step - loss: 1.1878 - acc: 0.7444\n",
      "Epoch 3/100\n",
      "8000/8000 [==============================] - 0s 59us/step - loss: 0.8568 - acc: 0.8099\n",
      "Epoch 4/100\n",
      "8000/8000 [==============================] - 0s 62us/step - loss: 0.6913 - acc: 0.8420\n",
      "Epoch 5/100\n",
      "8000/8000 [==============================] - 0s 57us/step - loss: 0.5904 - acc: 0.8606\n",
      "Epoch 6/100\n",
      "8000/8000 [==============================] - 0s 57us/step - loss: 0.5212 - acc: 0.8736\n",
      "Epoch 7/100\n",
      "8000/8000 [==============================] - 0s 58us/step - loss: 0.4832 - acc: 0.8794\n",
      "Epoch 8/100\n",
      "8000/8000 [==============================] - 0s 57us/step - loss: 0.4433 - acc: 0.8861\n",
      "Epoch 9/100\n",
      "8000/8000 [==============================] - 0s 57us/step - loss: 0.4058 - acc: 0.8984\n",
      "Epoch 10/100\n",
      "8000/8000 [==============================] - 0s 59us/step - loss: 0.3793 - acc: 0.9056\n",
      "Epoch 11/100\n",
      "8000/8000 [==============================] - 0s 58us/step - loss: 0.3604 - acc: 0.9065\n",
      "Epoch 12/100\n",
      "8000/8000 [==============================] - 0s 57us/step - loss: 0.3445 - acc: 0.9105\n",
      "Epoch 13/100\n",
      "8000/8000 [==============================] - 0s 57us/step - loss: 0.3345 - acc: 0.9119\n",
      "Epoch 14/100\n",
      "8000/8000 [==============================] - 0s 58us/step - loss: 0.3227 - acc: 0.9142\n",
      "Epoch 15/100\n",
      "8000/8000 [==============================] - 0s 58us/step - loss: 0.3051 - acc: 0.9214\n",
      "Epoch 16/100\n",
      "8000/8000 [==============================] - 0s 58us/step - loss: 0.2961 - acc: 0.9215\n",
      "Epoch 17/100\n",
      "8000/8000 [==============================] - 0s 60us/step - loss: 0.2876 - acc: 0.9243\n",
      "Epoch 18/100\n",
      "8000/8000 [==============================] - 0s 61us/step - loss: 0.2729 - acc: 0.9276\n",
      "Epoch 19/100\n",
      "8000/8000 [==============================] - 1s 64us/step - loss: 0.2659 - acc: 0.9300\n",
      "Epoch 20/100\n",
      "8000/8000 [==============================] - 1s 67us/step - loss: 0.2522 - acc: 0.9334\n",
      "Epoch 21/100\n",
      "8000/8000 [==============================] - 1s 65us/step - loss: 0.2437 - acc: 0.9355\n",
      "Epoch 22/100\n",
      "8000/8000 [==============================] - 0s 62us/step - loss: 0.2402 - acc: 0.9349\n",
      "Epoch 23/100\n",
      "8000/8000 [==============================] - 1s 70us/step - loss: 0.2324 - acc: 0.9365\n",
      "Epoch 24/100\n",
      "8000/8000 [==============================] - 1s 74us/step - loss: 0.2262 - acc: 0.9380\n",
      "Epoch 25/100\n",
      "8000/8000 [==============================] - 1s 92us/step - loss: 0.2126 - acc: 0.9420\n",
      "Epoch 26/100\n",
      "8000/8000 [==============================] - 1s 76us/step - loss: 0.2045 - acc: 0.9470\n",
      "Epoch 27/100\n",
      "8000/8000 [==============================] - 1s 72us/step - loss: 0.2027 - acc: 0.9469\n",
      "Epoch 28/100\n",
      "8000/8000 [==============================] - 1s 76us/step - loss: 0.2034 - acc: 0.9457\n",
      "Epoch 29/100\n",
      "8000/8000 [==============================] - 1s 67us/step - loss: 0.1919 - acc: 0.9492\n",
      "Epoch 30/100\n",
      "8000/8000 [==============================] - 1s 64us/step - loss: 0.1841 - acc: 0.9535\n",
      "Epoch 31/100\n",
      "8000/8000 [==============================] - 1s 63us/step - loss: 0.1802 - acc: 0.9529\n",
      "Epoch 32/100\n",
      "8000/8000 [==============================] - 1s 72us/step - loss: 0.1800 - acc: 0.9540\n",
      "Epoch 33/100\n",
      "8000/8000 [==============================] - 1s 70us/step - loss: 0.1710 - acc: 0.9576\n",
      "Epoch 34/100\n",
      "8000/8000 [==============================] - 1s 84us/step - loss: 0.1678 - acc: 0.9591\n",
      "Epoch 35/100\n",
      "8000/8000 [==============================] - 1s 63us/step - loss: 0.1665 - acc: 0.9590\n",
      "Epoch 36/100\n",
      "8000/8000 [==============================] - 1s 74us/step - loss: 0.1665 - acc: 0.9571\n",
      "Epoch 37/100\n",
      "8000/8000 [==============================] - 1s 80us/step - loss: 0.1551 - acc: 0.9615\n",
      "Epoch 38/100\n",
      "8000/8000 [==============================] - 1s 71us/step - loss: 0.1473 - acc: 0.9641\n",
      "Epoch 39/100\n",
      "8000/8000 [==============================] - 0s 61us/step - loss: 0.1429 - acc: 0.9644\n",
      "Epoch 40/100\n",
      "8000/8000 [==============================] - 0s 62us/step - loss: 0.1387 - acc: 0.9653\n",
      "Epoch 41/100\n",
      "8000/8000 [==============================] - 1s 64us/step - loss: 0.1348 - acc: 0.9679\n",
      "Epoch 42/100\n",
      "8000/8000 [==============================] - 1s 73us/step - loss: 0.1357 - acc: 0.9659\n",
      "Epoch 43/100\n",
      "8000/8000 [==============================] - 1s 66us/step - loss: 0.1302 - acc: 0.9681\n",
      "Epoch 44/100\n",
      "8000/8000 [==============================] - 1s 72us/step - loss: 0.1256 - acc: 0.9710\n",
      "Epoch 45/100\n",
      "8000/8000 [==============================] - 1s 63us/step - loss: 0.1244 - acc: 0.9705\n",
      "Epoch 46/100\n",
      "8000/8000 [==============================] - 1s 70us/step - loss: 0.1172 - acc: 0.9735\n",
      "Epoch 47/100\n",
      "8000/8000 [==============================] - 1s 64us/step - loss: 0.1112 - acc: 0.9755\n",
      "Epoch 48/100\n",
      "8000/8000 [==============================] - 1s 67us/step - loss: 0.1075 - acc: 0.9759\n",
      "Epoch 49/100\n",
      "8000/8000 [==============================] - 0s 62us/step - loss: 0.1036 - acc: 0.9775\n",
      "Epoch 50/100\n",
      "8000/8000 [==============================] - 1s 67us/step - loss: 0.1018 - acc: 0.9769\n",
      "Epoch 51/100\n",
      "8000/8000 [==============================] - 1s 64us/step - loss: 0.0977 - acc: 0.9783\n",
      "Epoch 52/100\n",
      "8000/8000 [==============================] - 1s 75us/step - loss: 0.0988 - acc: 0.9770\n",
      "Epoch 53/100\n",
      "8000/8000 [==============================] - 1s 64us/step - loss: 0.0910 - acc: 0.9794\n",
      "Epoch 54/100\n",
      "8000/8000 [==============================] - 1s 71us/step - loss: 0.0975 - acc: 0.9780\n",
      "Epoch 55/100\n",
      "8000/8000 [==============================] - 1s 63us/step - loss: 0.0906 - acc: 0.9794\n",
      "Epoch 56/100\n",
      "8000/8000 [==============================] - 1s 70us/step - loss: 0.0849 - acc: 0.9815\n",
      "Epoch 57/100\n",
      "8000/8000 [==============================] - 1s 64us/step - loss: 0.0857 - acc: 0.9814\n",
      "Epoch 58/100\n",
      "8000/8000 [==============================] - 1s 68us/step - loss: 0.0863 - acc: 0.9790\n",
      "Epoch 59/100\n",
      "8000/8000 [==============================] - 0s 61us/step - loss: 0.0848 - acc: 0.9815\n",
      "Epoch 60/100\n",
      "8000/8000 [==============================] - 0s 62us/step - loss: 0.0801 - acc: 0.9830\n",
      "Epoch 61/100\n",
      "8000/8000 [==============================] - 1s 67us/step - loss: 0.0759 - acc: 0.9845\n",
      "Epoch 62/100\n",
      "8000/8000 [==============================] - 1s 65us/step - loss: 0.0727 - acc: 0.9843\n",
      "Epoch 63/100\n",
      "8000/8000 [==============================] - 1s 65us/step - loss: 0.0755 - acc: 0.9833\n",
      "Epoch 64/100\n",
      "8000/8000 [==============================] - 1s 66us/step - loss: 0.0700 - acc: 0.9864\n",
      "Epoch 65/100\n",
      "8000/8000 [==============================] - 0s 61us/step - loss: 0.0668 - acc: 0.9866\n",
      "Epoch 66/100\n",
      "8000/8000 [==============================] - 1s 63us/step - loss: 0.0649 - acc: 0.9878\n",
      "Epoch 67/100\n",
      "8000/8000 [==============================] - 1s 82us/step - loss: 0.0647 - acc: 0.9866\n",
      "Epoch 68/100\n",
      "8000/8000 [==============================] - 1s 72us/step - loss: 0.0597 - acc: 0.9900\n",
      "Epoch 69/100\n",
      "8000/8000 [==============================] - 1s 88us/step - loss: 0.0557 - acc: 0.9905\n",
      "Epoch 70/100\n",
      "8000/8000 [==============================] - 1s 68us/step - loss: 0.0551 - acc: 0.9903\n",
      "Epoch 71/100\n",
      "8000/8000 [==============================] - 1s 64us/step - loss: 0.0540 - acc: 0.9909\n",
      "Epoch 72/100\n",
      "8000/8000 [==============================] - 1s 64us/step - loss: 0.0524 - acc: 0.9911\n",
      "Epoch 73/100\n",
      "8000/8000 [==============================] - 0s 62us/step - loss: 0.0498 - acc: 0.9914\n",
      "Epoch 74/100\n",
      "8000/8000 [==============================] - 0s 62us/step - loss: 0.0473 - acc: 0.9925\n",
      "Epoch 75/100\n",
      "8000/8000 [==============================] - 1s 66us/step - loss: 0.0467 - acc: 0.9923\n",
      "Epoch 76/100\n",
      "8000/8000 [==============================] - 1s 66us/step - loss: 0.0447 - acc: 0.9926\n",
      "Epoch 77/100\n",
      "8000/8000 [==============================] - 1s 64us/step - loss: 0.0425 - acc: 0.9935\n",
      "Epoch 78/100\n",
      "8000/8000 [==============================] - 1s 68us/step - loss: 0.0414 - acc: 0.9936\n",
      "Epoch 79/100\n",
      "8000/8000 [==============================] - 1s 67us/step - loss: 0.0413 - acc: 0.9930\n",
      "Epoch 80/100\n",
      "8000/8000 [==============================] - 1s 69us/step - loss: 0.0388 - acc: 0.9941\n",
      "Epoch 81/100\n",
      "8000/8000 [==============================] - 1s 71us/step - loss: 0.0379 - acc: 0.9940\n",
      "Epoch 82/100\n",
      "8000/8000 [==============================] - 1s 77us/step - loss: 0.0360 - acc: 0.9948\n",
      "Epoch 83/100\n",
      "8000/8000 [==============================] - 1s 64us/step - loss: 0.0378 - acc: 0.9941\n",
      "Epoch 84/100\n",
      "8000/8000 [==============================] - 1s 73us/step - loss: 0.0368 - acc: 0.9938\n",
      "Epoch 85/100\n",
      "8000/8000 [==============================] - 1s 67us/step - loss: 0.0355 - acc: 0.9944\n",
      "Epoch 86/100\n",
      "8000/8000 [==============================] - 1s 67us/step - loss: 0.0344 - acc: 0.9948\n",
      "Epoch 87/100\n",
      "8000/8000 [==============================] - 1s 64us/step - loss: 0.0330 - acc: 0.9951\n",
      "Epoch 88/100\n",
      "8000/8000 [==============================] - 0s 56us/step - loss: 0.0323 - acc: 0.9953\n",
      "Epoch 89/100\n",
      "8000/8000 [==============================] - 0s 62us/step - loss: 0.0315 - acc: 0.9953\n",
      "Epoch 90/100\n",
      "8000/8000 [==============================] - 1s 71us/step - loss: 0.0306 - acc: 0.9955\n",
      "Epoch 91/100\n",
      "8000/8000 [==============================] - 0s 59us/step - loss: 0.0303 - acc: 0.9955\n",
      "Epoch 92/100\n",
      "8000/8000 [==============================] - 0s 57us/step - loss: 0.0294 - acc: 0.9959\n",
      "Epoch 93/100\n",
      "8000/8000 [==============================] - 0s 56us/step - loss: 0.0289 - acc: 0.9960\n",
      "Epoch 94/100\n",
      "8000/8000 [==============================] - 0s 57us/step - loss: 0.0287 - acc: 0.9960\n",
      "Epoch 95/100\n",
      "8000/8000 [==============================] - 0s 56us/step - loss: 0.0280 - acc: 0.9961\n",
      "Epoch 96/100\n",
      "8000/8000 [==============================] - 1s 63us/step - loss: 0.0271 - acc: 0.9966\n",
      "Epoch 97/100\n",
      "8000/8000 [==============================] - 1s 72us/step - loss: 0.0266 - acc: 0.9965\n",
      "Epoch 98/100\n",
      "8000/8000 [==============================] - 1s 64us/step - loss: 0.0261 - acc: 0.9966\n",
      "Epoch 99/100\n",
      "8000/8000 [==============================] - 1s 63us/step - loss: 0.0257 - acc: 0.9968\n",
      "Epoch 100/100\n",
      "8000/8000 [==============================] - 1s 74us/step - loss: 0.0253 - acc: 0.9969\n",
      "2000/2000 [==============================] - 0s 130us/step\n",
      "[0.29171152645349502, 0.92000000000000004]\n"
     ]
    }
   ],
   "source": [
    "%run keras/01_mnist_tanh_keras.py"
   ]
  },
  {
   "cell_type": "code",
   "execution_count": null,
   "metadata": {
    "collapsed": true
   },
   "outputs": [],
   "source": []
  },
  {
   "cell_type": "markdown",
   "metadata": {},
   "source": [
    "# 02_mnist_relu"
   ]
  },
  {
   "cell_type": "code",
   "execution_count": 39,
   "metadata": {
    "collapsed": true
   },
   "outputs": [
    {
     "name": "stdout",
     "output_type": "stream",
     "text": [
      "Epoch 1/50\n",
      "8000/8000 [==============================] - 1s 131us/step - loss: 14.3928 - acc: 0.1055\n",
      "Epoch 2/50\n",
      "8000/8000 [==============================] - 0s 56us/step - loss: 14.5184 - acc: 0.0993\n",
      "Epoch 3/50\n",
      "8000/8000 [==============================] - 0s 56us/step - loss: 14.5184 - acc: 0.0992\n",
      "Epoch 4/50\n",
      "8000/8000 [==============================] - 0s 57us/step - loss: 14.5184 - acc: 0.0993\n",
      "Epoch 5/50\n",
      "8000/8000 [==============================] - 0s 60us/step - loss: 14.5184 - acc: 0.0992\n",
      "Epoch 6/50\n",
      "8000/8000 [==============================] - 0s 60us/step - loss: 14.5184 - acc: 0.0992\n",
      "Epoch 7/50\n",
      "8000/8000 [==============================] - 0s 62us/step - loss: 14.5184 - acc: 0.0992\n",
      "Epoch 8/50\n",
      "8000/8000 [==============================] - 1s 67us/step - loss: 14.5184 - acc: 0.0992\n",
      "Epoch 9/50\n",
      "8000/8000 [==============================] - 1s 63us/step - loss: 14.5184 - acc: 0.0992\n",
      "Epoch 10/50\n",
      "4800/8000 [=================>............] - ETA: 0s - loss: 14.5600 - acc: 0.0967"
     ]
    },
    {
     "ename": "KeyboardInterrupt",
     "evalue": "",
     "output_type": "error",
     "traceback": [
      "\u001b[0;31m---------------------------------------------------------------------------\u001b[0m",
      "\u001b[0;31mKeyboardInterrupt\u001b[0m                         Traceback (most recent call last)",
      "\u001b[0;32m~/Documents/Study/deeplearning-tensorflow-keras/4/keras/02_mnist_relu_keras.py\u001b[0m in \u001b[0;36m<module>\u001b[0;34m()\u001b[0m\n\u001b[1;32m     59\u001b[0m \u001b[0mbatch_size\u001b[0m \u001b[0;34m=\u001b[0m \u001b[0;36m200\u001b[0m\u001b[0;34m\u001b[0m\u001b[0m\n\u001b[1;32m     60\u001b[0m \u001b[0;34m\u001b[0m\u001b[0m\n\u001b[0;32m---> 61\u001b[0;31m \u001b[0mmodel\u001b[0m\u001b[0;34m.\u001b[0m\u001b[0mfit\u001b[0m\u001b[0;34m(\u001b[0m\u001b[0mX_train\u001b[0m\u001b[0;34m,\u001b[0m \u001b[0mY_train\u001b[0m\u001b[0;34m,\u001b[0m \u001b[0mepochs\u001b[0m\u001b[0;34m=\u001b[0m\u001b[0mepochs\u001b[0m\u001b[0;34m,\u001b[0m \u001b[0mbatch_size\u001b[0m\u001b[0;34m=\u001b[0m\u001b[0mbatch_size\u001b[0m\u001b[0;34m)\u001b[0m\u001b[0;34m\u001b[0m\u001b[0m\n\u001b[0m\u001b[1;32m     62\u001b[0m \u001b[0;34m\u001b[0m\u001b[0m\n\u001b[1;32m     63\u001b[0m '''\n",
      "\u001b[0;32m~/.pyenv/versions/anaconda3-5.0.0/envs/tensorflow/lib/python3.5/site-packages/keras/models.py\u001b[0m in \u001b[0;36mfit\u001b[0;34m(self, x, y, batch_size, epochs, verbose, callbacks, validation_split, validation_data, shuffle, class_weight, sample_weight, initial_epoch, steps_per_epoch, validation_steps, **kwargs)\u001b[0m\n\u001b[1;32m    958\u001b[0m                               \u001b[0minitial_epoch\u001b[0m\u001b[0;34m=\u001b[0m\u001b[0minitial_epoch\u001b[0m\u001b[0;34m,\u001b[0m\u001b[0;34m\u001b[0m\u001b[0m\n\u001b[1;32m    959\u001b[0m                               \u001b[0msteps_per_epoch\u001b[0m\u001b[0;34m=\u001b[0m\u001b[0msteps_per_epoch\u001b[0m\u001b[0;34m,\u001b[0m\u001b[0;34m\u001b[0m\u001b[0m\n\u001b[0;32m--> 960\u001b[0;31m                               validation_steps=validation_steps)\n\u001b[0m\u001b[1;32m    961\u001b[0m \u001b[0;34m\u001b[0m\u001b[0m\n\u001b[1;32m    962\u001b[0m     def evaluate(self, x, y, batch_size=32, verbose=1,\n",
      "\u001b[0;32m~/.pyenv/versions/anaconda3-5.0.0/envs/tensorflow/lib/python3.5/site-packages/keras/engine/training.py\u001b[0m in \u001b[0;36mfit\u001b[0;34m(self, x, y, batch_size, epochs, verbose, callbacks, validation_split, validation_data, shuffle, class_weight, sample_weight, initial_epoch, steps_per_epoch, validation_steps, **kwargs)\u001b[0m\n\u001b[1;32m   1648\u001b[0m                               \u001b[0minitial_epoch\u001b[0m\u001b[0;34m=\u001b[0m\u001b[0minitial_epoch\u001b[0m\u001b[0;34m,\u001b[0m\u001b[0;34m\u001b[0m\u001b[0m\n\u001b[1;32m   1649\u001b[0m                               \u001b[0msteps_per_epoch\u001b[0m\u001b[0;34m=\u001b[0m\u001b[0msteps_per_epoch\u001b[0m\u001b[0;34m,\u001b[0m\u001b[0;34m\u001b[0m\u001b[0m\n\u001b[0;32m-> 1650\u001b[0;31m                               validation_steps=validation_steps)\n\u001b[0m\u001b[1;32m   1651\u001b[0m \u001b[0;34m\u001b[0m\u001b[0m\n\u001b[1;32m   1652\u001b[0m     def evaluate(self, x=None, y=None,\n",
      "\u001b[0;32m~/.pyenv/versions/anaconda3-5.0.0/envs/tensorflow/lib/python3.5/site-packages/keras/engine/training.py\u001b[0m in \u001b[0;36m_fit_loop\u001b[0;34m(self, f, ins, out_labels, batch_size, epochs, verbose, callbacks, val_f, val_ins, shuffle, callback_metrics, initial_epoch, steps_per_epoch, validation_steps)\u001b[0m\n\u001b[1;32m   1211\u001b[0m                     \u001b[0mbatch_logs\u001b[0m\u001b[0;34m[\u001b[0m\u001b[0;34m'size'\u001b[0m\u001b[0;34m]\u001b[0m \u001b[0;34m=\u001b[0m \u001b[0mlen\u001b[0m\u001b[0;34m(\u001b[0m\u001b[0mbatch_ids\u001b[0m\u001b[0;34m)\u001b[0m\u001b[0;34m\u001b[0m\u001b[0m\n\u001b[1;32m   1212\u001b[0m                     \u001b[0mcallbacks\u001b[0m\u001b[0;34m.\u001b[0m\u001b[0mon_batch_begin\u001b[0m\u001b[0;34m(\u001b[0m\u001b[0mbatch_index\u001b[0m\u001b[0;34m,\u001b[0m \u001b[0mbatch_logs\u001b[0m\u001b[0;34m)\u001b[0m\u001b[0;34m\u001b[0m\u001b[0m\n\u001b[0;32m-> 1213\u001b[0;31m                     \u001b[0mouts\u001b[0m \u001b[0;34m=\u001b[0m \u001b[0mf\u001b[0m\u001b[0;34m(\u001b[0m\u001b[0mins_batch\u001b[0m\u001b[0;34m)\u001b[0m\u001b[0;34m\u001b[0m\u001b[0m\n\u001b[0m\u001b[1;32m   1214\u001b[0m                     \u001b[0;32mif\u001b[0m \u001b[0;32mnot\u001b[0m \u001b[0misinstance\u001b[0m\u001b[0;34m(\u001b[0m\u001b[0mouts\u001b[0m\u001b[0;34m,\u001b[0m \u001b[0mlist\u001b[0m\u001b[0;34m)\u001b[0m\u001b[0;34m:\u001b[0m\u001b[0;34m\u001b[0m\u001b[0m\n\u001b[1;32m   1215\u001b[0m                         \u001b[0mouts\u001b[0m \u001b[0;34m=\u001b[0m \u001b[0;34m[\u001b[0m\u001b[0mouts\u001b[0m\u001b[0;34m]\u001b[0m\u001b[0;34m\u001b[0m\u001b[0m\n",
      "\u001b[0;32m~/.pyenv/versions/anaconda3-5.0.0/envs/tensorflow/lib/python3.5/site-packages/keras/backend/tensorflow_backend.py\u001b[0m in \u001b[0;36m__call__\u001b[0;34m(self, inputs)\u001b[0m\n\u001b[1;32m   2350\u001b[0m         \u001b[0msession\u001b[0m \u001b[0;34m=\u001b[0m \u001b[0mget_session\u001b[0m\u001b[0;34m(\u001b[0m\u001b[0;34m)\u001b[0m\u001b[0;34m\u001b[0m\u001b[0m\n\u001b[1;32m   2351\u001b[0m         updated = session.run(fetches=fetches, feed_dict=feed_dict,\n\u001b[0;32m-> 2352\u001b[0;31m                               **self.session_kwargs)\n\u001b[0m\u001b[1;32m   2353\u001b[0m         \u001b[0;32mreturn\u001b[0m \u001b[0mupdated\u001b[0m\u001b[0;34m[\u001b[0m\u001b[0;34m:\u001b[0m\u001b[0mlen\u001b[0m\u001b[0;34m(\u001b[0m\u001b[0mself\u001b[0m\u001b[0;34m.\u001b[0m\u001b[0moutputs\u001b[0m\u001b[0;34m)\u001b[0m\u001b[0;34m]\u001b[0m\u001b[0;34m\u001b[0m\u001b[0m\n\u001b[1;32m   2354\u001b[0m \u001b[0;34m\u001b[0m\u001b[0m\n",
      "\u001b[0;32m~/.pyenv/versions/anaconda3-5.0.0/envs/tensorflow/lib/python3.5/site-packages/tensorflow/python/client/session.py\u001b[0m in \u001b[0;36mrun\u001b[0;34m(self, fetches, feed_dict, options, run_metadata)\u001b[0m\n\u001b[1;32m    887\u001b[0m     \u001b[0;32mtry\u001b[0m\u001b[0;34m:\u001b[0m\u001b[0;34m\u001b[0m\u001b[0m\n\u001b[1;32m    888\u001b[0m       result = self._run(None, fetches, feed_dict, options_ptr,\n\u001b[0;32m--> 889\u001b[0;31m                          run_metadata_ptr)\n\u001b[0m\u001b[1;32m    890\u001b[0m       \u001b[0;32mif\u001b[0m \u001b[0mrun_metadata\u001b[0m\u001b[0;34m:\u001b[0m\u001b[0;34m\u001b[0m\u001b[0m\n\u001b[1;32m    891\u001b[0m         \u001b[0mproto_data\u001b[0m \u001b[0;34m=\u001b[0m \u001b[0mtf_session\u001b[0m\u001b[0;34m.\u001b[0m\u001b[0mTF_GetBuffer\u001b[0m\u001b[0;34m(\u001b[0m\u001b[0mrun_metadata_ptr\u001b[0m\u001b[0;34m)\u001b[0m\u001b[0;34m\u001b[0m\u001b[0m\n",
      "\u001b[0;32m~/.pyenv/versions/anaconda3-5.0.0/envs/tensorflow/lib/python3.5/site-packages/tensorflow/python/client/session.py\u001b[0m in \u001b[0;36m_run\u001b[0;34m(self, handle, fetches, feed_dict, options, run_metadata)\u001b[0m\n\u001b[1;32m   1118\u001b[0m     \u001b[0;32mif\u001b[0m \u001b[0mfinal_fetches\u001b[0m \u001b[0;32mor\u001b[0m \u001b[0mfinal_targets\u001b[0m \u001b[0;32mor\u001b[0m \u001b[0;34m(\u001b[0m\u001b[0mhandle\u001b[0m \u001b[0;32mand\u001b[0m \u001b[0mfeed_dict_tensor\u001b[0m\u001b[0;34m)\u001b[0m\u001b[0;34m:\u001b[0m\u001b[0;34m\u001b[0m\u001b[0m\n\u001b[1;32m   1119\u001b[0m       results = self._do_run(handle, final_targets, final_fetches,\n\u001b[0;32m-> 1120\u001b[0;31m                              feed_dict_tensor, options, run_metadata)\n\u001b[0m\u001b[1;32m   1121\u001b[0m     \u001b[0;32melse\u001b[0m\u001b[0;34m:\u001b[0m\u001b[0;34m\u001b[0m\u001b[0m\n\u001b[1;32m   1122\u001b[0m       \u001b[0mresults\u001b[0m \u001b[0;34m=\u001b[0m \u001b[0;34m[\u001b[0m\u001b[0;34m]\u001b[0m\u001b[0;34m\u001b[0m\u001b[0m\n",
      "\u001b[0;32m~/.pyenv/versions/anaconda3-5.0.0/envs/tensorflow/lib/python3.5/site-packages/tensorflow/python/client/session.py\u001b[0m in \u001b[0;36m_do_run\u001b[0;34m(self, handle, target_list, fetch_list, feed_dict, options, run_metadata)\u001b[0m\n\u001b[1;32m   1315\u001b[0m     \u001b[0;32mif\u001b[0m \u001b[0mhandle\u001b[0m \u001b[0;32mis\u001b[0m \u001b[0;32mNone\u001b[0m\u001b[0;34m:\u001b[0m\u001b[0;34m\u001b[0m\u001b[0m\n\u001b[1;32m   1316\u001b[0m       return self._do_call(_run_fn, self._session, feeds, fetches, targets,\n\u001b[0;32m-> 1317\u001b[0;31m                            options, run_metadata)\n\u001b[0m\u001b[1;32m   1318\u001b[0m     \u001b[0;32melse\u001b[0m\u001b[0;34m:\u001b[0m\u001b[0;34m\u001b[0m\u001b[0m\n\u001b[1;32m   1319\u001b[0m       \u001b[0;32mreturn\u001b[0m \u001b[0mself\u001b[0m\u001b[0;34m.\u001b[0m\u001b[0m_do_call\u001b[0m\u001b[0;34m(\u001b[0m\u001b[0m_prun_fn\u001b[0m\u001b[0;34m,\u001b[0m \u001b[0mself\u001b[0m\u001b[0;34m.\u001b[0m\u001b[0m_session\u001b[0m\u001b[0;34m,\u001b[0m \u001b[0mhandle\u001b[0m\u001b[0;34m,\u001b[0m \u001b[0mfeeds\u001b[0m\u001b[0;34m,\u001b[0m \u001b[0mfetches\u001b[0m\u001b[0;34m)\u001b[0m\u001b[0;34m\u001b[0m\u001b[0m\n",
      "\u001b[0;32m~/.pyenv/versions/anaconda3-5.0.0/envs/tensorflow/lib/python3.5/site-packages/tensorflow/python/client/session.py\u001b[0m in \u001b[0;36m_do_call\u001b[0;34m(self, fn, *args)\u001b[0m\n\u001b[1;32m   1321\u001b[0m   \u001b[0;32mdef\u001b[0m \u001b[0m_do_call\u001b[0m\u001b[0;34m(\u001b[0m\u001b[0mself\u001b[0m\u001b[0;34m,\u001b[0m \u001b[0mfn\u001b[0m\u001b[0;34m,\u001b[0m \u001b[0;34m*\u001b[0m\u001b[0margs\u001b[0m\u001b[0;34m)\u001b[0m\u001b[0;34m:\u001b[0m\u001b[0;34m\u001b[0m\u001b[0m\n\u001b[1;32m   1322\u001b[0m     \u001b[0;32mtry\u001b[0m\u001b[0;34m:\u001b[0m\u001b[0;34m\u001b[0m\u001b[0m\n\u001b[0;32m-> 1323\u001b[0;31m       \u001b[0;32mreturn\u001b[0m \u001b[0mfn\u001b[0m\u001b[0;34m(\u001b[0m\u001b[0;34m*\u001b[0m\u001b[0margs\u001b[0m\u001b[0;34m)\u001b[0m\u001b[0;34m\u001b[0m\u001b[0m\n\u001b[0m\u001b[1;32m   1324\u001b[0m     \u001b[0;32mexcept\u001b[0m \u001b[0merrors\u001b[0m\u001b[0;34m.\u001b[0m\u001b[0mOpError\u001b[0m \u001b[0;32mas\u001b[0m \u001b[0me\u001b[0m\u001b[0;34m:\u001b[0m\u001b[0;34m\u001b[0m\u001b[0m\n\u001b[1;32m   1325\u001b[0m       \u001b[0mmessage\u001b[0m \u001b[0;34m=\u001b[0m \u001b[0mcompat\u001b[0m\u001b[0;34m.\u001b[0m\u001b[0mas_text\u001b[0m\u001b[0;34m(\u001b[0m\u001b[0me\u001b[0m\u001b[0;34m.\u001b[0m\u001b[0mmessage\u001b[0m\u001b[0;34m)\u001b[0m\u001b[0;34m\u001b[0m\u001b[0m\n",
      "\u001b[0;32m~/.pyenv/versions/anaconda3-5.0.0/envs/tensorflow/lib/python3.5/site-packages/tensorflow/python/client/session.py\u001b[0m in \u001b[0;36m_run_fn\u001b[0;34m(session, feed_dict, fetch_list, target_list, options, run_metadata)\u001b[0m\n\u001b[1;32m   1300\u001b[0m           return tf_session.TF_Run(session, options,\n\u001b[1;32m   1301\u001b[0m                                    \u001b[0mfeed_dict\u001b[0m\u001b[0;34m,\u001b[0m \u001b[0mfetch_list\u001b[0m\u001b[0;34m,\u001b[0m \u001b[0mtarget_list\u001b[0m\u001b[0;34m,\u001b[0m\u001b[0;34m\u001b[0m\u001b[0m\n\u001b[0;32m-> 1302\u001b[0;31m                                    status, run_metadata)\n\u001b[0m\u001b[1;32m   1303\u001b[0m \u001b[0;34m\u001b[0m\u001b[0m\n\u001b[1;32m   1304\u001b[0m     \u001b[0;32mdef\u001b[0m \u001b[0m_prun_fn\u001b[0m\u001b[0;34m(\u001b[0m\u001b[0msession\u001b[0m\u001b[0;34m,\u001b[0m \u001b[0mhandle\u001b[0m\u001b[0;34m,\u001b[0m \u001b[0mfeed_dict\u001b[0m\u001b[0;34m,\u001b[0m \u001b[0mfetch_list\u001b[0m\u001b[0;34m)\u001b[0m\u001b[0;34m:\u001b[0m\u001b[0;34m\u001b[0m\u001b[0m\n",
      "\u001b[0;31mKeyboardInterrupt\u001b[0m: "
     ]
    }
   ],
   "source": [
    "%run keras/02_mnist_relu_keras.py"
   ]
  },
  {
   "cell_type": "markdown",
   "metadata": {},
   "source": [
    "なぜkerasだとうまくいかないのか？\n",
    "tensorflowでは学習できている．"
   ]
  },
  {
   "cell_type": "code",
   "execution_count": 41,
   "metadata": {
    "collapsed": true
   },
   "outputs": [
    {
     "name": "stderr",
     "output_type": "stream",
     "text": [
      "/Users/yohei/.pyenv/versions/anaconda3-5.0.0/envs/tensorflow/lib/python3.5/site-packages/sklearn/model_selection/_split.py:2026: FutureWarning: From version 0.21, test_size will always complement train_size unless both are specified.\n",
      "  FutureWarning)\n"
     ]
    },
    {
     "name": "stdout",
     "output_type": "stream",
     "text": [
      "epoch: 0  loss: 2.30218  accuracy: 0.11525\n",
      "epoch: 1  loss: 2.30186  accuracy: 0.11525\n",
      "epoch: 2  loss: 2.30154  accuracy: 0.11525\n",
      "epoch: 3  loss: 2.30119  accuracy: 0.11525\n",
      "epoch: 4  loss: 2.30081  accuracy: 0.11525\n",
      "epoch: 5  loss: 2.30037  accuracy: 0.11525\n",
      "epoch: 6  loss: 2.29982  accuracy: 0.11525\n",
      "epoch: 7  loss: 2.29912  accuracy: 0.11525\n",
      "epoch: 8  loss: 2.29816  accuracy: 0.11525\n",
      "epoch: 9  loss: 2.29672  accuracy: 0.116125\n",
      "epoch: 10  loss: 2.29433  accuracy: 0.1355\n",
      "epoch: 11  loss: 2.28965  accuracy: 0.215375\n",
      "epoch: 12  loss: 2.27754  accuracy: 0.302\n",
      "epoch: 13  loss: 2.22574  accuracy: 0.1275\n",
      "epoch: 14  loss: 2.07688  accuracy: 0.19675\n",
      "epoch: 15  loss: 1.91016  accuracy: 0.399625\n",
      "epoch: 16  loss: 1.75034  accuracy: 0.35925\n",
      "epoch: 17  loss: 1.16499  accuracy: 0.593375\n",
      "epoch: 18  loss: 0.846156  accuracy: 0.728125\n",
      "epoch: 19  loss: 1.183  accuracy: 0.552375\n",
      "epoch: 20  loss: 0.592018  accuracy: 0.816625\n",
      "epoch: 21  loss: 0.533646  accuracy: 0.836375\n",
      "epoch: 22  loss: 0.491209  accuracy: 0.845\n",
      "epoch: 23  loss: 0.568117  accuracy: 0.820125\n",
      "epoch: 24  loss: 0.408906  accuracy: 0.884\n",
      "epoch: 25  loss: 0.373283  accuracy: 0.888125\n",
      "epoch: 26  loss: 0.359253  accuracy: 0.896\n",
      "epoch: 27  loss: 0.31717  accuracy: 0.905625\n",
      "epoch: 28  loss: 0.289202  accuracy: 0.915375\n",
      "epoch: 29  loss: 0.29215  accuracy: 0.91325\n",
      "epoch: 30  loss: 0.242194  accuracy: 0.932375\n",
      "epoch: 31  loss: 0.212421  accuracy: 0.941875\n",
      "epoch: 32  loss: 0.206186  accuracy: 0.943875\n",
      "epoch: 33  loss: 0.173162  accuracy: 0.95175\n",
      "epoch: 34  loss: 0.187772  accuracy: 0.94575\n",
      "epoch: 35  loss: 0.141107  accuracy: 0.962\n",
      "epoch: 36  loss: 0.129226  accuracy: 0.96475\n",
      "epoch: 37  loss: 0.120724  accuracy: 0.9675\n",
      "epoch: 38  loss: 0.40437  accuracy: 0.888125\n",
      "epoch: 39  loss: 0.117652  accuracy: 0.97\n",
      "epoch: 40  loss: 0.0945912  accuracy: 0.97625\n",
      "epoch: 41  loss: 0.0822784  accuracy: 0.9815\n",
      "epoch: 42  loss: 0.0742225  accuracy: 0.98375\n",
      "epoch: 43  loss: 0.067468  accuracy: 0.984625\n",
      "epoch: 44  loss: 0.0571465  accuracy: 0.988\n",
      "epoch: 45  loss: 0.0498138  accuracy: 0.990625\n",
      "epoch: 46  loss: 0.0422483  accuracy: 0.992875\n",
      "epoch: 47  loss: 0.0428244  accuracy: 0.99225\n",
      "epoch: 48  loss: 0.0348679  accuracy: 0.99475\n",
      "epoch: 49  loss: 0.0317567  accuracy: 0.995\n",
      "accuracy:  0.939\n"
     ]
    }
   ],
   "source": [
    "% run tensorflow/02_mnist_relu_tensorflow.py"
   ]
  },
  {
   "cell_type": "code",
   "execution_count": 43,
   "metadata": {
    "collapsed": true
   },
   "outputs": [
    {
     "data": {
      "text/plain": [
       "<tf.Tensor 'Equal_3:0' shape=(?,) dtype=bool>"
      ]
     },
     "execution_count": 43,
     "metadata": {},
     "output_type": "execute_result"
    }
   ],
   "source": [
    "correct_prediction"
   ]
  },
  {
   "cell_type": "code",
   "execution_count": null,
   "metadata": {
    "collapsed": true
   },
   "outputs": [],
   "source": []
  },
  {
   "cell_type": "markdown",
   "metadata": {},
   "source": [
    "# 03_mnist_lrelu"
   ]
  },
  {
   "cell_type": "code",
   "execution_count": 2,
   "metadata": {
    "collapsed": true
   },
   "outputs": [
    {
     "name": "stderr",
     "output_type": "stream",
     "text": [
      "/Users/yohei/.pyenv/versions/anaconda3-5.0.0/envs/tensorflow/lib/python3.5/site-packages/sklearn/model_selection/_split.py:2026: FutureWarning: From version 0.21, test_size will always complement train_size unless both are specified.\n",
      "  FutureWarning)\n"
     ]
    },
    {
     "name": "stdout",
     "output_type": "stream",
     "text": [
      "epoch: 0  loss: 2.30211  accuracy: 0.1155\n",
      "epoch: 1  loss: 2.30162  accuracy: 0.11525\n",
      "epoch: 2  loss: 2.3011  accuracy: 0.11525\n",
      "epoch: 3  loss: 2.30049  accuracy: 0.11525\n",
      "epoch: 4  loss: 2.29975  accuracy: 0.11525\n",
      "epoch: 5  loss: 2.29875  accuracy: 0.11525\n",
      "epoch: 6  loss: 2.29732  accuracy: 0.115375\n",
      "epoch: 7  loss: 2.29502  accuracy: 0.118875\n",
      "epoch: 8  loss: 2.2908  accuracy: 0.161375\n",
      "epoch: 9  loss: 2.28125  accuracy: 0.204625\n",
      "epoch: 10  loss: 2.25022  accuracy: 0.125625\n",
      "epoch: 11  loss: 2.1201  accuracy: 0.14575\n",
      "epoch: 12  loss: 1.67531  accuracy: 0.413125\n",
      "epoch: 13  loss: 1.39155  accuracy: 0.44825\n",
      "epoch: 14  loss: 1.18323  accuracy: 0.511125\n",
      "epoch: 15  loss: 0.994275  accuracy: 0.639125\n",
      "epoch: 16  loss: 0.909467  accuracy: 0.6735\n",
      "epoch: 17  loss: 0.642432  accuracy: 0.793\n",
      "epoch: 18  loss: 0.573713  accuracy: 0.821625\n",
      "epoch: 19  loss: 0.522568  accuracy: 0.83775\n",
      "epoch: 20  loss: 0.474816  accuracy: 0.85775\n",
      "epoch: 21  loss: 0.409123  accuracy: 0.883375\n",
      "epoch: 22  loss: 0.397508  accuracy: 0.880625\n",
      "epoch: 23  loss: 0.350118  accuracy: 0.901375\n",
      "epoch: 24  loss: 0.307242  accuracy: 0.915\n",
      "epoch: 25  loss: 0.282396  accuracy: 0.92075\n",
      "epoch: 26  loss: 0.264292  accuracy: 0.927625\n",
      "epoch: 27  loss: 0.231361  accuracy: 0.93425\n",
      "epoch: 28  loss: 0.301657  accuracy: 0.9195\n",
      "epoch: 29  loss: 0.242044  accuracy: 0.929\n",
      "epoch: 30  loss: 0.184024  accuracy: 0.949\n",
      "epoch: 31  loss: 0.1662  accuracy: 0.954625\n",
      "epoch: 32  loss: 0.16108  accuracy: 0.954625\n",
      "epoch: 33  loss: 0.130775  accuracy: 0.963875\n",
      "epoch: 34  loss: 0.123512  accuracy: 0.967625\n",
      "epoch: 35  loss: 0.117909  accuracy: 0.968375\n",
      "epoch: 36  loss: 0.102605  accuracy: 0.9725\n",
      "epoch: 37  loss: 0.0869984  accuracy: 0.978875\n",
      "epoch: 38  loss: 0.0807116  accuracy: 0.979875\n",
      "epoch: 39  loss: 0.0733485  accuracy: 0.983\n",
      "epoch: 40  loss: 0.0599922  accuracy: 0.98875\n",
      "epoch: 41  loss: 0.0801532  accuracy: 0.98175\n",
      "epoch: 42  loss: 0.0618801  accuracy: 0.987\n",
      "epoch: 43  loss: 0.0538681  accuracy: 0.989\n",
      "epoch: 44  loss: 0.0447343  accuracy: 0.9925\n",
      "epoch: 45  loss: 0.0408228  accuracy: 0.99325\n",
      "epoch: 46  loss: 0.0366183  accuracy: 0.9935\n",
      "epoch: 47  loss: 0.0317053  accuracy: 0.996\n",
      "epoch: 48  loss: 0.0280947  accuracy: 0.99625\n",
      "epoch: 49  loss: 0.0327087  accuracy: 0.99425\n",
      "accuracy:  0.9405\n"
     ]
    }
   ],
   "source": [
    "%run tensorflow/03_mnist_lrelu_tensorflow.py"
   ]
  },
  {
   "cell_type": "code",
   "execution_count": 2,
   "metadata": {
    "collapsed": true
   },
   "outputs": [
    {
     "name": "stderr",
     "output_type": "stream",
     "text": [
      "Using TensorFlow backend.\n"
     ]
    },
    {
     "name": "stdout",
     "output_type": "stream",
     "text": [
      "Epoch 1/20\n",
      "8000/8000 [==============================] - 1s 130us/step - loss: 12.9039 - acc: 0.1955\n",
      "Epoch 2/20\n",
      "8000/8000 [==============================] - 1s 68us/step - loss: 12.8749 - acc: 0.2006\n",
      "Epoch 3/20\n",
      "8000/8000 [==============================] - 1s 73us/step - loss: 12.8652 - acc: 0.2014\n",
      "Epoch 4/20\n",
      "8000/8000 [==============================] - 1s 73us/step - loss: 11.5036 - acc: 0.2780\n",
      "Epoch 5/20\n",
      "8000/8000 [==============================] - 1s 72us/step - loss: 8.5431 - acc: 0.4556\n",
      "Epoch 6/20\n",
      "8000/8000 [==============================] - 1s 72us/step - loss: 7.0019 - acc: 0.5460\n",
      "Epoch 7/20\n",
      "8000/8000 [==============================] - 1s 72us/step - loss: 5.8965 - acc: 0.6221\n",
      "Epoch 8/20\n",
      "8000/8000 [==============================] - 1s 73us/step - loss: 3.7643 - acc: 0.7319\n",
      "Epoch 9/20\n",
      "8000/8000 [==============================] - 1s 76us/step - loss: 1.4737 - acc: 0.8743\n",
      "Epoch 10/20\n",
      "8000/8000 [==============================] - 1s 67us/step - loss: 0.7340 - acc: 0.9190\n",
      "Epoch 11/20\n",
      "8000/8000 [==============================] - 1s 69us/step - loss: 0.4773 - acc: 0.9372\n",
      "Epoch 12/20\n",
      "8000/8000 [==============================] - 1s 73us/step - loss: 0.2713 - acc: 0.9579\n",
      "Epoch 13/20\n",
      "8000/8000 [==============================] - 1s 72us/step - loss: 0.1714 - acc: 0.9741\n",
      "Epoch 14/20\n",
      "8000/8000 [==============================] - 1s 74us/step - loss: 0.1202 - acc: 0.9863\n",
      "Epoch 15/20\n",
      "8000/8000 [==============================] - 1s 67us/step - loss: 0.0949 - acc: 0.9920\n",
      "Epoch 16/20\n",
      "8000/8000 [==============================] - 1s 65us/step - loss: 0.0822 - acc: 0.9943\n",
      "Epoch 17/20\n",
      "8000/8000 [==============================] - 1s 68us/step - loss: 0.0768 - acc: 0.9951\n",
      "Epoch 18/20\n",
      "8000/8000 [==============================] - 1s 70us/step - loss: 0.0760 - acc: 0.9954\n",
      "Epoch 19/20\n",
      "8000/8000 [==============================] - 1s 74us/step - loss: 0.0757 - acc: 0.9954\n",
      "Epoch 20/20\n",
      "8000/8000 [==============================] - 1s 76us/step - loss: 0.0755 - acc: 0.9954\n",
      "2000/2000 [==============================] - 0s 73us/step\n",
      "[0.49823715074267239, 0.92200000000000004]\n"
     ]
    }
   ],
   "source": [
    "%run keras/03_mnist_lrelu_keras.py"
   ]
  },
  {
   "cell_type": "code",
   "execution_count": 4,
   "metadata": {
    "collapsed": true
   },
   "outputs": [
    {
     "name": "stdout",
     "output_type": "stream",
     "text": [
      "2000/2000 [==============================] - 0s 78us/step\n"
     ]
    },
    {
     "data": {
      "text/plain": [
       "[0.49823715074267239, 0.92200000000000004]"
      ]
     },
     "execution_count": 4,
     "metadata": {},
     "output_type": "execute_result"
    }
   ],
   "source": [
    "model.evaluate(X_test, Y_test)"
   ]
  },
  {
   "cell_type": "code",
   "execution_count": null,
   "metadata": {
    "collapsed": true
   },
   "outputs": [],
   "source": []
  },
  {
   "cell_type": "markdown",
   "metadata": {},
   "source": [
    "# 04_mnist_prelu"
   ]
  },
  {
   "cell_type": "markdown",
   "metadata": {},
   "source": [
    "活性化関数を\n",
    "\n",
    "\\begin{align}\n",
    " f(p_j) = \\begin{cases}\n",
    "    p_j \\qquad &(p_j > 0) \\\\\n",
    "    \\alpha_j p_j \\qquad  &(p_j \\leq 0)\n",
    "\\end{cases}\n",
    "\\end{align}\n"
   ]
  },
  {
   "cell_type": "code",
   "execution_count": 9,
   "metadata": {
    "collapsed": true
   },
   "outputs": [
    {
     "name": "stderr",
     "output_type": "stream",
     "text": [
      "/Users/yohei/.pyenv/versions/anaconda3-5.0.0/envs/tensorflow/lib/python3.5/site-packages/sklearn/model_selection/_split.py:2026: FutureWarning: From version 0.21, test_size will always complement train_size unless both are specified.\n",
      "  FutureWarning)\n"
     ]
    },
    {
     "name": "stdout",
     "output_type": "stream",
     "text": [
      "epoch: 0  loss: 2.3021  accuracy: 0.118\n",
      "epoch: 1  loss: 2.30165  accuracy: 0.11525\n",
      "epoch: 2  loss: 2.30117  accuracy: 0.11525\n",
      "epoch: 3  loss: 2.30064  accuracy: 0.11525\n",
      "epoch: 4  loss: 2.30001  accuracy: 0.11525\n",
      "epoch: 5  loss: 2.2992  accuracy: 0.11525\n",
      "epoch: 6  loss: 2.29813  accuracy: 0.115375\n",
      "epoch: 7  loss: 2.29659  accuracy: 0.11675\n",
      "epoch: 8  loss: 2.2942  accuracy: 0.13025\n",
      "epoch: 9  loss: 2.29004  accuracy: 0.182\n",
      "epoch: 10  loss: 2.28151  accuracy: 0.264125\n",
      "epoch: 11  loss: 2.25843  accuracy: 0.26125\n",
      "epoch: 12  loss: 2.1583  accuracy: 0.420875\n",
      "epoch: 13  loss: 1.62146  accuracy: 0.4665\n",
      "epoch: 14  loss: 1.20953  accuracy: 0.564875\n",
      "epoch: 15  loss: 0.817911  accuracy: 0.750375\n",
      "epoch: 16  loss: 0.685496  accuracy: 0.79625\n",
      "epoch: 17  loss: 0.62875  accuracy: 0.799375\n",
      "epoch: 18  loss: 0.527595  accuracy: 0.843625\n",
      "epoch: 19  loss: 0.472798  accuracy: 0.85775\n",
      "epoch: 20  loss: 0.437029  accuracy: 0.86925\n",
      "epoch: 21  loss: 0.394015  accuracy: 0.885\n",
      "epoch: 22  loss: 0.38399  accuracy: 0.886\n",
      "epoch: 23  loss: 0.335356  accuracy: 0.90275\n",
      "epoch: 24  loss: 0.306522  accuracy: 0.915125\n",
      "epoch: 25  loss: 0.283656  accuracy: 0.919375\n",
      "epoch: 26  loss: 0.261755  accuracy: 0.926625\n",
      "epoch: 27  loss: 0.2237  accuracy: 0.939625\n",
      "epoch: 28  loss: 0.206694  accuracy: 0.944\n",
      "epoch: 29  loss: 0.208443  accuracy: 0.94\n",
      "epoch: 30  loss: 0.181615  accuracy: 0.95075\n",
      "epoch: 31  loss: 0.161221  accuracy: 0.95525\n",
      "epoch: 32  loss: 0.15276  accuracy: 0.95875\n",
      "epoch: 33  loss: 0.125595  accuracy: 0.9665\n",
      "epoch: 34  loss: 0.123049  accuracy: 0.96825\n",
      "epoch: 35  loss: 0.105372  accuracy: 0.97425\n",
      "epoch: 36  loss: 0.090786  accuracy: 0.97775\n",
      "epoch: 37  loss: 0.0837204  accuracy: 0.981\n",
      "epoch: 38  loss: nan  accuracy: 0.094375\n",
      "epoch: 39  loss: nan  accuracy: 0.094375\n",
      "epoch: 40  loss: nan  accuracy: 0.094375\n",
      "epoch: 41  loss: nan  accuracy: 0.094375\n",
      "epoch: 42  loss: nan  accuracy: 0.094375\n",
      "epoch: 43  loss: nan  accuracy: 0.094375\n",
      "epoch: 44  loss: nan  accuracy: 0.094375\n",
      "epoch: 45  loss: nan  accuracy: 0.094375\n",
      "epoch: 46  loss: nan  accuracy: 0.094375\n",
      "epoch: 47  loss: nan  accuracy: 0.094375\n",
      "epoch: 48  loss: nan  accuracy: 0.094375\n",
      "epoch: 49  loss: nan  accuracy: 0.094375\n",
      "accuracy:  0.0905\n"
     ]
    }
   ],
   "source": [
    "%run tensorflow/04_mnist_prelu_tensorflow.py"
   ]
  },
  {
   "cell_type": "markdown",
   "metadata": {},
   "source": [
    " 発散してしまい，学習過程が壊れた．\n",
    " \n",
    " 実装段階でミスがありそう.\n",
    "\n",
    "ターミナル上で起動すると発散することなく求めることができた．"
   ]
  },
  {
   "cell_type": "code",
   "execution_count": 8,
   "metadata": {
    "collapsed": true
   },
   "outputs": [
    {
     "name": "stderr",
     "output_type": "stream",
     "text": [
      "/Users/yohei/.pyenv/versions/anaconda3-5.0.0/envs/tensorflow/lib/python3.5/site-packages/sklearn/model_selection/_split.py:2026: FutureWarning: From version 0.21, test_size will always complement train_size unless both are specified.\n",
      "  FutureWarning)\n"
     ]
    },
    {
     "name": "stdout",
     "output_type": "stream",
     "text": [
      "Epoch 1/20\n",
      "8000/8000 [==============================] - 1s 161us/step - loss: 14.3616 - acc: 0.1064\n",
      "Epoch 2/20\n",
      "8000/8000 [==============================] - 1s 87us/step - loss: 14.4418 - acc: 0.1040\n",
      "Epoch 3/20\n",
      "8000/8000 [==============================] - 1s 85us/step - loss: 14.4418 - acc: 0.1040\n",
      "Epoch 4/20\n",
      "8000/8000 [==============================] - 1s 81us/step - loss: 14.4418 - acc: 0.1040\n",
      "Epoch 5/20\n",
      "8000/8000 [==============================] - 1s 84us/step - loss: 14.4418 - acc: 0.1040\n",
      "Epoch 6/20\n",
      "8000/8000 [==============================] - 1s 82us/step - loss: 14.4418 - acc: 0.1040\n",
      "Epoch 7/20\n",
      "8000/8000 [==============================] - 1s 87us/step - loss: 14.4418 - acc: 0.1040\n",
      "Epoch 8/20\n",
      "8000/8000 [==============================] - 1s 89us/step - loss: 14.4418 - acc: 0.1040\n",
      "Epoch 9/20\n",
      "8000/8000 [==============================] - 1s 90us/step - loss: 14.4418 - acc: 0.1040\n",
      "Epoch 10/20\n",
      "5000/8000 [=================>............] - ETA: 0s - loss: 14.4418 - acc: 0.1040"
     ]
    },
    {
     "ename": "KeyboardInterrupt",
     "evalue": "",
     "output_type": "error",
     "traceback": [
      "\u001b[0;31m---------------------------------------------------------------------------\u001b[0m",
      "\u001b[0;31mKeyboardInterrupt\u001b[0m                         Traceback (most recent call last)",
      "\u001b[0;32m~/Documents/Study/deeplearning-tensorflow-keras/4/keras/04_mnist_prelu_keras.py\u001b[0m in \u001b[0;36m<module>\u001b[0;34m()\u001b[0m\n\u001b[1;32m     57\u001b[0m \u001b[0mbatch_size\u001b[0m \u001b[0;34m=\u001b[0m \u001b[0;36m200\u001b[0m\u001b[0;34m\u001b[0m\u001b[0m\n\u001b[1;32m     58\u001b[0m \u001b[0;34m\u001b[0m\u001b[0m\n\u001b[0;32m---> 59\u001b[0;31m \u001b[0mmodel\u001b[0m\u001b[0;34m.\u001b[0m\u001b[0mfit\u001b[0m\u001b[0;34m(\u001b[0m\u001b[0mX_train\u001b[0m\u001b[0;34m,\u001b[0m \u001b[0mY_train\u001b[0m\u001b[0;34m,\u001b[0m \u001b[0mepochs\u001b[0m\u001b[0;34m=\u001b[0m\u001b[0mepochs\u001b[0m\u001b[0;34m,\u001b[0m \u001b[0mbatch_size\u001b[0m\u001b[0;34m=\u001b[0m\u001b[0mbatch_size\u001b[0m\u001b[0;34m)\u001b[0m\u001b[0;34m\u001b[0m\u001b[0m\n\u001b[0m\u001b[1;32m     60\u001b[0m \u001b[0;34m\u001b[0m\u001b[0m\n\u001b[1;32m     61\u001b[0m '''\n",
      "\u001b[0;32m~/.pyenv/versions/anaconda3-5.0.0/envs/tensorflow/lib/python3.5/site-packages/keras/models.py\u001b[0m in \u001b[0;36mfit\u001b[0;34m(self, x, y, batch_size, epochs, verbose, callbacks, validation_split, validation_data, shuffle, class_weight, sample_weight, initial_epoch, steps_per_epoch, validation_steps, **kwargs)\u001b[0m\n\u001b[1;32m    958\u001b[0m                               \u001b[0minitial_epoch\u001b[0m\u001b[0;34m=\u001b[0m\u001b[0minitial_epoch\u001b[0m\u001b[0;34m,\u001b[0m\u001b[0;34m\u001b[0m\u001b[0m\n\u001b[1;32m    959\u001b[0m                               \u001b[0msteps_per_epoch\u001b[0m\u001b[0;34m=\u001b[0m\u001b[0msteps_per_epoch\u001b[0m\u001b[0;34m,\u001b[0m\u001b[0;34m\u001b[0m\u001b[0m\n\u001b[0;32m--> 960\u001b[0;31m                               validation_steps=validation_steps)\n\u001b[0m\u001b[1;32m    961\u001b[0m \u001b[0;34m\u001b[0m\u001b[0m\n\u001b[1;32m    962\u001b[0m     def evaluate(self, x, y, batch_size=32, verbose=1,\n",
      "\u001b[0;32m~/.pyenv/versions/anaconda3-5.0.0/envs/tensorflow/lib/python3.5/site-packages/keras/engine/training.py\u001b[0m in \u001b[0;36mfit\u001b[0;34m(self, x, y, batch_size, epochs, verbose, callbacks, validation_split, validation_data, shuffle, class_weight, sample_weight, initial_epoch, steps_per_epoch, validation_steps, **kwargs)\u001b[0m\n\u001b[1;32m   1648\u001b[0m                               \u001b[0minitial_epoch\u001b[0m\u001b[0;34m=\u001b[0m\u001b[0minitial_epoch\u001b[0m\u001b[0;34m,\u001b[0m\u001b[0;34m\u001b[0m\u001b[0m\n\u001b[1;32m   1649\u001b[0m                               \u001b[0msteps_per_epoch\u001b[0m\u001b[0;34m=\u001b[0m\u001b[0msteps_per_epoch\u001b[0m\u001b[0;34m,\u001b[0m\u001b[0;34m\u001b[0m\u001b[0m\n\u001b[0;32m-> 1650\u001b[0;31m                               validation_steps=validation_steps)\n\u001b[0m\u001b[1;32m   1651\u001b[0m \u001b[0;34m\u001b[0m\u001b[0m\n\u001b[1;32m   1652\u001b[0m     def evaluate(self, x=None, y=None,\n",
      "\u001b[0;32m~/.pyenv/versions/anaconda3-5.0.0/envs/tensorflow/lib/python3.5/site-packages/keras/engine/training.py\u001b[0m in \u001b[0;36m_fit_loop\u001b[0;34m(self, f, ins, out_labels, batch_size, epochs, verbose, callbacks, val_f, val_ins, shuffle, callback_metrics, initial_epoch, steps_per_epoch, validation_steps)\u001b[0m\n\u001b[1;32m   1211\u001b[0m                     \u001b[0mbatch_logs\u001b[0m\u001b[0;34m[\u001b[0m\u001b[0;34m'size'\u001b[0m\u001b[0;34m]\u001b[0m \u001b[0;34m=\u001b[0m \u001b[0mlen\u001b[0m\u001b[0;34m(\u001b[0m\u001b[0mbatch_ids\u001b[0m\u001b[0;34m)\u001b[0m\u001b[0;34m\u001b[0m\u001b[0m\n\u001b[1;32m   1212\u001b[0m                     \u001b[0mcallbacks\u001b[0m\u001b[0;34m.\u001b[0m\u001b[0mon_batch_begin\u001b[0m\u001b[0;34m(\u001b[0m\u001b[0mbatch_index\u001b[0m\u001b[0;34m,\u001b[0m \u001b[0mbatch_logs\u001b[0m\u001b[0;34m)\u001b[0m\u001b[0;34m\u001b[0m\u001b[0m\n\u001b[0;32m-> 1213\u001b[0;31m                     \u001b[0mouts\u001b[0m \u001b[0;34m=\u001b[0m \u001b[0mf\u001b[0m\u001b[0;34m(\u001b[0m\u001b[0mins_batch\u001b[0m\u001b[0;34m)\u001b[0m\u001b[0;34m\u001b[0m\u001b[0m\n\u001b[0m\u001b[1;32m   1214\u001b[0m                     \u001b[0;32mif\u001b[0m \u001b[0;32mnot\u001b[0m \u001b[0misinstance\u001b[0m\u001b[0;34m(\u001b[0m\u001b[0mouts\u001b[0m\u001b[0;34m,\u001b[0m \u001b[0mlist\u001b[0m\u001b[0;34m)\u001b[0m\u001b[0;34m:\u001b[0m\u001b[0;34m\u001b[0m\u001b[0m\n\u001b[1;32m   1215\u001b[0m                         \u001b[0mouts\u001b[0m \u001b[0;34m=\u001b[0m \u001b[0;34m[\u001b[0m\u001b[0mouts\u001b[0m\u001b[0;34m]\u001b[0m\u001b[0;34m\u001b[0m\u001b[0m\n",
      "\u001b[0;32m~/.pyenv/versions/anaconda3-5.0.0/envs/tensorflow/lib/python3.5/site-packages/keras/backend/tensorflow_backend.py\u001b[0m in \u001b[0;36m__call__\u001b[0;34m(self, inputs)\u001b[0m\n\u001b[1;32m   2350\u001b[0m         \u001b[0msession\u001b[0m \u001b[0;34m=\u001b[0m \u001b[0mget_session\u001b[0m\u001b[0;34m(\u001b[0m\u001b[0;34m)\u001b[0m\u001b[0;34m\u001b[0m\u001b[0m\n\u001b[1;32m   2351\u001b[0m         updated = session.run(fetches=fetches, feed_dict=feed_dict,\n\u001b[0;32m-> 2352\u001b[0;31m                               **self.session_kwargs)\n\u001b[0m\u001b[1;32m   2353\u001b[0m         \u001b[0;32mreturn\u001b[0m \u001b[0mupdated\u001b[0m\u001b[0;34m[\u001b[0m\u001b[0;34m:\u001b[0m\u001b[0mlen\u001b[0m\u001b[0;34m(\u001b[0m\u001b[0mself\u001b[0m\u001b[0;34m.\u001b[0m\u001b[0moutputs\u001b[0m\u001b[0;34m)\u001b[0m\u001b[0;34m]\u001b[0m\u001b[0;34m\u001b[0m\u001b[0m\n\u001b[1;32m   2354\u001b[0m \u001b[0;34m\u001b[0m\u001b[0m\n",
      "\u001b[0;32m~/.pyenv/versions/anaconda3-5.0.0/envs/tensorflow/lib/python3.5/site-packages/tensorflow/python/client/session.py\u001b[0m in \u001b[0;36mrun\u001b[0;34m(self, fetches, feed_dict, options, run_metadata)\u001b[0m\n\u001b[1;32m    887\u001b[0m     \u001b[0;32mtry\u001b[0m\u001b[0;34m:\u001b[0m\u001b[0;34m\u001b[0m\u001b[0m\n\u001b[1;32m    888\u001b[0m       result = self._run(None, fetches, feed_dict, options_ptr,\n\u001b[0;32m--> 889\u001b[0;31m                          run_metadata_ptr)\n\u001b[0m\u001b[1;32m    890\u001b[0m       \u001b[0;32mif\u001b[0m \u001b[0mrun_metadata\u001b[0m\u001b[0;34m:\u001b[0m\u001b[0;34m\u001b[0m\u001b[0m\n\u001b[1;32m    891\u001b[0m         \u001b[0mproto_data\u001b[0m \u001b[0;34m=\u001b[0m \u001b[0mtf_session\u001b[0m\u001b[0;34m.\u001b[0m\u001b[0mTF_GetBuffer\u001b[0m\u001b[0;34m(\u001b[0m\u001b[0mrun_metadata_ptr\u001b[0m\u001b[0;34m)\u001b[0m\u001b[0;34m\u001b[0m\u001b[0m\n",
      "\u001b[0;32m~/.pyenv/versions/anaconda3-5.0.0/envs/tensorflow/lib/python3.5/site-packages/tensorflow/python/client/session.py\u001b[0m in \u001b[0;36m_run\u001b[0;34m(self, handle, fetches, feed_dict, options, run_metadata)\u001b[0m\n\u001b[1;32m   1118\u001b[0m     \u001b[0;32mif\u001b[0m \u001b[0mfinal_fetches\u001b[0m \u001b[0;32mor\u001b[0m \u001b[0mfinal_targets\u001b[0m \u001b[0;32mor\u001b[0m \u001b[0;34m(\u001b[0m\u001b[0mhandle\u001b[0m \u001b[0;32mand\u001b[0m \u001b[0mfeed_dict_tensor\u001b[0m\u001b[0;34m)\u001b[0m\u001b[0;34m:\u001b[0m\u001b[0;34m\u001b[0m\u001b[0m\n\u001b[1;32m   1119\u001b[0m       results = self._do_run(handle, final_targets, final_fetches,\n\u001b[0;32m-> 1120\u001b[0;31m                              feed_dict_tensor, options, run_metadata)\n\u001b[0m\u001b[1;32m   1121\u001b[0m     \u001b[0;32melse\u001b[0m\u001b[0;34m:\u001b[0m\u001b[0;34m\u001b[0m\u001b[0m\n\u001b[1;32m   1122\u001b[0m       \u001b[0mresults\u001b[0m \u001b[0;34m=\u001b[0m \u001b[0;34m[\u001b[0m\u001b[0;34m]\u001b[0m\u001b[0;34m\u001b[0m\u001b[0m\n",
      "\u001b[0;32m~/.pyenv/versions/anaconda3-5.0.0/envs/tensorflow/lib/python3.5/site-packages/tensorflow/python/client/session.py\u001b[0m in \u001b[0;36m_do_run\u001b[0;34m(self, handle, target_list, fetch_list, feed_dict, options, run_metadata)\u001b[0m\n\u001b[1;32m   1315\u001b[0m     \u001b[0;32mif\u001b[0m \u001b[0mhandle\u001b[0m \u001b[0;32mis\u001b[0m \u001b[0;32mNone\u001b[0m\u001b[0;34m:\u001b[0m\u001b[0;34m\u001b[0m\u001b[0m\n\u001b[1;32m   1316\u001b[0m       return self._do_call(_run_fn, self._session, feeds, fetches, targets,\n\u001b[0;32m-> 1317\u001b[0;31m                            options, run_metadata)\n\u001b[0m\u001b[1;32m   1318\u001b[0m     \u001b[0;32melse\u001b[0m\u001b[0;34m:\u001b[0m\u001b[0;34m\u001b[0m\u001b[0m\n\u001b[1;32m   1319\u001b[0m       \u001b[0;32mreturn\u001b[0m \u001b[0mself\u001b[0m\u001b[0;34m.\u001b[0m\u001b[0m_do_call\u001b[0m\u001b[0;34m(\u001b[0m\u001b[0m_prun_fn\u001b[0m\u001b[0;34m,\u001b[0m \u001b[0mself\u001b[0m\u001b[0;34m.\u001b[0m\u001b[0m_session\u001b[0m\u001b[0;34m,\u001b[0m \u001b[0mhandle\u001b[0m\u001b[0;34m,\u001b[0m \u001b[0mfeeds\u001b[0m\u001b[0;34m,\u001b[0m \u001b[0mfetches\u001b[0m\u001b[0;34m)\u001b[0m\u001b[0;34m\u001b[0m\u001b[0m\n",
      "\u001b[0;32m~/.pyenv/versions/anaconda3-5.0.0/envs/tensorflow/lib/python3.5/site-packages/tensorflow/python/client/session.py\u001b[0m in \u001b[0;36m_do_call\u001b[0;34m(self, fn, *args)\u001b[0m\n\u001b[1;32m   1321\u001b[0m   \u001b[0;32mdef\u001b[0m \u001b[0m_do_call\u001b[0m\u001b[0;34m(\u001b[0m\u001b[0mself\u001b[0m\u001b[0;34m,\u001b[0m \u001b[0mfn\u001b[0m\u001b[0;34m,\u001b[0m \u001b[0;34m*\u001b[0m\u001b[0margs\u001b[0m\u001b[0;34m)\u001b[0m\u001b[0;34m:\u001b[0m\u001b[0;34m\u001b[0m\u001b[0m\n\u001b[1;32m   1322\u001b[0m     \u001b[0;32mtry\u001b[0m\u001b[0;34m:\u001b[0m\u001b[0;34m\u001b[0m\u001b[0m\n\u001b[0;32m-> 1323\u001b[0;31m       \u001b[0;32mreturn\u001b[0m \u001b[0mfn\u001b[0m\u001b[0;34m(\u001b[0m\u001b[0;34m*\u001b[0m\u001b[0margs\u001b[0m\u001b[0;34m)\u001b[0m\u001b[0;34m\u001b[0m\u001b[0m\n\u001b[0m\u001b[1;32m   1324\u001b[0m     \u001b[0;32mexcept\u001b[0m \u001b[0merrors\u001b[0m\u001b[0;34m.\u001b[0m\u001b[0mOpError\u001b[0m \u001b[0;32mas\u001b[0m \u001b[0me\u001b[0m\u001b[0;34m:\u001b[0m\u001b[0;34m\u001b[0m\u001b[0m\n\u001b[1;32m   1325\u001b[0m       \u001b[0mmessage\u001b[0m \u001b[0;34m=\u001b[0m \u001b[0mcompat\u001b[0m\u001b[0;34m.\u001b[0m\u001b[0mas_text\u001b[0m\u001b[0;34m(\u001b[0m\u001b[0me\u001b[0m\u001b[0;34m.\u001b[0m\u001b[0mmessage\u001b[0m\u001b[0;34m)\u001b[0m\u001b[0;34m\u001b[0m\u001b[0m\n",
      "\u001b[0;32m~/.pyenv/versions/anaconda3-5.0.0/envs/tensorflow/lib/python3.5/site-packages/tensorflow/python/client/session.py\u001b[0m in \u001b[0;36m_run_fn\u001b[0;34m(session, feed_dict, fetch_list, target_list, options, run_metadata)\u001b[0m\n\u001b[1;32m   1300\u001b[0m           return tf_session.TF_Run(session, options,\n\u001b[1;32m   1301\u001b[0m                                    \u001b[0mfeed_dict\u001b[0m\u001b[0;34m,\u001b[0m \u001b[0mfetch_list\u001b[0m\u001b[0;34m,\u001b[0m \u001b[0mtarget_list\u001b[0m\u001b[0;34m,\u001b[0m\u001b[0;34m\u001b[0m\u001b[0m\n\u001b[0;32m-> 1302\u001b[0;31m                                    status, run_metadata)\n\u001b[0m\u001b[1;32m   1303\u001b[0m \u001b[0;34m\u001b[0m\u001b[0m\n\u001b[1;32m   1304\u001b[0m     \u001b[0;32mdef\u001b[0m \u001b[0m_prun_fn\u001b[0m\u001b[0;34m(\u001b[0m\u001b[0msession\u001b[0m\u001b[0;34m,\u001b[0m \u001b[0mhandle\u001b[0m\u001b[0;34m,\u001b[0m \u001b[0mfeed_dict\u001b[0m\u001b[0;34m,\u001b[0m \u001b[0mfetch_list\u001b[0m\u001b[0;34m)\u001b[0m\u001b[0;34m:\u001b[0m\u001b[0;34m\u001b[0m\u001b[0m\n",
      "\u001b[0;31mKeyboardInterrupt\u001b[0m: "
     ]
    }
   ],
   "source": [
    "%run keras/04_mnist_prelu_keras.py"
   ]
  },
  {
   "cell_type": "markdown",
   "metadata": {},
   "source": [
    "こちらもうまくいかないよう\n",
    "\n",
    "Keras ではUsing tensorflow と出ないと学習ができないみたいだ．\n",
    "しかし，ターミナル上で動かすと実行できるようだ．"
   ]
  },
  {
   "cell_type": "code",
   "execution_count": null,
   "metadata": {
    "collapsed": true
   },
   "outputs": [],
   "source": []
  },
  {
   "cell_type": "markdown",
   "metadata": {},
   "source": [
    "# 05_mnist_dropout"
   ]
  },
  {
   "cell_type": "code",
   "execution_count": 1,
   "metadata": {
    "collapsed": true
   },
   "outputs": [
    {
     "name": "stderr",
     "output_type": "stream",
     "text": [
      "/Users/yohei/.pyenv/versions/anaconda3-5.0.0/envs/tensorflow/lib/python3.5/site-packages/sklearn/model_selection/_split.py:2026: FutureWarning: From version 0.21, test_size will always complement train_size unless both are specified.\n",
      "  FutureWarning)\n"
     ]
    },
    {
     "name": "stdout",
     "output_type": "stream",
     "text": [
      "epoch: 0  loss: 2.28336  accuracy: 0.28275\n",
      "epoch: 1  loss: 2.16672  accuracy: 0.4175\n",
      "epoch: 2  loss: 1.17982  accuracy: 0.625125\n",
      "epoch: 3  loss: 0.768325  accuracy: 0.76575\n",
      "epoch: 4  loss: 0.571193  accuracy: 0.834\n",
      "epoch: 5  loss: 0.473402  accuracy: 0.8665\n",
      "epoch: 6  loss: 0.422206  accuracy: 0.871\n",
      "epoch: 7  loss: 0.346544  accuracy: 0.898875\n",
      "epoch: 8  loss: 0.309014  accuracy: 0.911\n",
      "epoch: 9  loss: 0.283871  accuracy: 0.918125\n",
      "epoch: 10  loss: 0.262794  accuracy: 0.926125\n",
      "epoch: 11  loss: 0.23671  accuracy: 0.9325\n",
      "epoch: 12  loss: 0.222775  accuracy: 0.934875\n",
      "epoch: 13  loss: 0.207335  accuracy: 0.941375\n",
      "epoch: 14  loss: 0.198558  accuracy: 0.94275\n",
      "epoch: 15  loss: 0.177551  accuracy: 0.948625\n",
      "epoch: 16  loss: 0.162552  accuracy: 0.955125\n",
      "epoch: 17  loss: 0.153137  accuracy: 0.95575\n",
      "epoch: 18  loss: 0.141751  accuracy: 0.959125\n",
      "epoch: 19  loss: 0.129473  accuracy: 0.96375\n",
      "epoch: 20  loss: 0.126961  accuracy: 0.963375\n",
      "epoch: 21  loss: 0.117298  accuracy: 0.966\n",
      "epoch: 22  loss: 0.106627  accuracy: 0.970625\n",
      "epoch: 23  loss: 0.103334  accuracy: 0.971375\n",
      "epoch: 24  loss: 0.101019  accuracy: 0.97225\n",
      "epoch: 25  loss: 0.0861739  accuracy: 0.97775\n",
      "epoch: 26  loss: 0.0864983  accuracy: 0.977\n",
      "epoch: 27  loss: 0.0779252  accuracy: 0.97825\n",
      "epoch: 28  loss: 0.0743956  accuracy: 0.980625\n",
      "epoch: 29  loss: 0.0718025  accuracy: 0.978875\n",
      "accuracy:  0.942\n"
     ]
    }
   ],
   "source": [
    "%run tensorflow/05_mnist_dropout_tensorflow.py"
   ]
  },
  {
   "cell_type": "markdown",
   "metadata": {},
   "source": [
    "活性化させる前にドロップアウトを行うと発散してしまう．\n",
    "\n",
    "しかし，jupyter-labで行うと発散しない．なぜ？\n",
    "\n",
    "学習率が関係しているそう．もっと学習率を下げるとどうなるか試したら，確かに発散しなかった．\n",
    "\n",
    "よってドロップアウトは活性化後も活性化前でもどちらでもいい．ただ， tensorflowでのdropoutの仕様が少し異なる．"
   ]
  },
  {
   "cell_type": "code",
   "execution_count": 3,
   "metadata": {
    "collapsed": true
   },
   "outputs": [
    {
     "name": "stderr",
     "output_type": "stream",
     "text": [
      "/Users/yohei/.pyenv/versions/anaconda3-5.0.0/envs/tensorflow/lib/python3.5/site-packages/sklearn/model_selection/_split.py:2026: FutureWarning: From version 0.21, test_size will always complement train_size unless both are specified.\n",
      "  FutureWarning)\n"
     ]
    },
    {
     "name": "stdout",
     "output_type": "stream",
     "text": [
      "epoch: 0  loss: 2.22468  accuracy: 0.36975\n",
      "epoch: 1  loss: 1.42881  accuracy: 0.575\n",
      "epoch: 2  loss: 0.810165  accuracy: 0.7495\n",
      "epoch: 3  loss: 0.59064  accuracy: 0.824125\n",
      "epoch: 4  loss: 0.48307  accuracy: 0.8575\n",
      "epoch: 5  loss: 0.420267  accuracy: 0.876875\n",
      "epoch: 6  loss: 0.374706  accuracy: 0.893\n",
      "epoch: 7  loss: 0.326701  accuracy: 0.907875\n",
      "epoch: 8  loss: 0.297314  accuracy: 0.916\n",
      "epoch: 9  loss: 0.272324  accuracy: 0.9225\n",
      "epoch: 10  loss: 0.252849  accuracy: 0.927375\n",
      "epoch: 11  loss: 0.230024  accuracy: 0.933625\n",
      "epoch: 12  loss: 0.211815  accuracy: 0.937375\n",
      "epoch: 13  loss: 0.198412  accuracy: 0.942125\n",
      "epoch: 14  loss: 0.187626  accuracy: 0.943875\n",
      "epoch: 15  loss: 0.170189  accuracy: 0.950875\n",
      "epoch: 16  loss: 0.158628  accuracy: 0.953875\n",
      "epoch: 17  loss: 0.146458  accuracy: 0.95625\n",
      "epoch: 18  loss: 0.139082  accuracy: 0.961375\n",
      "epoch: 19  loss: 0.129808  accuracy: 0.9615\n",
      "epoch: 20  loss: 0.119649  accuracy: 0.968125\n",
      "epoch: 21  loss: 0.1144  accuracy: 0.967\n",
      "epoch: 22  loss: 0.111748  accuracy: 0.96975\n",
      "epoch: 23  loss: 0.0988953  accuracy: 0.973125\n",
      "epoch: 24  loss: 0.0928422  accuracy: 0.97475\n",
      "epoch: 25  loss: 0.0851058  accuracy: 0.977125\n",
      "epoch: 26  loss: 0.0803286  accuracy: 0.97925\n",
      "epoch: 27  loss: 0.0758504  accuracy: 0.979875\n",
      "epoch: 28  loss: 0.0736312  accuracy: 0.978875\n",
      "epoch: 29  loss: 0.0686008  accuracy: 0.9815\n",
      "accuracy:  0.9425\n"
     ]
    }
   ],
   "source": [
    "%run tensorflow/mnist_drop_out.py"
   ]
  },
  {
   "cell_type": "code",
   "execution_count": 2,
   "metadata": {
    "collapsed": true
   },
   "outputs": [
    {
     "name": "stderr",
     "output_type": "stream",
     "text": [
      "Using TensorFlow backend.\n",
      "/Users/yohei/.pyenv/versions/anaconda3-5.0.0/envs/tensorflow/lib/python3.5/site-packages/sklearn/model_selection/_split.py:2026: FutureWarning: From version 0.21, test_size will always complement train_size unless both are specified.\n",
      "  FutureWarning)\n"
     ]
    },
    {
     "name": "stdout",
     "output_type": "stream",
     "text": [
      "Epoch 1/150\n",
      "8000/8000 [==============================] - 1s 131us/step - loss: 2.6418 - acc: 0.1478\n",
      "Epoch 2/150\n",
      "8000/8000 [==============================] - 1s 67us/step - loss: 2.3116 - acc: 0.2284\n",
      "Epoch 3/150\n",
      "8000/8000 [==============================] - 1s 66us/step - loss: 2.0779 - acc: 0.2908\n",
      "Epoch 4/150\n",
      "8000/8000 [==============================] - 1s 66us/step - loss: 1.8765 - acc: 0.3614\n",
      "Epoch 5/150\n",
      "8000/8000 [==============================] - 1s 64us/step - loss: 1.7322 - acc: 0.4021\n",
      "Epoch 6/150\n",
      "8000/8000 [==============================] - 1s 68us/step - loss: 1.5900 - acc: 0.4525\n",
      "Epoch 7/150\n",
      "8000/8000 [==============================] - 1s 69us/step - loss: 1.4718 - acc: 0.4923\n",
      "Epoch 8/150\n",
      "8000/8000 [==============================] - 1s 71us/step - loss: 1.3743 - acc: 0.5251\n",
      "Epoch 9/150\n",
      "8000/8000 [==============================] - 1s 78us/step - loss: 1.3073 - acc: 0.5397\n",
      "Epoch 10/150\n",
      "8000/8000 [==============================] - 1s 73us/step - loss: 1.2212 - acc: 0.5735\n",
      "Epoch 11/150\n",
      "8000/8000 [==============================] - 1s 71us/step - loss: 1.2000 - acc: 0.5855\n",
      "Epoch 12/150\n",
      "8000/8000 [==============================] - 1s 69us/step - loss: 1.1539 - acc: 0.6013\n",
      "Epoch 13/150\n",
      "8000/8000 [==============================] - 1s 67us/step - loss: 1.0896 - acc: 0.6206\n",
      "Epoch 14/150\n",
      "8000/8000 [==============================] - 1s 70us/step - loss: 1.0542 - acc: 0.6352\n",
      "Epoch 15/150\n",
      "8000/8000 [==============================] - 1s 70us/step - loss: 0.9810 - acc: 0.6642\n",
      "Epoch 16/150\n",
      "8000/8000 [==============================] - 1s 69us/step - loss: 0.9818 - acc: 0.6664\n",
      "Epoch 17/150\n",
      "8000/8000 [==============================] - 1s 66us/step - loss: 0.9409 - acc: 0.6775\n",
      "Epoch 18/150\n",
      "8000/8000 [==============================] - 1s 70us/step - loss: 0.9138 - acc: 0.6889\n",
      "Epoch 19/150\n",
      "8000/8000 [==============================] - 1s 69us/step - loss: 0.9006 - acc: 0.6911\n",
      "Epoch 20/150\n",
      "8000/8000 [==============================] - 1s 69us/step - loss: 0.8787 - acc: 0.7060\n",
      "Epoch 21/150\n",
      "8000/8000 [==============================] - 1s 69us/step - loss: 0.8487 - acc: 0.7114\n",
      "Epoch 22/150\n",
      "8000/8000 [==============================] - 1s 79us/step - loss: 0.8597 - acc: 0.7126\n",
      "Epoch 23/150\n",
      "8000/8000 [==============================] - 1s 77us/step - loss: 0.8403 - acc: 0.7172\n",
      "Epoch 24/150\n",
      "8000/8000 [==============================] - 1s 71us/step - loss: 0.8524 - acc: 0.7166\n",
      "Epoch 25/150\n",
      "8000/8000 [==============================] - 1s 74us/step - loss: 0.8315 - acc: 0.7223\n",
      "Epoch 26/150\n",
      "8000/8000 [==============================] - 1s 77us/step - loss: 0.7964 - acc: 0.7306\n",
      "Epoch 27/150\n",
      "8000/8000 [==============================] - 1s 74us/step - loss: 0.7900 - acc: 0.7395\n",
      "Epoch 28/150\n",
      "8000/8000 [==============================] - 1s 69us/step - loss: 0.7837 - acc: 0.7374\n",
      "Epoch 29/150\n",
      "8000/8000 [==============================] - 1s 69us/step - loss: 0.7714 - acc: 0.7475\n",
      "Epoch 30/150\n",
      "8000/8000 [==============================] - 1s 66us/step - loss: 0.7505 - acc: 0.7511\n",
      "Epoch 31/150\n",
      "8000/8000 [==============================] - 1s 70us/step - loss: 0.7434 - acc: 0.7545\n",
      "Epoch 32/150\n",
      "8000/8000 [==============================] - 1s 73us/step - loss: 0.7264 - acc: 0.7624\n",
      "Epoch 33/150\n",
      "8000/8000 [==============================] - 1s 67us/step - loss: 0.7310 - acc: 0.7599\n",
      "Epoch 34/150\n",
      "8000/8000 [==============================] - 1s 72us/step - loss: 0.7184 - acc: 0.7615\n",
      "Epoch 35/150\n",
      "8000/8000 [==============================] - 1s 72us/step - loss: 0.7076 - acc: 0.7664\n",
      "Epoch 36/150\n",
      "8000/8000 [==============================] - 1s 73us/step - loss: 0.6984 - acc: 0.7681\n",
      "Epoch 37/150\n",
      "8000/8000 [==============================] - 1s 72us/step - loss: 0.6962 - acc: 0.7712\n",
      "Epoch 38/150\n",
      "8000/8000 [==============================] - 1s 71us/step - loss: 0.7069 - acc: 0.7698\n",
      "Epoch 39/150\n",
      "8000/8000 [==============================] - 1s 70us/step - loss: 0.6940 - acc: 0.7727\n",
      "Epoch 40/150\n",
      "8000/8000 [==============================] - 1s 73us/step - loss: 0.6895 - acc: 0.7719\n",
      "Epoch 41/150\n",
      "8000/8000 [==============================] - 1s 73us/step - loss: 0.6857 - acc: 0.7761\n",
      "Epoch 42/150\n",
      "8000/8000 [==============================] - 1s 73us/step - loss: 0.6903 - acc: 0.7776\n",
      "Epoch 43/150\n",
      "8000/8000 [==============================] - 1s 76us/step - loss: 0.6650 - acc: 0.7820\n",
      "Epoch 44/150\n",
      "8000/8000 [==============================] - 1s 76us/step - loss: 0.6489 - acc: 0.7893\n",
      "Epoch 45/150\n",
      "8000/8000 [==============================] - 1s 80us/step - loss: 0.6691 - acc: 0.7810\n",
      "Epoch 46/150\n",
      "8000/8000 [==============================] - 1s 76us/step - loss: 0.6425 - acc: 0.7963\n",
      "Epoch 47/150\n",
      "8000/8000 [==============================] - 1s 74us/step - loss: 0.6392 - acc: 0.7981\n",
      "Epoch 48/150\n",
      "8000/8000 [==============================] - 1s 80us/step - loss: 0.6353 - acc: 0.7955\n",
      "Epoch 49/150\n",
      "8000/8000 [==============================] - 1s 79us/step - loss: 0.6417 - acc: 0.7976\n",
      "Epoch 50/150\n",
      "8000/8000 [==============================] - 1s 80us/step - loss: 0.6241 - acc: 0.8056\n",
      "Epoch 51/150\n",
      "8000/8000 [==============================] - 1s 79us/step - loss: 0.6173 - acc: 0.8064\n",
      "Epoch 52/150\n",
      "8000/8000 [==============================] - 1s 80us/step - loss: 0.6112 - acc: 0.8068\n",
      "Epoch 53/150\n",
      "8000/8000 [==============================] - 1s 83us/step - loss: 0.6056 - acc: 0.8086\n",
      "Epoch 54/150\n",
      "8000/8000 [==============================] - 1s 72us/step - loss: 0.6003 - acc: 0.8106\n",
      "Epoch 55/150\n",
      "8000/8000 [==============================] - 1s 77us/step - loss: 0.5848 - acc: 0.8139\n",
      "Epoch 56/150\n",
      "8000/8000 [==============================] - 1s 79us/step - loss: 0.5853 - acc: 0.8159\n",
      "Epoch 57/150\n",
      "8000/8000 [==============================] - 1s 78us/step - loss: 0.5858 - acc: 0.8169\n",
      "Epoch 58/150\n",
      "8000/8000 [==============================] - 1s 74us/step - loss: 0.5811 - acc: 0.8159\n",
      "Epoch 59/150\n",
      "8000/8000 [==============================] - 1s 79us/step - loss: 0.5789 - acc: 0.8185\n",
      "Epoch 60/150\n",
      "8000/8000 [==============================] - 1s 82us/step - loss: 0.5998 - acc: 0.8100\n",
      "Epoch 61/150\n",
      "8000/8000 [==============================] - 1s 80us/step - loss: 0.5847 - acc: 0.8175\n",
      "Epoch 62/150\n",
      "8000/8000 [==============================] - 1s 77us/step - loss: 0.5732 - acc: 0.8148\n",
      "Epoch 63/150\n",
      "8000/8000 [==============================] - 1s 78us/step - loss: 0.5772 - acc: 0.8164\n",
      "Epoch 64/150\n",
      "8000/8000 [==============================] - 1s 78us/step - loss: 0.5672 - acc: 0.8203\n",
      "Epoch 65/150\n",
      "8000/8000 [==============================] - 1s 81us/step - loss: 0.5791 - acc: 0.8144\n",
      "Epoch 66/150\n",
      "8000/8000 [==============================] - 1s 70us/step - loss: 0.5648 - acc: 0.8237\n",
      "Epoch 67/150\n",
      "8000/8000 [==============================] - 1s 72us/step - loss: 0.5673 - acc: 0.8297\n",
      "Epoch 68/150\n",
      "8000/8000 [==============================] - 1s 65us/step - loss: 0.5621 - acc: 0.8251\n",
      "Epoch 69/150\n",
      "8000/8000 [==============================] - 1s 79us/step - loss: 0.5412 - acc: 0.8349\n",
      "Epoch 70/150\n",
      "8000/8000 [==============================] - 1s 75us/step - loss: 0.5325 - acc: 0.8345\n",
      "Epoch 71/150\n",
      "8000/8000 [==============================] - 1s 73us/step - loss: 0.5305 - acc: 0.8374\n",
      "Epoch 72/150\n",
      "8000/8000 [==============================] - 1s 77us/step - loss: 0.5360 - acc: 0.8321\n",
      "Epoch 73/150\n",
      "8000/8000 [==============================] - 1s 79us/step - loss: 0.5362 - acc: 0.8338\n",
      "Epoch 74/150\n",
      "8000/8000 [==============================] - 1s 78us/step - loss: 0.5423 - acc: 0.8270\n",
      "Epoch 75/150\n",
      "8000/8000 [==============================] - 1s 78us/step - loss: 0.5527 - acc: 0.8258\n",
      "Epoch 76/150\n",
      "8000/8000 [==============================] - 1s 80us/step - loss: 0.5643 - acc: 0.8236\n",
      "Epoch 77/150\n",
      "8000/8000 [==============================] - 1s 77us/step - loss: 0.5382 - acc: 0.8353\n",
      "Epoch 78/150\n",
      "8000/8000 [==============================] - 1s 80us/step - loss: 0.5515 - acc: 0.8282\n",
      "Epoch 79/150\n",
      "8000/8000 [==============================] - 1s 80us/step - loss: 0.5328 - acc: 0.8326\n",
      "Epoch 80/150\n",
      "8000/8000 [==============================] - 1s 78us/step - loss: 0.5212 - acc: 0.8395\n",
      "Epoch 81/150\n",
      "8000/8000 [==============================] - 1s 72us/step - loss: 0.5330 - acc: 0.8350\n",
      "Epoch 82/150\n",
      "8000/8000 [==============================] - 1s 77us/step - loss: 0.5409 - acc: 0.8330\n",
      "Epoch 83/150\n",
      "8000/8000 [==============================] - 1s 79us/step - loss: 0.5227 - acc: 0.8407\n",
      "Epoch 84/150\n",
      "8000/8000 [==============================] - 1s 80us/step - loss: 0.5167 - acc: 0.8389\n",
      "Epoch 85/150\n",
      "8000/8000 [==============================] - 1s 79us/step - loss: 0.5181 - acc: 0.8401\n",
      "Epoch 86/150\n",
      "8000/8000 [==============================] - 1s 78us/step - loss: 0.5119 - acc: 0.8446\n",
      "Epoch 87/150\n",
      "8000/8000 [==============================] - 1s 71us/step - loss: 0.4998 - acc: 0.8418\n",
      "Epoch 88/150\n",
      "8000/8000 [==============================] - 1s 78us/step - loss: 0.5103 - acc: 0.8455\n",
      "Epoch 89/150\n",
      "8000/8000 [==============================] - 1s 78us/step - loss: 0.5287 - acc: 0.8372\n",
      "Epoch 90/150\n",
      "8000/8000 [==============================] - 1s 67us/step - loss: 0.5218 - acc: 0.8363\n",
      "Epoch 91/150\n",
      "8000/8000 [==============================] - 1s 79us/step - loss: 0.5275 - acc: 0.8319\n",
      "Epoch 92/150\n",
      "8000/8000 [==============================] - 1s 82us/step - loss: 0.5213 - acc: 0.8370\n",
      "Epoch 93/150\n",
      "8000/8000 [==============================] - 1s 76us/step - loss: 0.5128 - acc: 0.8383\n",
      "Epoch 94/150\n",
      "8000/8000 [==============================] - 1s 75us/step - loss: 0.5145 - acc: 0.8405\n",
      "Epoch 95/150\n",
      "8000/8000 [==============================] - 1s 79us/step - loss: 0.4989 - acc: 0.8465\n",
      "Epoch 96/150\n",
      "8000/8000 [==============================] - 1s 75us/step - loss: 0.5046 - acc: 0.8421\n",
      "Epoch 97/150\n",
      "8000/8000 [==============================] - 1s 80us/step - loss: 0.4929 - acc: 0.8484\n",
      "Epoch 98/150\n",
      "8000/8000 [==============================] - 1s 77us/step - loss: 0.4884 - acc: 0.8495\n",
      "Epoch 99/150\n",
      "8000/8000 [==============================] - 1s 78us/step - loss: 0.4970 - acc: 0.8466\n",
      "Epoch 100/150\n",
      "8000/8000 [==============================] - 1s 77us/step - loss: 0.4795 - acc: 0.8556\n",
      "Epoch 101/150\n",
      "8000/8000 [==============================] - 1s 79us/step - loss: 0.4816 - acc: 0.8512\n",
      "Epoch 102/150\n",
      "8000/8000 [==============================] - 1s 72us/step - loss: 0.4715 - acc: 0.8511\n",
      "Epoch 103/150\n",
      "8000/8000 [==============================] - 1s 77us/step - loss: 0.4675 - acc: 0.8556\n",
      "Epoch 104/150\n",
      "8000/8000 [==============================] - 1s 81us/step - loss: 0.4799 - acc: 0.8520\n",
      "Epoch 105/150\n",
      "8000/8000 [==============================] - 1s 76us/step - loss: 0.4702 - acc: 0.8544\n",
      "Epoch 106/150\n",
      "8000/8000 [==============================] - 1s 78us/step - loss: 0.4739 - acc: 0.8548\n",
      "Epoch 107/150\n",
      "8000/8000 [==============================] - 1s 83us/step - loss: 0.4705 - acc: 0.8550\n",
      "Epoch 108/150\n",
      "8000/8000 [==============================] - 1s 74us/step - loss: 0.4676 - acc: 0.8550\n",
      "Epoch 109/150\n",
      "8000/8000 [==============================] - 1s 68us/step - loss: 0.4616 - acc: 0.8610\n",
      "Epoch 110/150\n",
      "8000/8000 [==============================] - 0s 62us/step - loss: 0.4513 - acc: 0.8670\n",
      "Epoch 111/150\n",
      "8000/8000 [==============================] - 1s 74us/step - loss: 0.4553 - acc: 0.8621\n",
      "Epoch 112/150\n",
      "8000/8000 [==============================] - 1s 73us/step - loss: 0.4640 - acc: 0.8605\n",
      "Epoch 113/150\n",
      "8000/8000 [==============================] - 1s 68us/step - loss: 0.4701 - acc: 0.8561\n",
      "Epoch 114/150\n",
      "8000/8000 [==============================] - 1s 75us/step - loss: 0.4641 - acc: 0.8570\n",
      "Epoch 115/150\n",
      "8000/8000 [==============================] - 1s 81us/step - loss: 0.4566 - acc: 0.8590\n",
      "Epoch 116/150\n",
      "8000/8000 [==============================] - 1s 84us/step - loss: 0.4455 - acc: 0.8630\n",
      "Epoch 117/150\n",
      "8000/8000 [==============================] - 1s 82us/step - loss: 0.4612 - acc: 0.8643\n",
      "Epoch 118/150\n",
      "8000/8000 [==============================] - 1s 84us/step - loss: 0.4673 - acc: 0.8558\n",
      "Epoch 119/150\n",
      "8000/8000 [==============================] - 1s 82us/step - loss: 0.4633 - acc: 0.8573\n",
      "Epoch 120/150\n",
      "8000/8000 [==============================] - 1s 72us/step - loss: 0.4512 - acc: 0.8651\n",
      "Epoch 121/150\n",
      "8000/8000 [==============================] - 1s 82us/step - loss: 0.4496 - acc: 0.8654\n",
      "Epoch 122/150\n",
      "8000/8000 [==============================] - 1s 86us/step - loss: 0.4458 - acc: 0.8602\n",
      "Epoch 123/150\n",
      "8000/8000 [==============================] - 1s 84us/step - loss: 0.4313 - acc: 0.8675\n",
      "Epoch 124/150\n",
      "8000/8000 [==============================] - 1s 77us/step - loss: 0.4354 - acc: 0.8749\n",
      "Epoch 125/150\n",
      "8000/8000 [==============================] - 1s 81us/step - loss: 0.4321 - acc: 0.8710\n",
      "Epoch 126/150\n",
      "8000/8000 [==============================] - 1s 75us/step - loss: 0.4371 - acc: 0.8695\n",
      "Epoch 127/150\n",
      "8000/8000 [==============================] - 1s 76us/step - loss: 0.4300 - acc: 0.8666\n",
      "Epoch 128/150\n",
      "8000/8000 [==============================] - 1s 78us/step - loss: 0.4411 - acc: 0.8669\n",
      "Epoch 129/150\n",
      "8000/8000 [==============================] - 1s 81us/step - loss: 0.4395 - acc: 0.8650\n",
      "Epoch 130/150\n",
      "8000/8000 [==============================] - 1s 76us/step - loss: 0.4470 - acc: 0.8633\n",
      "Epoch 131/150\n",
      "8000/8000 [==============================] - 1s 73us/step - loss: 0.4308 - acc: 0.8663\n",
      "Epoch 132/150\n",
      "8000/8000 [==============================] - 1s 81us/step - loss: 0.4283 - acc: 0.8701\n",
      "Epoch 133/150\n",
      "8000/8000 [==============================] - 1s 77us/step - loss: 0.4254 - acc: 0.8683\n",
      "Epoch 134/150\n",
      "8000/8000 [==============================] - 1s 79us/step - loss: 0.4244 - acc: 0.8734\n",
      "Epoch 135/150\n",
      "8000/8000 [==============================] - 1s 79us/step - loss: 0.4281 - acc: 0.8699\n",
      "Epoch 136/150\n",
      "8000/8000 [==============================] - 1s 80us/step - loss: 0.4281 - acc: 0.8670\n",
      "Epoch 137/150\n",
      "8000/8000 [==============================] - 1s 72us/step - loss: 0.4383 - acc: 0.8685\n",
      "Epoch 138/150\n",
      "8000/8000 [==============================] - 1s 63us/step - loss: 0.4347 - acc: 0.8638\n",
      "Epoch 139/150\n",
      "8000/8000 [==============================] - 1s 67us/step - loss: 0.4289 - acc: 0.8673\n",
      "Epoch 140/150\n",
      "8000/8000 [==============================] - 1s 78us/step - loss: 0.4181 - acc: 0.8678\n",
      "Epoch 141/150\n",
      "8000/8000 [==============================] - 1s 79us/step - loss: 0.4258 - acc: 0.8703\n",
      "Epoch 142/150\n",
      "8000/8000 [==============================] - 1s 72us/step - loss: 0.4349 - acc: 0.8676\n",
      "Epoch 143/150\n",
      "8000/8000 [==============================] - 1s 80us/step - loss: 0.4188 - acc: 0.8741\n",
      "Epoch 144/150\n",
      "8000/8000 [==============================] - 1s 80us/step - loss: 0.4241 - acc: 0.8727\n",
      "Epoch 145/150\n",
      "8000/8000 [==============================] - 1s 80us/step - loss: 0.4264 - acc: 0.8701\n",
      "Epoch 146/150\n",
      "8000/8000 [==============================] - 1s 80us/step - loss: 0.4091 - acc: 0.8752\n",
      "Epoch 147/150\n",
      "8000/8000 [==============================] - 1s 79us/step - loss: 0.4115 - acc: 0.8750\n",
      "Epoch 148/150\n",
      "8000/8000 [==============================] - 1s 83us/step - loss: 0.4035 - acc: 0.8817\n",
      "Epoch 149/150\n",
      "8000/8000 [==============================] - 1s 82us/step - loss: 0.4105 - acc: 0.8765\n",
      "Epoch 150/150\n",
      "8000/8000 [==============================] - 1s 82us/step - loss: 0.3981 - acc: 0.8823\n",
      "2000/2000 [==============================] - 0s 89us/step\n",
      "[0.35403013825416563, 0.90500000000000003]\n"
     ]
    }
   ],
   "source": [
    "%run keras/05_mnist_dropout_keras.py"
   ]
  },
  {
   "cell_type": "code",
   "execution_count": null,
   "metadata": {
    "collapsed": true
   },
   "outputs": [],
   "source": []
  },
  {
   "cell_type": "markdown",
   "metadata": {},
   "source": [
    "# 06_mnist_plot"
   ]
  },
  {
   "cell_type": "code",
   "execution_count": 12,
   "metadata": {
    "collapsed": true
   },
   "outputs": [
    {
     "name": "stderr",
     "output_type": "stream",
     "text": [
      "/Users/yohei/.pyenv/versions/anaconda3-5.0.0/envs/tensorflow/lib/python3.5/site-packages/sklearn/model_selection/_split.py:2026: FutureWarning: From version 0.21, test_size will always complement train_size unless both are specified.\n",
      "  FutureWarning)\n"
     ]
    },
    {
     "name": "stdout",
     "output_type": "stream",
     "text": [
      "epoch: 0  validation loss: 2.02127  validation accuracy: 0.2925\n",
      "epoch: 1  validation loss: 0.764946  validation accuracy: 0.785\n",
      "epoch: 2  validation loss: 0.514663  validation accuracy: 0.84825\n",
      "epoch: 3  validation loss: 0.407645  validation accuracy: 0.881\n",
      "epoch: 4  validation loss: 0.345029  validation accuracy: 0.90475\n",
      "epoch: 5  validation loss: 0.294421  validation accuracy: 0.91375\n",
      "epoch: 6  validation loss: 0.269061  validation accuracy: 0.92525\n",
      "epoch: 7  validation loss: 0.243571  validation accuracy: 0.929\n",
      "epoch: 8  validation loss: 0.242926  validation accuracy: 0.93025\n",
      "epoch: 9  validation loss: 0.213154  validation accuracy: 0.93775\n",
      "epoch: 10  validation loss: 0.205501  validation accuracy: 0.94075\n",
      "epoch: 11  validation loss: 0.19507  validation accuracy: 0.9425\n",
      "epoch: 12  validation loss: 0.185069  validation accuracy: 0.944\n",
      "epoch: 13  validation loss: 0.176722  validation accuracy: 0.95\n",
      "epoch: 14  validation loss: 0.173267  validation accuracy: 0.94775\n",
      "epoch: 15  validation loss: 0.171323  validation accuracy: 0.9515\n",
      "epoch: 16  validation loss: 0.160768  validation accuracy: 0.9555\n",
      "epoch: 17  validation loss: 0.16728  validation accuracy: 0.955\n",
      "epoch: 18  validation loss: 0.159428  validation accuracy: 0.95825\n",
      "epoch: 19  validation loss: 0.153465  validation accuracy: 0.957\n",
      "epoch: 20  validation loss: 0.158171  validation accuracy: 0.958\n",
      "epoch: 21  validation loss: 0.15004  validation accuracy: 0.9595\n",
      "epoch: 22  validation loss: 0.144897  validation accuracy: 0.959\n",
      "epoch: 23  validation loss: 0.143494  validation accuracy: 0.963\n",
      "epoch: 24  validation loss: 0.148243  validation accuracy: 0.961\n",
      "epoch: 25  validation loss: 0.143612  validation accuracy: 0.96275\n",
      "epoch: 26  validation loss: 0.14361  validation accuracy: 0.96275\n",
      "epoch: 27  validation loss: 0.140766  validation accuracy: 0.9605\n",
      "epoch: 28  validation loss: 0.142415  validation accuracy: 0.96325\n",
      "epoch: 29  validation loss: 0.151465  validation accuracy: 0.95975\n",
      "epoch: 30  validation loss: 0.148132  validation accuracy: 0.959\n",
      "epoch: 31  validation loss: 0.143442  validation accuracy: 0.96225\n",
      "epoch: 32  validation loss: 0.139335  validation accuracy: 0.96275\n",
      "epoch: 33  validation loss: 0.141755  validation accuracy: 0.96525\n",
      "epoch: 34  validation loss: 0.140074  validation accuracy: 0.9655\n",
      "epoch: 35  validation loss: 0.141143  validation accuracy: 0.96375\n",
      "epoch: 36  validation loss: 0.144291  validation accuracy: 0.965\n",
      "epoch: 37  validation loss: 0.141462  validation accuracy: 0.9635\n",
      "epoch: 38  validation loss: 0.146244  validation accuracy: 0.96425\n",
      "epoch: 39  validation loss: 0.148716  validation accuracy: 0.96375\n",
      "epoch: 40  validation loss: 0.140516  validation accuracy: 0.96625\n",
      "epoch: 41  validation loss: 0.143449  validation accuracy: 0.9665\n",
      "epoch: 42  validation loss: 0.151087  validation accuracy: 0.96275\n",
      "epoch: 43  validation loss: 0.146854  validation accuracy: 0.96575\n",
      "epoch: 44  validation loss: 0.151707  validation accuracy: 0.9635\n",
      "epoch: 45  validation loss: 0.143253  validation accuracy: 0.96525\n",
      "epoch: 46  validation loss: 0.148443  validation accuracy: 0.967\n",
      "epoch: 47  validation loss: 0.139251  validation accuracy: 0.9665\n",
      "epoch: 48  validation loss: 0.141156  validation accuracy: 0.96675\n",
      "epoch: 49  validation loss: 0.151354  validation accuracy: 0.965\n"
     ]
    },
    {
     "data": {
      "image/png": "[encoded data removed]",
      "text/plain": [
       "<matplotlib.figure.Figure at 0x1a24b45ef0>"
      ]
     },
     "metadata": {},
     "output_type": "display_data"
    },
    {
     "name": "stdout",
     "output_type": "stream",
     "text": [
      "accuracy:  0.9633\n"
     ]
    }
   ],
   "source": [
    "%run tensorflow/06_mnist_plot_tensorflow.py"
   ]
  },
  {
   "cell_type": "code",
   "execution_count": 15,
   "metadata": {
    "collapsed": true
   },
   "outputs": [
    {
     "data": {
      "image/png": "[encoded data removed]",
      "text/plain": [
       "<matplotlib.figure.Figure at 0x1a269030b8>"
      ]
     },
     "metadata": {},
     "output_type": "display_data"
    }
   ],
   "source": [
    " fig = plt.figure()\n",
    "ax_acc = fig.add_subplot(111)\n",
    "ax_acc.plot(range(epochs), history['val_acc'],\n",
    "            label='acc', color='r')\n",
    "ax_loss = ax_acc.twinx()\n",
    "ax_loss.plot(range(epochs), history['val_loss'],\n",
    "             label='loss', color='b')\n",
    "ax_acc.set_xlabel('epochs')\n",
    "ax_acc.legend()\n",
    "ax_loss.legend()\n",
    "plt.show()"
   ]
  },
  {
   "cell_type": "code",
   "execution_count": 18,
   "metadata": {
    "collapsed": true
   },
   "outputs": [
    {
     "data": {
      "text/plain": [
       "array([2, 9, 6, 4, 0, 3, 1, 7, 8, 5])"
      ]
     },
     "execution_count": 18,
     "metadata": {},
     "output_type": "execute_result"
    }
   ],
   "source": [
    "np.random.seed(1)\n",
    "\n",
    "np.random.permutation(range(10))"
   ]
  },
  {
   "cell_type": "code",
   "execution_count": 19,
   "metadata": {
    "collapsed": true
   },
   "outputs": [
    {
     "data": {
      "text/plain": [
       "array([2, 9, 6, 4, 0, 3, 1, 7, 8, 5])"
      ]
     },
     "execution_count": 19,
     "metadata": {},
     "output_type": "execute_result"
    }
   ],
   "source": [
    "np.random.seed(1)\n",
    "\n",
    "np.random.permutation(range(10))"
   ]
  },
  {
   "cell_type": "code",
   "execution_count": 20,
   "metadata": {
    "collapsed": true
   },
   "outputs": [
    {
     "name": "stderr",
     "output_type": "stream",
     "text": [
      "Using TensorFlow backend.\n",
      "/Users/yohei/.pyenv/versions/anaconda3-5.0.0/envs/tensorflow/lib/python3.5/site-packages/sklearn/model_selection/_split.py:2026: FutureWarning: From version 0.21, test_size will always complement train_size unless both are specified.\n",
      "  FutureWarning)\n"
     ]
    },
    {
     "name": "stdout",
     "output_type": "stream",
     "text": [
      "Train on 16000 samples, validate on 4000 samples\n",
      "Epoch 1/50\n",
      "16000/16000 [==============================] - 3s 171us/step - loss: 2.2601 - acc: 0.1544 - val_loss: 2.0627 - val_acc: 0.4390\n",
      "Epoch 2/50\n",
      "16000/16000 [==============================] - 1s 74us/step - loss: 1.4251 - acc: 0.5268 - val_loss: 0.7187 - val_acc: 0.7718\n",
      "Epoch 3/50\n",
      "16000/16000 [==============================] - 1s 72us/step - loss: 0.8069 - acc: 0.7359 - val_loss: 0.4898 - val_acc: 0.8600\n",
      "Epoch 4/50\n",
      "16000/16000 [==============================] - 1s 70us/step - loss: 0.6133 - acc: 0.8110 - val_loss: 0.3976 - val_acc: 0.8843\n",
      "Epoch 5/50\n",
      "16000/16000 [==============================] - 1s 73us/step - loss: 0.5117 - acc: 0.8460 - val_loss: 0.3315 - val_acc: 0.9055\n",
      "Epoch 6/50\n",
      "16000/16000 [==============================] - 1s 72us/step - loss: 0.4366 - acc: 0.8721 - val_loss: 0.3004 - val_acc: 0.9110\n",
      "Epoch 7/50\n",
      "16000/16000 [==============================] - 1s 74us/step - loss: 0.3893 - acc: 0.8871 - val_loss: 0.2585 - val_acc: 0.9235\n",
      "Epoch 8/50\n",
      "16000/16000 [==============================] - 1s 72us/step - loss: 0.3506 - acc: 0.8973 - val_loss: 0.2336 - val_acc: 0.9330\n",
      "Epoch 9/50\n",
      "16000/16000 [==============================] - 1s 77us/step - loss: 0.3226 - acc: 0.9072 - val_loss: 0.2217 - val_acc: 0.9337\n",
      "Epoch 10/50\n",
      "16000/16000 [==============================] - 1s 74us/step - loss: 0.2985 - acc: 0.9134 - val_loss: 0.2106 - val_acc: 0.9393\n",
      "Epoch 11/50\n",
      "16000/16000 [==============================] - 1s 76us/step - loss: 0.2788 - acc: 0.9204 - val_loss: 0.2070 - val_acc: 0.9415\n",
      "Epoch 12/50\n",
      "16000/16000 [==============================] - 1s 73us/step - loss: 0.2584 - acc: 0.9264 - val_loss: 0.1860 - val_acc: 0.9445\n",
      "Epoch 13/50\n",
      "16000/16000 [==============================] - 1s 74us/step - loss: 0.2468 - acc: 0.9287 - val_loss: 0.1913 - val_acc: 0.9453\n",
      "Epoch 14/50\n",
      "16000/16000 [==============================] - 1s 76us/step - loss: 0.2366 - acc: 0.9315 - val_loss: 0.1789 - val_acc: 0.9465\n",
      "Epoch 15/50\n",
      "16000/16000 [==============================] - 1s 73us/step - loss: 0.2163 - acc: 0.9384 - val_loss: 0.1721 - val_acc: 0.9510\n",
      "Epoch 16/50\n",
      "16000/16000 [==============================] - 1s 75us/step - loss: 0.2194 - acc: 0.9371 - val_loss: 0.1680 - val_acc: 0.9495\n",
      "Epoch 17/50\n",
      "16000/16000 [==============================] - 1s 78us/step - loss: 0.1972 - acc: 0.9434 - val_loss: 0.1643 - val_acc: 0.9520\n",
      "Epoch 18/50\n",
      "16000/16000 [==============================] - 1s 76us/step - loss: 0.1923 - acc: 0.9451 - val_loss: 0.1633 - val_acc: 0.9537\n",
      "Epoch 19/50\n",
      "16000/16000 [==============================] - 1s 77us/step - loss: 0.1843 - acc: 0.9459 - val_loss: 0.1586 - val_acc: 0.9563\n",
      "Epoch 20/50\n",
      "16000/16000 [==============================] - 1s 74us/step - loss: 0.1789 - acc: 0.9476 - val_loss: 0.1536 - val_acc: 0.9535\n",
      "Epoch 21/50\n",
      "16000/16000 [==============================] - 1s 77us/step - loss: 0.1780 - acc: 0.9492 - val_loss: 0.1542 - val_acc: 0.9575\n",
      "Epoch 22/50\n",
      "16000/16000 [==============================] - 1s 74us/step - loss: 0.1634 - acc: 0.9527 - val_loss: 0.1569 - val_acc: 0.9550\n",
      "Epoch 23/50\n",
      "16000/16000 [==============================] - 1s 76us/step - loss: 0.1617 - acc: 0.9520 - val_loss: 0.1622 - val_acc: 0.9550\n",
      "Epoch 24/50\n",
      "16000/16000 [==============================] - 1s 76us/step - loss: 0.1578 - acc: 0.9536 - val_loss: 0.1507 - val_acc: 0.9588\n",
      "Epoch 25/50\n",
      "16000/16000 [==============================] - 1s 77us/step - loss: 0.1406 - acc: 0.9606 - val_loss: 0.1454 - val_acc: 0.9610\n",
      "Epoch 26/50\n",
      "16000/16000 [==============================] - 1s 78us/step - loss: 0.1483 - acc: 0.9564 - val_loss: 0.1477 - val_acc: 0.9565\n",
      "Epoch 27/50\n",
      "16000/16000 [==============================] - 1s 76us/step - loss: 0.1442 - acc: 0.9582 - val_loss: 0.1472 - val_acc: 0.9573\n",
      "Epoch 28/50\n",
      "16000/16000 [==============================] - 1s 76us/step - loss: 0.1392 - acc: 0.9580 - val_loss: 0.1461 - val_acc: 0.9590\n",
      "Epoch 29/50\n",
      "16000/16000 [==============================] - 1s 79us/step - loss: 0.1306 - acc: 0.9597 - val_loss: 0.1490 - val_acc: 0.9593\n",
      "Epoch 30/50\n",
      "16000/16000 [==============================] - 1s 77us/step - loss: 0.1347 - acc: 0.9606 - val_loss: 0.1469 - val_acc: 0.9598\n",
      "Epoch 31/50\n",
      "16000/16000 [==============================] - 1s 78us/step - loss: 0.1287 - acc: 0.9618 - val_loss: 0.1479 - val_acc: 0.9578\n",
      "Epoch 32/50\n",
      "16000/16000 [==============================] - 1s 81us/step - loss: 0.1223 - acc: 0.9647 - val_loss: 0.1378 - val_acc: 0.9605\n",
      "Epoch 33/50\n",
      "16000/16000 [==============================] - 1s 83us/step - loss: 0.1251 - acc: 0.9612 - val_loss: 0.1484 - val_acc: 0.9598\n",
      "Epoch 34/50\n",
      "16000/16000 [==============================] - 1s 76us/step - loss: 0.1162 - acc: 0.9658 - val_loss: 0.1428 - val_acc: 0.9608\n",
      "Epoch 35/50\n",
      "16000/16000 [==============================] - 1s 75us/step - loss: 0.1145 - acc: 0.9662 - val_loss: 0.1379 - val_acc: 0.9595\n",
      "Epoch 36/50\n",
      "16000/16000 [==============================] - 1s 77us/step - loss: 0.1119 - acc: 0.9668 - val_loss: 0.1457 - val_acc: 0.9625\n",
      "Epoch 37/50\n",
      "16000/16000 [==============================] - 1s 77us/step - loss: 0.1102 - acc: 0.9684 - val_loss: 0.1431 - val_acc: 0.9610\n",
      "Epoch 38/50\n",
      "16000/16000 [==============================] - 1s 74us/step - loss: 0.1094 - acc: 0.9671 - val_loss: 0.1511 - val_acc: 0.9573\n",
      "Epoch 39/50\n",
      "16000/16000 [==============================] - 1s 75us/step - loss: 0.1097 - acc: 0.9674 - val_loss: 0.1371 - val_acc: 0.9623\n",
      "Epoch 40/50\n",
      "16000/16000 [==============================] - 1s 73us/step - loss: 0.1065 - acc: 0.9678 - val_loss: 0.1424 - val_acc: 0.9635\n",
      "Epoch 41/50\n",
      "16000/16000 [==============================] - 1s 77us/step - loss: 0.1018 - acc: 0.9689 - val_loss: 0.1501 - val_acc: 0.9590\n",
      "Epoch 42/50\n",
      "16000/16000 [==============================] - 1s 74us/step - loss: 0.1046 - acc: 0.9677 - val_loss: 0.1396 - val_acc: 0.9627\n",
      "Epoch 43/50\n",
      "16000/16000 [==============================] - 1s 76us/step - loss: 0.1036 - acc: 0.9686 - val_loss: 0.1514 - val_acc: 0.9638\n",
      "Epoch 44/50\n",
      "16000/16000 [==============================] - 1s 78us/step - loss: 0.0985 - acc: 0.9703 - val_loss: 0.1411 - val_acc: 0.9635\n",
      "Epoch 45/50\n",
      "16000/16000 [==============================] - 1s 77us/step - loss: 0.0920 - acc: 0.9735 - val_loss: 0.1501 - val_acc: 0.9632\n",
      "Epoch 46/50\n",
      "16000/16000 [==============================] - 1s 77us/step - loss: 0.0986 - acc: 0.9698 - val_loss: 0.1478 - val_acc: 0.9640\n",
      "Epoch 47/50\n",
      "16000/16000 [==============================] - 1s 78us/step - loss: 0.0894 - acc: 0.9741 - val_loss: 0.1470 - val_acc: 0.9635\n",
      "Epoch 48/50\n",
      "16000/16000 [==============================] - 1s 79us/step - loss: 0.0890 - acc: 0.9715 - val_loss: 0.1590 - val_acc: 0.9590\n",
      "Epoch 49/50\n",
      "16000/16000 [==============================] - 1s 79us/step - loss: 0.0862 - acc: 0.9726 - val_loss: 0.1402 - val_acc: 0.9625\n",
      "Epoch 50/50\n",
      "16000/16000 [==============================] - 1s 79us/step - loss: 0.0846 - acc: 0.9746 - val_loss: 0.1565 - val_acc: 0.9628\n"
     ]
    },
    {
     "data": {
      "image/png": "[encoded data removed]",
      "text/plain": [
       "<matplotlib.figure.Figure at 0x1a3e79f9b0>"
      ]
     },
     "metadata": {},
     "output_type": "display_data"
    },
    {
     "name": "stdout",
     "output_type": "stream",
     "text": [
      "10000/10000 [==============================] - 1s 51us/step\n",
      "[0.14144503666860983, 0.96430000000000005]\n"
     ]
    },
    {
     "data": {
      "text/plain": [
       "<matplotlib.figure.Figure at 0x1a2707f780>"
      ]
     },
     "metadata": {},
     "output_type": "display_data"
    }
   ],
   "source": [
    "%run keras/06_mnist_plot_keras.py"
   ]
  },
  {
   "cell_type": "code",
   "execution_count": 11,
   "metadata": {},
   "outputs": [
    {
     "name": "stdout",
     "output_type": "stream",
     "text": [
      "10000/10000 [==============================] - 1s 54us/step\n",
      "[0.13772666341555304, 0.96579999999999999]\n"
     ]
    }
   ],
   "source": [
    "loss_and_metrics = model.evaluate(X_test, Y_test)\n",
    "print(loss_and_metrics)"
   ]
  },
  {
   "cell_type": "code",
   "execution_count": 12,
   "metadata": {},
   "outputs": [
    {
     "data": {
      "image/png": "[encoded data removed]",
      "text/plain": [
       "<matplotlib.figure.Figure at 0x1a2e11a390>"
      ]
     },
     "metadata": {},
     "output_type": "display_data"
    }
   ],
   "source": [
    "val_acc = hist.history['val_acc']\n",
    "val_loss = hist.history['val_loss']\n",
    "\n",
    "plt.rc('font', family='serif')\n",
    "fig = plt.figure()\n",
    "plt.plot(range(epochs), val_acc, label='acc', color='black')\n",
    "plt.xlabel('epochs')\n",
    "plt.show()"
   ]
  },
  {
   "cell_type": "code",
   "execution_count": 18,
   "metadata": {},
   "outputs": [
    {
     "name": "stdout",
     "output_type": "stream",
     "text": [
      "784\n",
      "200\n",
      "200\n",
      "200\n"
     ]
    }
   ],
   "source": [
    "for i, input_dim in enumerate(([n_in] + n_hiddens)):\n",
    "    print(input_dim)"
   ]
  },
  {
   "cell_type": "code",
   "execution_count": null,
   "metadata": {},
   "outputs": [],
   "source": []
  },
  {
   "cell_type": "markdown",
   "metadata": {},
   "source": [
    "# 初期値に関する考察"
   ]
  },
  {
   "cell_type": "code",
   "execution_count": 8,
   "metadata": {},
   "outputs": [
    {
     "data": {
      "image/png": "[encoded data removed]",
      "text/plain": [
       "<matplotlib.figure.Figure at 0x1820a9b5f8>"
      ]
     },
     "metadata": {},
     "output_type": "display_data"
    },
    {
     "data": {
      "text/plain": [
       "(array([   1.,    0.,    0.,    0.,    1.,    0.,    0.,    0.,    3.,\n",
       "           5.,    5.,    3.,    7.,    7.,    9.,   19.,    5.,   12.,\n",
       "          22.,   21.,   30.,   32.,   30.,   39.,   41.,   57.,   70.,\n",
       "          88.,   88.,  104.,  120.,  130.,  135.,  141.,  139.,  167.,\n",
       "         202.,  208.,  228.,  240.,  220.,  234.,  273.,  254.,  299.,\n",
       "         289.,  285.,  307.,  342.,  330.,  295.,  300.,  323.,  277.,\n",
       "         254.,  283.,  250.,  241.,  242.,  223.,  205.,  204.,  177.,\n",
       "         177.,  137.,  133.,  128.,  118.,  102.,   98.,   82.,   73.,\n",
       "          76.,   60.,   44.,   38.,   38.,   26.,   26.,   24.,   17.,\n",
       "          15.,   16.,   11.,   16.,    5.,    3.,    5.,    5.,    4.,\n",
       "           1.,    1.,    1.,    2.,    0.,    1.,    0.,    0.,    0.,    1.]),\n",
       " array([-0.74802013, -0.73293661, -0.71785308, -0.70276956, -0.68768604,\n",
       "        -0.67260252, -0.657519  , -0.64243548, -0.62735195, -0.61226843,\n",
       "        -0.59718491, -0.58210139, -0.56701787, -0.55193435, -0.53685082,\n",
       "        -0.5217673 , -0.50668378, -0.49160026, -0.47651674, -0.46143322,\n",
       "        -0.44634969, -0.43126617, -0.41618265, -0.40109913, -0.38601561,\n",
       "        -0.37093208, -0.35584856, -0.34076504, -0.32568152, -0.310598  ,\n",
       "        -0.29551448, -0.28043095, -0.26534743, -0.25026391, -0.23518039,\n",
       "        -0.22009687, -0.20501335, -0.18992982, -0.1748463 , -0.15976278,\n",
       "        -0.14467926, -0.12959574, -0.11451222, -0.09942869, -0.08434517,\n",
       "        -0.06926165, -0.05417813, -0.03909461, -0.02401109, -0.00892756,\n",
       "         0.00615596,  0.02123948,  0.036323  ,  0.05140652,  0.06649004,\n",
       "         0.08157357,  0.09665709,  0.11174061,  0.12682413,  0.14190765,\n",
       "         0.15699117,  0.1720747 ,  0.18715822,  0.20224174,  0.21732526,\n",
       "         0.23240878,  0.2474923 ,  0.26257583,  0.27765935,  0.29274287,\n",
       "         0.30782639,  0.32290991,  0.33799344,  0.35307696,  0.36816048,\n",
       "         0.383244  ,  0.39832752,  0.41341104,  0.42849457,  0.44357809,\n",
       "         0.45866161,  0.47374513,  0.48882865,  0.50391217,  0.5189957 ,\n",
       "         0.53407922,  0.54916274,  0.56424626,  0.57932978,  0.5944133 ,\n",
       "         0.60949683,  0.62458035,  0.63966387,  0.65474739,  0.66983091,\n",
       "         0.68491443,  0.69999796,  0.71508148,  0.730165  ,  0.74524852,\n",
       "         0.76033204]),\n",
       " <a list of 100 Patch objects>)"
      ]
     },
     "execution_count": 8,
     "metadata": {},
     "output_type": "execute_result"
    },
    {
     "data": {
      "image/png": "[encoded data removed]",
      "text/plain": [
       "<matplotlib.figure.Figure at 0x1820eed710>"
      ]
     },
     "metadata": {},
     "output_type": "display_data"
    }
   ],
   "source": [
    "seed = np.random.RandomState(0)\n",
    "x = seed.randn(10000)\n",
    "plt.hist(x, bins=100)\n",
    "plt.show()\n",
    "plt.hist(x*0.2, bins=100)"
   ]
  },
  {
   "cell_type": "code",
   "execution_count": 21,
   "metadata": {},
   "outputs": [
    {
     "data": {
      "image/png": "[encoded data removed]",
      "text/plain": [
       "<matplotlib.figure.Figure at 0x1a2a72c4a8>"
      ]
     },
     "metadata": {},
     "output_type": "display_data"
    }
   ],
   "source": [
    "a =  np.sqrt(2.0 / 10) * tf.truncated_normal([10000, 1])\n",
    "\n",
    "sess = tf.Session()\n",
    "\n",
    "b = sess.run(a)\n",
    "b.reshape(10000)\n",
    "plt.hist(b, bins=100)\n",
    "plt.show()"
   ]
  },
  {
   "cell_type": "markdown",
   "metadata": {},
   "source": [
    "# 07_mnist_momentum"
   ]
  },
  {
   "cell_type": "code",
   "execution_count": 9,
   "metadata": {},
   "outputs": [
    {
     "name": "stderr",
     "output_type": "stream",
     "text": [
      "/Users/yohei/.pyenv/versions/anaconda3-5.0.0/envs/tensorflow/lib/python3.5/site-packages/sklearn/model_selection/_split.py:2026: FutureWarning: From version 0.21, test_size will always complement train_size unless both are specified.\n",
      "  FutureWarning)\n"
     ]
    },
    {
     "name": "stdout",
     "output_type": "stream",
     "text": [
      "epoch: 0  validation loss: 0.894882  validation accuracy: 0.78125\n",
      "epoch: 1  validation loss: 0.521046  validation accuracy: 0.862\n",
      "epoch: 2  validation loss: 0.403963  validation accuracy: 0.88475\n",
      "epoch: 3  validation loss: 0.358346  validation accuracy: 0.89325\n",
      "epoch: 4  validation loss: 0.323094  validation accuracy: 0.9065\n",
      "epoch: 5  validation loss: 0.298913  validation accuracy: 0.912\n",
      "epoch: 6  validation loss: 0.27547  validation accuracy: 0.91825\n",
      "epoch: 7  validation loss: 0.259061  validation accuracy: 0.92225\n",
      "epoch: 8  validation loss: 0.25417  validation accuracy: 0.9255\n",
      "epoch: 9  validation loss: 0.250406  validation accuracy: 0.9265\n",
      "epoch: 10  validation loss: 0.229387  validation accuracy: 0.93275\n",
      "epoch: 11  validation loss: 0.220805  validation accuracy: 0.9355\n",
      "epoch: 12  validation loss: 0.213931  validation accuracy: 0.9395\n",
      "epoch: 13  validation loss: 0.207984  validation accuracy: 0.943\n",
      "epoch: 14  validation loss: 0.202765  validation accuracy: 0.9425\n",
      "epoch: 15  validation loss: 0.206611  validation accuracy: 0.9425\n",
      "epoch: 16  validation loss: 0.196287  validation accuracy: 0.945\n",
      "epoch: 17  validation loss: 0.196015  validation accuracy: 0.947\n",
      "epoch: 18  validation loss: 0.183804  validation accuracy: 0.94575\n",
      "epoch: 19  validation loss: 0.179076  validation accuracy: 0.9505\n",
      "epoch: 20  validation loss: 0.183233  validation accuracy: 0.95225\n",
      "epoch: 21  validation loss: 0.17819  validation accuracy: 0.952\n",
      "epoch: 22  validation loss: 0.171988  validation accuracy: 0.9525\n",
      "epoch: 23  validation loss: 0.172429  validation accuracy: 0.953\n",
      "epoch: 24  validation loss: 0.17509  validation accuracy: 0.95425\n",
      "epoch: 25  validation loss: 0.168602  validation accuracy: 0.95375\n",
      "epoch: 26  validation loss: 0.170615  validation accuracy: 0.9525\n",
      "epoch: 27  validation loss: 0.171883  validation accuracy: 0.95275\n",
      "epoch: 28  validation loss: 0.185774  validation accuracy: 0.9495\n",
      "epoch: 29  validation loss: 0.170572  validation accuracy: 0.95425\n",
      "epoch: 30  validation loss: 0.162502  validation accuracy: 0.95525\n",
      "epoch: 31  validation loss: 0.169828  validation accuracy: 0.95675\n",
      "epoch: 32  validation loss: 0.166747  validation accuracy: 0.95425\n",
      "epoch: 33  validation loss: 0.165039  validation accuracy: 0.9575\n",
      "epoch: 34  validation loss: 0.157498  validation accuracy: 0.959\n",
      "epoch: 35  validation loss: 0.164047  validation accuracy: 0.9575\n",
      "epoch: 36  validation loss: 0.16177  validation accuracy: 0.96\n",
      "epoch: 37  validation loss: 0.165547  validation accuracy: 0.95775\n",
      "epoch: 38  validation loss: 0.155515  validation accuracy: 0.9575\n",
      "epoch: 39  validation loss: 0.164671  validation accuracy: 0.95825\n",
      "epoch: 40  validation loss: 0.154926  validation accuracy: 0.95975\n",
      "epoch: 41  validation loss: 0.15326  validation accuracy: 0.961\n",
      "epoch: 42  validation loss: 0.163118  validation accuracy: 0.959\n",
      "epoch: 43  validation loss: 0.157445  validation accuracy: 0.95975\n",
      "epoch: 44  validation loss: 0.154982  validation accuracy: 0.95975\n",
      "epoch: 45  validation loss: 0.165115  validation accuracy: 0.95925\n",
      "epoch: 46  validation loss: 0.166586  validation accuracy: 0.959\n",
      "epoch: 47  validation loss: 0.156046  validation accuracy: 0.96125\n",
      "epoch: 48  validation loss: 0.155847  validation accuracy: 0.95975\n",
      "epoch: 49  validation loss: 0.157522  validation accuracy: 0.961\n"
     ]
    },
    {
     "data": {
      "image/png": "[encoded data removed]",
      "text/plain": [
       "<matplotlib.figure.Figure at 0x1a255c68d0>"
      ]
     },
     "metadata": {},
     "output_type": "display_data"
    },
    {
     "name": "stdout",
     "output_type": "stream",
     "text": [
      "accuracy:  0.9614\n"
     ]
    },
    {
     "data": {
      "text/plain": [
       "<matplotlib.figure.Figure at 0x18210d4c88>"
      ]
     },
     "metadata": {},
     "output_type": "display_data"
    }
   ],
   "source": [
    "%run tensorflow/07_mnist_momentum_tensorflow.py"
   ]
  },
  {
   "cell_type": "code",
   "execution_count": 10,
   "metadata": {},
   "outputs": [
    {
     "name": "stderr",
     "output_type": "stream",
     "text": [
      "Using TensorFlow backend.\n",
      "/Users/yohei/.pyenv/versions/anaconda3-5.0.0/envs/tensorflow/lib/python3.5/site-packages/sklearn/model_selection/_split.py:2026: FutureWarning: From version 0.21, test_size will always complement train_size unless both are specified.\n",
      "  FutureWarning)\n"
     ]
    },
    {
     "name": "stdout",
     "output_type": "stream",
     "text": [
      "Train on 16000 samples, validate on 4000 samples\n",
      "Epoch 1/50\n",
      "16000/16000 [==============================] - 2s 111us/step - loss: 1.9104 - acc: 0.3293 - val_loss: 0.8874 - val_acc: 0.7757\n",
      "Epoch 2/50\n",
      "16000/16000 [==============================] - 1s 68us/step - loss: 1.0101 - acc: 0.6577 - val_loss: 0.4955 - val_acc: 0.8630\n",
      "Epoch 3/50\n",
      "16000/16000 [==============================] - 1s 71us/step - loss: 0.7350 - acc: 0.7660 - val_loss: 0.3850 - val_acc: 0.8925\n",
      "Epoch 4/50\n",
      "16000/16000 [==============================] - 1s 68us/step - loss: 0.6088 - acc: 0.8138 - val_loss: 0.3335 - val_acc: 0.9013\n",
      "Epoch 5/50\n",
      "16000/16000 [==============================] - 1s 68us/step - loss: 0.5320 - acc: 0.8391 - val_loss: 0.2991 - val_acc: 0.9112\n",
      "Epoch 6/50\n",
      "16000/16000 [==============================] - 1s 76us/step - loss: 0.4832 - acc: 0.8576 - val_loss: 0.2818 - val_acc: 0.9170\n",
      "Epoch 7/50\n",
      "16000/16000 [==============================] - 1s 84us/step - loss: 0.4357 - acc: 0.8698 - val_loss: 0.2593 - val_acc: 0.9207\n",
      "Epoch 8/50\n",
      "16000/16000 [==============================] - 1s 73us/step - loss: 0.4083 - acc: 0.8834 - val_loss: 0.2509 - val_acc: 0.9220\n",
      "Epoch 9/50\n",
      "16000/16000 [==============================] - 1s 75us/step - loss: 0.3825 - acc: 0.8879 - val_loss: 0.2302 - val_acc: 0.9328\n",
      "Epoch 10/50\n",
      "16000/16000 [==============================] - 1s 74us/step - loss: 0.3551 - acc: 0.8992 - val_loss: 0.2205 - val_acc: 0.9340\n",
      "Epoch 11/50\n",
      "16000/16000 [==============================] - 1s 90us/step - loss: 0.3400 - acc: 0.9041 - val_loss: 0.2149 - val_acc: 0.9352\n",
      "Epoch 12/50\n",
      "16000/16000 [==============================] - 2s 98us/step - loss: 0.3189 - acc: 0.9094 - val_loss: 0.2073 - val_acc: 0.9377\n",
      "Epoch 13/50\n",
      "16000/16000 [==============================] - 1s 82us/step - loss: 0.3051 - acc: 0.9128 - val_loss: 0.1975 - val_acc: 0.9420\n",
      "Epoch 14/50\n",
      "16000/16000 [==============================] - 1s 79us/step - loss: 0.2944 - acc: 0.9171 - val_loss: 0.1940 - val_acc: 0.9430\n",
      "Epoch 15/50\n",
      "16000/16000 [==============================] - 1s 77us/step - loss: 0.2765 - acc: 0.9184 - val_loss: 0.1909 - val_acc: 0.9433\n",
      "Epoch 16/50\n",
      "16000/16000 [==============================] - 1s 76us/step - loss: 0.2726 - acc: 0.9203 - val_loss: 0.1821 - val_acc: 0.9465\n",
      "Epoch 17/50\n",
      "16000/16000 [==============================] - 1s 79us/step - loss: 0.2525 - acc: 0.9263 - val_loss: 0.1813 - val_acc: 0.9455\n",
      "Epoch 18/50\n",
      "16000/16000 [==============================] - 1s 75us/step - loss: 0.2498 - acc: 0.9291 - val_loss: 0.1792 - val_acc: 0.9475\n",
      "Epoch 19/50\n",
      "16000/16000 [==============================] - 1s 71us/step - loss: 0.2390 - acc: 0.9299 - val_loss: 0.1762 - val_acc: 0.9493\n",
      "Epoch 20/50\n",
      "16000/16000 [==============================] - 1s 73us/step - loss: 0.2311 - acc: 0.9343 - val_loss: 0.1761 - val_acc: 0.9498\n",
      "Epoch 21/50\n",
      "16000/16000 [==============================] - 1s 74us/step - loss: 0.2240 - acc: 0.9375 - val_loss: 0.1690 - val_acc: 0.9500\n",
      "Epoch 22/50\n",
      "16000/16000 [==============================] - 1s 79us/step - loss: 0.2185 - acc: 0.9369 - val_loss: 0.1654 - val_acc: 0.9498\n",
      "Epoch 23/50\n",
      "16000/16000 [==============================] - 1s 89us/step - loss: 0.2063 - acc: 0.9397 - val_loss: 0.1662 - val_acc: 0.9525\n",
      "Epoch 24/50\n",
      "16000/16000 [==============================] - 1s 84us/step - loss: 0.1994 - acc: 0.9412 - val_loss: 0.1643 - val_acc: 0.9542\n",
      "Epoch 25/50\n",
      "16000/16000 [==============================] - 1s 90us/step - loss: 0.2008 - acc: 0.9421 - val_loss: 0.1607 - val_acc: 0.9543\n",
      "Epoch 26/50\n",
      "16000/16000 [==============================] - 1s 85us/step - loss: 0.1946 - acc: 0.9432 - val_loss: 0.1617 - val_acc: 0.9552\n",
      "Epoch 27/50\n",
      "16000/16000 [==============================] - 1s 90us/step - loss: 0.1792 - acc: 0.9455 - val_loss: 0.1609 - val_acc: 0.9532\n",
      "Epoch 28/50\n",
      "16000/16000 [==============================] - 1s 91us/step - loss: 0.1740 - acc: 0.9516 - val_loss: 0.1586 - val_acc: 0.9588\n",
      "Epoch 29/50\n",
      "16000/16000 [==============================] - 2s 96us/step - loss: 0.1806 - acc: 0.9467 - val_loss: 0.1583 - val_acc: 0.9550\n",
      "Epoch 30/50\n",
      "16000/16000 [==============================] - 2s 95us/step - loss: 0.1702 - acc: 0.9496 - val_loss: 0.1576 - val_acc: 0.9575\n",
      "Epoch 31/50\n",
      "16000/16000 [==============================] - 1s 87us/step - loss: 0.1704 - acc: 0.9520 - val_loss: 0.1556 - val_acc: 0.9572\n",
      "Epoch 32/50\n",
      "16000/16000 [==============================] - 2s 98us/step - loss: 0.1601 - acc: 0.9520 - val_loss: 0.1556 - val_acc: 0.9580\n",
      "Epoch 33/50\n",
      "16000/16000 [==============================] - 1s 78us/step - loss: 0.1565 - acc: 0.9535 - val_loss: 0.1570 - val_acc: 0.9567\n",
      "Epoch 34/50\n",
      "16000/16000 [==============================] - 1s 73us/step - loss: 0.1547 - acc: 0.9541 - val_loss: 0.1598 - val_acc: 0.9565\n",
      "Epoch 35/50\n",
      "16000/16000 [==============================] - 1s 72us/step - loss: 0.1503 - acc: 0.9564 - val_loss: 0.1598 - val_acc: 0.9580\n",
      "Epoch 36/50\n",
      "16000/16000 [==============================] - 1s 83us/step - loss: 0.1449 - acc: 0.9564 - val_loss: 0.1514 - val_acc: 0.9618\n",
      "Epoch 37/50\n",
      "16000/16000 [==============================] - 1s 86us/step - loss: 0.1398 - acc: 0.9583 - val_loss: 0.1577 - val_acc: 0.9593\n",
      "Epoch 38/50\n",
      "16000/16000 [==============================] - 1s 82us/step - loss: 0.1347 - acc: 0.9599 - val_loss: 0.1530 - val_acc: 0.9608\n",
      "Epoch 39/50\n",
      "16000/16000 [==============================] - 2s 95us/step - loss: 0.1330 - acc: 0.9601 - val_loss: 0.1563 - val_acc: 0.9580\n",
      "Epoch 40/50\n",
      "16000/16000 [==============================] - 2s 96us/step - loss: 0.1363 - acc: 0.9617 - val_loss: 0.1607 - val_acc: 0.9608\n",
      "Epoch 41/50\n",
      "16000/16000 [==============================] - 1s 79us/step - loss: 0.1270 - acc: 0.9634 - val_loss: 0.1539 - val_acc: 0.9612\n",
      "Epoch 42/50\n",
      "16000/16000 [==============================] - 1s 78us/step - loss: 0.1337 - acc: 0.9602 - val_loss: 0.1567 - val_acc: 0.9605\n",
      "Epoch 43/50\n",
      "16000/16000 [==============================] - 1s 81us/step - loss: 0.1281 - acc: 0.9632 - val_loss: 0.1500 - val_acc: 0.9618\n",
      "Epoch 44/50\n",
      "16000/16000 [==============================] - 1s 76us/step - loss: 0.1235 - acc: 0.9633 - val_loss: 0.1564 - val_acc: 0.9602\n",
      "Epoch 45/50\n",
      "16000/16000 [==============================] - 1s 79us/step - loss: 0.1239 - acc: 0.9616 - val_loss: 0.1573 - val_acc: 0.9613\n",
      "Epoch 46/50\n",
      "16000/16000 [==============================] - 1s 76us/step - loss: 0.1213 - acc: 0.9635 - val_loss: 0.1555 - val_acc: 0.9607\n",
      "Epoch 47/50\n",
      "16000/16000 [==============================] - 1s 75us/step - loss: 0.1174 - acc: 0.9646 - val_loss: 0.1520 - val_acc: 0.9610\n",
      "Epoch 48/50\n",
      "16000/16000 [==============================] - 1s 73us/step - loss: 0.1101 - acc: 0.9673 - val_loss: 0.1517 - val_acc: 0.9613\n",
      "Epoch 49/50\n",
      "16000/16000 [==============================] - 1s 75us/step - loss: 0.1082 - acc: 0.9682 - val_loss: 0.1569 - val_acc: 0.9613\n",
      "Epoch 50/50\n",
      "16000/16000 [==============================] - 1s 74us/step - loss: 0.1053 - acc: 0.9680 - val_loss: 0.1565 - val_acc: 0.9598\n"
     ]
    },
    {
     "data": {
      "image/png": "[encoded data removed]",
      "text/plain": [
       "<matplotlib.figure.Figure at 0x1a2a0064e0>"
      ]
     },
     "metadata": {},
     "output_type": "display_data"
    },
    {
     "name": "stdout",
     "output_type": "stream",
     "text": [
      "10000/10000 [==============================] - 1s 52us/step\n",
      "[0.14688409841870889, 0.96150000000000002]\n"
     ]
    }
   ],
   "source": [
    "%run keras/07_mnist_momentum_keras.py"
   ]
  },
  {
   "cell_type": "code",
   "execution_count": 22,
   "metadata": {},
   "outputs": [
    {
     "name": "stderr",
     "output_type": "stream",
     "text": [
      "/Users/yohei/.pyenv/versions/anaconda3-5.0.0/envs/tensorflow/lib/python3.5/site-packages/ipykernel_launcher.py:1: RuntimeWarning: invalid value encountered in true_divide\n",
      "  \"\"\"Entry point for launching an IPython kernel.\n"
     ]
    },
    {
     "data": {
      "text/plain": [
       "array([[ nan,   1.,   1.],\n",
       "       [  1.,   1.,   1.],\n",
       "       [  1.,   1.,   1.]])"
      ]
     },
     "execution_count": 22,
     "metadata": {},
     "output_type": "execute_result"
    }
   ],
   "source": [
    "np.arange(9).reshape(3,3)/np.arange(9).reshape(3,3)"
   ]
  },
  {
   "cell_type": "markdown",
   "metadata": {},
   "source": [
    "# 08_mnist_nesterov"
   ]
  },
  {
   "cell_type": "code",
   "execution_count": 23,
   "metadata": {},
   "outputs": [
    {
     "name": "stderr",
     "output_type": "stream",
     "text": [
      "/Users/yohei/.pyenv/versions/anaconda3-5.0.0/envs/tensorflow/lib/python3.5/site-packages/sklearn/model_selection/_split.py:2026: FutureWarning: From version 0.21, test_size will always complement train_size unless both are specified.\n",
      "  FutureWarning)\n"
     ]
    },
    {
     "name": "stdout",
     "output_type": "stream",
     "text": [
      "epoch: 0  validation loss: 0.817916  validation accuracy: 0.78\n",
      "epoch: 1  validation loss: 0.52455  validation accuracy: 0.84525\n",
      "epoch: 2  validation loss: 0.402164  validation accuracy: 0.8915\n",
      "epoch: 3  validation loss: 0.360001  validation accuracy: 0.894\n",
      "epoch: 4  validation loss: 0.318407  validation accuracy: 0.91175\n",
      "epoch: 5  validation loss: 0.293194  validation accuracy: 0.916\n",
      "epoch: 6  validation loss: 0.271762  validation accuracy: 0.92\n",
      "epoch: 7  validation loss: 0.256303  validation accuracy: 0.9275\n",
      "epoch: 8  validation loss: 0.248275  validation accuracy: 0.92825\n",
      "epoch: 9  validation loss: 0.24204  validation accuracy: 0.93275\n",
      "epoch: 10  validation loss: 0.231849  validation accuracy: 0.93175\n",
      "epoch: 11  validation loss: 0.220154  validation accuracy: 0.9375\n",
      "epoch: 12  validation loss: 0.215703  validation accuracy: 0.93825\n",
      "epoch: 13  validation loss: 0.209844  validation accuracy: 0.9405\n",
      "epoch: 14  validation loss: 0.206716  validation accuracy: 0.9395\n",
      "epoch: 15  validation loss: 0.207942  validation accuracy: 0.943\n",
      "epoch: 16  validation loss: 0.198004  validation accuracy: 0.9445\n",
      "epoch: 17  validation loss: 0.200311  validation accuracy: 0.946\n",
      "epoch: 18  validation loss: 0.1938  validation accuracy: 0.94775\n",
      "epoch: 19  validation loss: 0.190732  validation accuracy: 0.949\n",
      "epoch: 20  validation loss: 0.189822  validation accuracy: 0.95225\n",
      "epoch: 21  validation loss: 0.185637  validation accuracy: 0.95025\n",
      "epoch: 22  validation loss: 0.18099  validation accuracy: 0.9535\n",
      "epoch: 23  validation loss: 0.18048  validation accuracy: 0.95125\n",
      "epoch: 24  validation loss: 0.177939  validation accuracy: 0.9535\n",
      "epoch: 25  validation loss: 0.177318  validation accuracy: 0.95525\n",
      "epoch: 26  validation loss: 0.178613  validation accuracy: 0.95425\n",
      "epoch: 27  validation loss: 0.177343  validation accuracy: 0.95475\n",
      "epoch: 28  validation loss: 0.17278  validation accuracy: 0.955\n",
      "epoch: 29  validation loss: 0.174444  validation accuracy: 0.95625\n",
      "epoch: 30  validation loss: 0.173778  validation accuracy: 0.9555\n",
      "epoch: 31  validation loss: 0.169178  validation accuracy: 0.95725\n",
      "epoch: 32  validation loss: 0.163729  validation accuracy: 0.9555\n",
      "epoch: 33  validation loss: 0.166169  validation accuracy: 0.958\n",
      "epoch: 34  validation loss: 0.171144  validation accuracy: 0.959\n",
      "epoch: 35  validation loss: 0.174725  validation accuracy: 0.95625\n",
      "epoch: 36  validation loss: 0.168994  validation accuracy: 0.9575\n",
      "epoch: 37  validation loss: 0.171121  validation accuracy: 0.9575\n",
      "epoch: 38  validation loss: 0.164962  validation accuracy: 0.95825\n",
      "epoch: 39  validation loss: 0.172735  validation accuracy: 0.956\n",
      "epoch: 40  validation loss: 0.169631  validation accuracy: 0.95975\n",
      "epoch: 41  validation loss: 0.169676  validation accuracy: 0.959\n",
      "epoch: 42  validation loss: 0.176089  validation accuracy: 0.9575\n",
      "epoch: 43  validation loss: 0.170571  validation accuracy: 0.95875\n",
      "epoch: 44  validation loss: 0.170518  validation accuracy: 0.96025\n",
      "epoch: 45  validation loss: 0.178077  validation accuracy: 0.95575\n",
      "epoch: 46  validation loss: 0.173244  validation accuracy: 0.96\n",
      "epoch: 47  validation loss: 0.173547  validation accuracy: 0.95875\n",
      "epoch: 48  validation loss: 0.171493  validation accuracy: 0.9615\n",
      "epoch: 49  validation loss: 0.171838  validation accuracy: 0.9605\n"
     ]
    },
    {
     "data": {
      "image/png": "[encoded data removed]",
      "text/plain": [
       "<matplotlib.figure.Figure at 0x1a2af9acf8>"
      ]
     },
     "metadata": {},
     "output_type": "display_data"
    },
    {
     "name": "stdout",
     "output_type": "stream",
     "text": [
      "accuracy:  0.9595\n"
     ]
    },
    {
     "data": {
      "text/plain": [
       "<matplotlib.figure.Figure at 0x1a2b059748>"
      ]
     },
     "metadata": {},
     "output_type": "display_data"
    }
   ],
   "source": [
    "%run tensorflow/08_mnist_nesterov_tensorflow.py"
   ]
  },
  {
   "cell_type": "code",
   "execution_count": 24,
   "metadata": {},
   "outputs": [
    {
     "name": "stderr",
     "output_type": "stream",
     "text": [
      "/Users/yohei/.pyenv/versions/anaconda3-5.0.0/envs/tensorflow/lib/python3.5/site-packages/sklearn/model_selection/_split.py:2026: FutureWarning: From version 0.21, test_size will always complement train_size unless both are specified.\n",
      "  FutureWarning)\n"
     ]
    },
    {
     "name": "stdout",
     "output_type": "stream",
     "text": [
      "Train on 16000 samples, validate on 4000 samples\n",
      "Epoch 1/50\n",
      "16000/16000 [==============================] - 2s 117us/step - loss: 1.9230 - acc: 0.3344 - val_loss: 0.8892 - val_acc: 0.7847\n",
      "Epoch 2/50\n",
      "16000/16000 [==============================] - 1s 74us/step - loss: 1.0478 - acc: 0.6483 - val_loss: 0.5123 - val_acc: 0.8582\n",
      "Epoch 3/50\n",
      "16000/16000 [==============================] - 1s 76us/step - loss: 0.7613 - acc: 0.7482 - val_loss: 0.4114 - val_acc: 0.8878\n",
      "Epoch 4/50\n",
      "16000/16000 [==============================] - 1s 73us/step - loss: 0.6403 - acc: 0.7976 - val_loss: 0.3610 - val_acc: 0.8965\n",
      "Epoch 5/50\n",
      "16000/16000 [==============================] - 1s 72us/step - loss: 0.5647 - acc: 0.8285 - val_loss: 0.3241 - val_acc: 0.9072\n",
      "Epoch 6/50\n",
      "16000/16000 [==============================] - 1s 71us/step - loss: 0.5195 - acc: 0.8456 - val_loss: 0.3041 - val_acc: 0.9110\n",
      "Epoch 7/50\n",
      "16000/16000 [==============================] - 1s 73us/step - loss: 0.4724 - acc: 0.8612 - val_loss: 0.2819 - val_acc: 0.9165\n",
      "Epoch 8/50\n",
      "16000/16000 [==============================] - 1s 73us/step - loss: 0.4273 - acc: 0.8735 - val_loss: 0.2686 - val_acc: 0.9188\n",
      "Epoch 9/50\n",
      "16000/16000 [==============================] - 1s 72us/step - loss: 0.4071 - acc: 0.8790 - val_loss: 0.2575 - val_acc: 0.9250\n",
      "Epoch 10/50\n",
      "16000/16000 [==============================] - 1s 70us/step - loss: 0.3786 - acc: 0.8884 - val_loss: 0.2476 - val_acc: 0.9260\n",
      "Epoch 11/50\n",
      "16000/16000 [==============================] - 1s 74us/step - loss: 0.3601 - acc: 0.8958 - val_loss: 0.2368 - val_acc: 0.9300\n",
      "Epoch 12/50\n",
      "16000/16000 [==============================] - 1s 72us/step - loss: 0.3445 - acc: 0.9005 - val_loss: 0.2257 - val_acc: 0.9335\n",
      "Epoch 13/50\n",
      "16000/16000 [==============================] - 1s 69us/step - loss: 0.3310 - acc: 0.9062 - val_loss: 0.2173 - val_acc: 0.9353\n",
      "Epoch 14/50\n",
      "16000/16000 [==============================] - 1s 72us/step - loss: 0.3155 - acc: 0.9067 - val_loss: 0.2089 - val_acc: 0.9368\n",
      "Epoch 15/50\n",
      "16000/16000 [==============================] - 1s 70us/step - loss: 0.3025 - acc: 0.9124 - val_loss: 0.2042 - val_acc: 0.9403\n",
      "Epoch 16/50\n",
      "16000/16000 [==============================] - 1s 71us/step - loss: 0.2976 - acc: 0.9141 - val_loss: 0.1973 - val_acc: 0.9400\n",
      "Epoch 17/50\n",
      "16000/16000 [==============================] - 1s 73us/step - loss: 0.2722 - acc: 0.9225 - val_loss: 0.1982 - val_acc: 0.9398\n",
      "Epoch 18/50\n",
      "16000/16000 [==============================] - 1s 74us/step - loss: 0.2669 - acc: 0.9234 - val_loss: 0.1917 - val_acc: 0.9440\n",
      "Epoch 19/50\n",
      "16000/16000 [==============================] - 1s 72us/step - loss: 0.2551 - acc: 0.9273 - val_loss: 0.1879 - val_acc: 0.9440\n",
      "Epoch 20/50\n",
      "16000/16000 [==============================] - 1s 74us/step - loss: 0.2539 - acc: 0.9276 - val_loss: 0.1855 - val_acc: 0.9470\n",
      "Epoch 21/50\n",
      "16000/16000 [==============================] - 1s 70us/step - loss: 0.2463 - acc: 0.9307 - val_loss: 0.1793 - val_acc: 0.9483\n",
      "Epoch 22/50\n",
      "16000/16000 [==============================] - 1s 75us/step - loss: 0.2393 - acc: 0.9298 - val_loss: 0.1774 - val_acc: 0.9480\n",
      "Epoch 23/50\n",
      "16000/16000 [==============================] - 1s 76us/step - loss: 0.2278 - acc: 0.9358 - val_loss: 0.1795 - val_acc: 0.9483\n",
      "Epoch 24/50\n",
      "16000/16000 [==============================] - 1s 76us/step - loss: 0.2233 - acc: 0.9371 - val_loss: 0.1720 - val_acc: 0.9522\n",
      "Epoch 25/50\n",
      "16000/16000 [==============================] - 1s 77us/step - loss: 0.2120 - acc: 0.9395 - val_loss: 0.1672 - val_acc: 0.9502\n",
      "Epoch 26/50\n",
      "16000/16000 [==============================] - 1s 75us/step - loss: 0.2037 - acc: 0.9399 - val_loss: 0.1690 - val_acc: 0.9532\n",
      "Epoch 27/50\n",
      "16000/16000 [==============================] - 1s 76us/step - loss: 0.1975 - acc: 0.9405 - val_loss: 0.1700 - val_acc: 0.9517\n",
      "Epoch 28/50\n",
      "16000/16000 [==============================] - 1s 73us/step - loss: 0.1930 - acc: 0.9439 - val_loss: 0.1672 - val_acc: 0.9528\n",
      "Epoch 29/50\n",
      "16000/16000 [==============================] - 1s 78us/step - loss: 0.1972 - acc: 0.9435 - val_loss: 0.1653 - val_acc: 0.9540\n",
      "Epoch 30/50\n",
      "16000/16000 [==============================] - 1s 82us/step - loss: 0.1807 - acc: 0.9482 - val_loss: 0.1676 - val_acc: 0.9518\n",
      "Epoch 31/50\n",
      "16000/16000 [==============================] - 1s 92us/step - loss: 0.1823 - acc: 0.9489 - val_loss: 0.1674 - val_acc: 0.9535\n",
      "Epoch 32/50\n",
      "16000/16000 [==============================] - 1s 84us/step - loss: 0.1797 - acc: 0.9474 - val_loss: 0.1609 - val_acc: 0.9543\n",
      "Epoch 33/50\n",
      "16000/16000 [==============================] - 1s 83us/step - loss: 0.1731 - acc: 0.9504 - val_loss: 0.1634 - val_acc: 0.9552\n",
      "Epoch 34/50\n",
      "16000/16000 [==============================] - 1s 87us/step - loss: 0.1637 - acc: 0.9519 - val_loss: 0.1620 - val_acc: 0.9557\n",
      "Epoch 35/50\n",
      "16000/16000 [==============================] - 1s 88us/step - loss: 0.1622 - acc: 0.9521 - val_loss: 0.1621 - val_acc: 0.9550\n",
      "Epoch 36/50\n",
      "16000/16000 [==============================] - 1s 88us/step - loss: 0.1613 - acc: 0.9527 - val_loss: 0.1602 - val_acc: 0.9575\n",
      "Epoch 37/50\n",
      "16000/16000 [==============================] - 1s 81us/step - loss: 0.1560 - acc: 0.9535 - val_loss: 0.1636 - val_acc: 0.9553\n",
      "Epoch 38/50\n",
      "16000/16000 [==============================] - 1s 79us/step - loss: 0.1575 - acc: 0.9541 - val_loss: 0.1606 - val_acc: 0.9570\n",
      "Epoch 39/50\n",
      "16000/16000 [==============================] - 1s 84us/step - loss: 0.1555 - acc: 0.9539 - val_loss: 0.1603 - val_acc: 0.9597\n",
      "Epoch 40/50\n",
      "16000/16000 [==============================] - 1s 77us/step - loss: 0.1509 - acc: 0.9552 - val_loss: 0.1626 - val_acc: 0.9552\n",
      "Epoch 41/50\n",
      "16000/16000 [==============================] - 1s 79us/step - loss: 0.1441 - acc: 0.9571 - val_loss: 0.1649 - val_acc: 0.9540\n",
      "Epoch 42/50\n",
      "16000/16000 [==============================] - 1s 83us/step - loss: 0.1410 - acc: 0.9587 - val_loss: 0.1600 - val_acc: 0.9558\n",
      "Epoch 43/50\n",
      "16000/16000 [==============================] - 1s 87us/step - loss: 0.1436 - acc: 0.9589 - val_loss: 0.1627 - val_acc: 0.9557\n",
      "Epoch 44/50\n",
      "16000/16000 [==============================] - 1s 92us/step - loss: 0.1342 - acc: 0.9615 - val_loss: 0.1581 - val_acc: 0.9578\n",
      "Epoch 45/50\n",
      "16000/16000 [==============================] - 1s 84us/step - loss: 0.1290 - acc: 0.9628 - val_loss: 0.1586 - val_acc: 0.9577\n",
      "Epoch 46/50\n",
      "16000/16000 [==============================] - 1s 85us/step - loss: 0.1363 - acc: 0.9587 - val_loss: 0.1570 - val_acc: 0.9600\n",
      "Epoch 47/50\n",
      "16000/16000 [==============================] - 1s 82us/step - loss: 0.1335 - acc: 0.9599 - val_loss: 0.1655 - val_acc: 0.9598\n",
      "Epoch 48/50\n",
      "16000/16000 [==============================] - 1s 85us/step - loss: 0.1216 - acc: 0.9635 - val_loss: 0.1560 - val_acc: 0.9590\n",
      "Epoch 49/50\n",
      "16000/16000 [==============================] - 1s 84us/step - loss: 0.1240 - acc: 0.9619 - val_loss: 0.1582 - val_acc: 0.9585\n",
      "Epoch 50/50\n",
      "16000/16000 [==============================] - 1s 84us/step - loss: 0.1197 - acc: 0.9655 - val_loss: 0.1585 - val_acc: 0.9600\n"
     ]
    },
    {
     "data": {
      "image/png": "[encoded data removed]",
      "text/plain": [
       "<matplotlib.figure.Figure at 0x1a57615be0>"
      ]
     },
     "metadata": {},
     "output_type": "display_data"
    },
    {
     "name": "stdout",
     "output_type": "stream",
     "text": [
      "10000/10000 [==============================] - 1s 59us/step\n",
      "[0.14785309813050554, 0.96109999999999995]\n"
     ]
    }
   ],
   "source": [
    "%run keras/08_mnist_nesterov_keras.py"
   ]
  },
  {
   "cell_type": "markdown",
   "metadata": {},
   "source": [
    "# 09_mnist_adagrad"
   ]
  },
  {
   "cell_type": "code",
   "execution_count": 25,
   "metadata": {
    "collapsed": true
   },
   "outputs": [
    {
     "name": "stderr",
     "output_type": "stream",
     "text": [
      "/Users/yohei/.pyenv/versions/anaconda3-5.0.0/envs/tensorflow/lib/python3.5/site-packages/sklearn/model_selection/_split.py:2026: FutureWarning: From version 0.21, test_size will always complement train_size unless both are specified.\n",
      "  FutureWarning)\n"
     ]
    },
    {
     "name": "stdout",
     "output_type": "stream",
     "text": [
      "epoch: 0  validation loss: 1.9154  validation accuracy: 0.65075\n",
      "epoch: 1  validation loss: 1.29463  validation accuracy: 0.716\n",
      "epoch: 2  validation loss: 0.865564  validation accuracy: 0.77725\n",
      "epoch: 3  validation loss: 0.668317  validation accuracy: 0.819\n",
      "epoch: 4  validation loss: 0.562896  validation accuracy: 0.84475\n",
      "epoch: 5  validation loss: 0.498433  validation accuracy: 0.8645\n",
      "epoch: 6  validation loss: 0.456154  validation accuracy: 0.8725\n",
      "epoch: 7  validation loss: 0.422582  validation accuracy: 0.883\n",
      "epoch: 8  validation loss: 0.394039  validation accuracy: 0.89025\n",
      "epoch: 9  validation loss: 0.375973  validation accuracy: 0.89525\n",
      "epoch: 10  validation loss: 0.35719  validation accuracy: 0.89875\n",
      "epoch: 11  validation loss: 0.341993  validation accuracy: 0.90375\n",
      "epoch: 12  validation loss: 0.333156  validation accuracy: 0.90475\n",
      "epoch: 13  validation loss: 0.321326  validation accuracy: 0.90725\n",
      "epoch: 14  validation loss: 0.311285  validation accuracy: 0.90875\n",
      "epoch: 15  validation loss: 0.303533  validation accuracy: 0.91175\n",
      "epoch: 16  validation loss: 0.296943  validation accuracy: 0.916\n",
      "epoch: 17  validation loss: 0.290655  validation accuracy: 0.9165\n",
      "epoch: 18  validation loss: 0.285266  validation accuracy: 0.9165\n",
      "epoch: 19  validation loss: 0.277436  validation accuracy: 0.91775\n",
      "epoch: 20  validation loss: 0.273226  validation accuracy: 0.919\n",
      "epoch: 21  validation loss: 0.267525  validation accuracy: 0.92375\n",
      "epoch: 22  validation loss: 0.264361  validation accuracy: 0.92375\n",
      "epoch: 23  validation loss: 0.259385  validation accuracy: 0.92425\n",
      "epoch: 24  validation loss: 0.258868  validation accuracy: 0.92625\n",
      "epoch: 25  validation loss: 0.251883  validation accuracy: 0.92825\n",
      "epoch: 26  validation loss: 0.246446  validation accuracy: 0.9285\n",
      "epoch: 27  validation loss: 0.24286  validation accuracy: 0.92825\n",
      "epoch: 28  validation loss: 0.239243  validation accuracy: 0.9315\n",
      "epoch: 29  validation loss: 0.236523  validation accuracy: 0.93275\n",
      "epoch: 30  validation loss: 0.23214  validation accuracy: 0.934\n",
      "epoch: 31  validation loss: 0.23027  validation accuracy: 0.9335\n",
      "epoch: 32  validation loss: 0.227962  validation accuracy: 0.93425\n",
      "epoch: 33  validation loss: 0.226522  validation accuracy: 0.93625\n",
      "epoch: 34  validation loss: 0.224451  validation accuracy: 0.9365\n",
      "epoch: 35  validation loss: 0.220946  validation accuracy: 0.93675\n",
      "epoch: 36  validation loss: 0.218795  validation accuracy: 0.93725\n",
      "epoch: 37  validation loss: 0.215958  validation accuracy: 0.9395\n",
      "epoch: 38  validation loss: 0.213694  validation accuracy: 0.9395\n",
      "epoch: 39  validation loss: 0.212127  validation accuracy: 0.939\n",
      "epoch: 40  validation loss: 0.211524  validation accuracy: 0.9395\n",
      "epoch: 41  validation loss: 0.20834  validation accuracy: 0.9415\n",
      "epoch: 42  validation loss: 0.206538  validation accuracy: 0.942\n",
      "epoch: 43  validation loss: 0.203285  validation accuracy: 0.94275\n",
      "epoch: 44  validation loss: 0.199979  validation accuracy: 0.94425\n",
      "epoch: 45  validation loss: 0.198687  validation accuracy: 0.9445\n",
      "epoch: 46  validation loss: 0.198939  validation accuracy: 0.94375\n",
      "epoch: 47  validation loss: 0.198166  validation accuracy: 0.94425\n",
      "epoch: 48  validation loss: 0.196148  validation accuracy: 0.945\n",
      "epoch: 49  validation loss: 0.194238  validation accuracy: 0.94575\n"
     ]
    },
    {
     "data": {
      "image/png": "[encoded data removed]",
      "text/plain": [
       "<matplotlib.figure.Figure at 0x1a2d4aeeb8>"
      ]
     },
     "metadata": {},
     "output_type": "display_data"
    },
    {
     "name": "stdout",
     "output_type": "stream",
     "text": [
      "accuracy:  0.9449\n"
     ]
    }
   ],
   "source": [
    "%run tensorflow/09_mnist_adagrad_tensorflow.py"
   ]
  },
  {
   "cell_type": "code",
   "execution_count": 2,
   "metadata": {
    "collapsed": true
   },
   "outputs": [
    {
     "name": "stderr",
     "output_type": "stream",
     "text": [
      "Using TensorFlow backend.\n",
      "/Users/yohei/.pyenv/versions/anaconda3-5.0.0/envs/tensorflow/lib/python3.5/site-packages/sklearn/model_selection/_split.py:2026: FutureWarning: From version 0.21, test_size will always complement train_size unless both are specified.\n",
      "  FutureWarning)\n"
     ]
    },
    {
     "name": "stdout",
     "output_type": "stream",
     "text": [
      "Train on 16000 samples, validate on 4000 samples\n",
      "Epoch 1/50\n",
      "16000/16000 [==============================] - 2s 98us/step - loss: 1.1035 - acc: 0.6376 - val_loss: 0.4044 - val_acc: 0.8843\n",
      "Epoch 2/50\n",
      "16000/16000 [==============================] - 1s 71us/step - loss: 0.5643 - acc: 0.8284 - val_loss: 0.3165 - val_acc: 0.9060\n",
      "Epoch 3/50\n",
      "16000/16000 [==============================] - 1s 73us/step - loss: 0.4612 - acc: 0.8652 - val_loss: 0.2637 - val_acc: 0.9213\n",
      "Epoch 4/50\n",
      "16000/16000 [==============================] - 1s 77us/step - loss: 0.4037 - acc: 0.8841 - val_loss: 0.2420 - val_acc: 0.9270\n",
      "Epoch 5/50\n",
      "16000/16000 [==============================] - 1s 70us/step - loss: 0.3660 - acc: 0.8969 - val_loss: 0.2303 - val_acc: 0.9295\n",
      "Epoch 6/50\n",
      "16000/16000 [==============================] - 1s 68us/step - loss: 0.3407 - acc: 0.9056 - val_loss: 0.2193 - val_acc: 0.9343\n",
      "Epoch 7/50\n",
      "16000/16000 [==============================] - 1s 69us/step - loss: 0.3230 - acc: 0.9069 - val_loss: 0.2116 - val_acc: 0.9377\n",
      "Epoch 8/50\n",
      "16000/16000 [==============================] - 1s 70us/step - loss: 0.3026 - acc: 0.9138 - val_loss: 0.2009 - val_acc: 0.9393\n",
      "Epoch 9/50\n",
      "16000/16000 [==============================] - 1s 70us/step - loss: 0.2866 - acc: 0.9220 - val_loss: 0.1975 - val_acc: 0.9440\n",
      "Epoch 10/50\n",
      "16000/16000 [==============================] - 1s 71us/step - loss: 0.2703 - acc: 0.9232 - val_loss: 0.1986 - val_acc: 0.9435\n",
      "Epoch 11/50\n",
      "16000/16000 [==============================] - 1s 71us/step - loss: 0.2588 - acc: 0.9291 - val_loss: 0.1925 - val_acc: 0.9450\n",
      "Epoch 12/50\n",
      "16000/16000 [==============================] - 1s 70us/step - loss: 0.2471 - acc: 0.9301 - val_loss: 0.1869 - val_acc: 0.9470\n",
      "Epoch 13/50\n",
      "16000/16000 [==============================] - 1s 70us/step - loss: 0.2380 - acc: 0.9327 - val_loss: 0.1818 - val_acc: 0.9475\n",
      "Epoch 14/50\n",
      "16000/16000 [==============================] - 1s 70us/step - loss: 0.2249 - acc: 0.9360 - val_loss: 0.1782 - val_acc: 0.9485\n",
      "Epoch 15/50\n",
      "16000/16000 [==============================] - 1s 72us/step - loss: 0.2130 - acc: 0.9403 - val_loss: 0.1766 - val_acc: 0.9510\n",
      "Epoch 16/50\n",
      "16000/16000 [==============================] - 1s 77us/step - loss: 0.2126 - acc: 0.9392 - val_loss: 0.1742 - val_acc: 0.9487\n",
      "Epoch 17/50\n",
      "16000/16000 [==============================] - 1s 91us/step - loss: 0.1990 - acc: 0.9436 - val_loss: 0.1767 - val_acc: 0.9527\n",
      "Epoch 18/50\n",
      "16000/16000 [==============================] - 1s 70us/step - loss: 0.2026 - acc: 0.9404 - val_loss: 0.1720 - val_acc: 0.9495\n",
      "Epoch 19/50\n",
      "16000/16000 [==============================] - 1s 68us/step - loss: 0.1970 - acc: 0.9444 - val_loss: 0.1696 - val_acc: 0.9545\n",
      "Epoch 20/50\n",
      "16000/16000 [==============================] - 1s 70us/step - loss: 0.1886 - acc: 0.9456 - val_loss: 0.1672 - val_acc: 0.9530\n",
      "Epoch 21/50\n",
      "16000/16000 [==============================] - 1s 70us/step - loss: 0.1872 - acc: 0.9467 - val_loss: 0.1684 - val_acc: 0.9547\n",
      "Epoch 22/50\n",
      "16000/16000 [==============================] - 1s 68us/step - loss: 0.1817 - acc: 0.9487 - val_loss: 0.1661 - val_acc: 0.9535\n",
      "Epoch 23/50\n",
      "16000/16000 [==============================] - 1s 68us/step - loss: 0.1741 - acc: 0.9497 - val_loss: 0.1663 - val_acc: 0.9550\n",
      "Epoch 24/50\n",
      "16000/16000 [==============================] - 1s 72us/step - loss: 0.1692 - acc: 0.9531 - val_loss: 0.1657 - val_acc: 0.9563\n",
      "Epoch 25/50\n",
      "16000/16000 [==============================] - 1s 71us/step - loss: 0.1646 - acc: 0.9519 - val_loss: 0.1641 - val_acc: 0.9560\n",
      "Epoch 26/50\n",
      "16000/16000 [==============================] - 1s 74us/step - loss: 0.1644 - acc: 0.9522 - val_loss: 0.1657 - val_acc: 0.9538\n",
      "Epoch 27/50\n",
      "16000/16000 [==============================] - 1s 74us/step - loss: 0.1647 - acc: 0.9547 - val_loss: 0.1657 - val_acc: 0.9540\n",
      "Epoch 28/50\n",
      "16000/16000 [==============================] - 1s 88us/step - loss: 0.1661 - acc: 0.9529 - val_loss: 0.1595 - val_acc: 0.9597\n",
      "Epoch 29/50\n",
      "16000/16000 [==============================] - 1s 77us/step - loss: 0.1562 - acc: 0.9547 - val_loss: 0.1634 - val_acc: 0.9567\n",
      "Epoch 30/50\n",
      "16000/16000 [==============================] - 1s 74us/step - loss: 0.1450 - acc: 0.9589 - val_loss: 0.1622 - val_acc: 0.9582\n",
      "Epoch 31/50\n",
      "16000/16000 [==============================] - 1s 74us/step - loss: 0.1498 - acc: 0.9566 - val_loss: 0.1623 - val_acc: 0.9583\n",
      "Epoch 32/50\n",
      "16000/16000 [==============================] - 1s 69us/step - loss: 0.1437 - acc: 0.9609 - val_loss: 0.1654 - val_acc: 0.9588\n",
      "Epoch 33/50\n",
      "16000/16000 [==============================] - 1s 69us/step - loss: 0.1417 - acc: 0.9605 - val_loss: 0.1682 - val_acc: 0.9590\n",
      "Epoch 34/50\n",
      "16000/16000 [==============================] - 1s 71us/step - loss: 0.1394 - acc: 0.9609 - val_loss: 0.1631 - val_acc: 0.9590\n",
      "Epoch 35/50\n",
      "16000/16000 [==============================] - 1s 72us/step - loss: 0.1366 - acc: 0.9624 - val_loss: 0.1649 - val_acc: 0.9580\n",
      "Epoch 36/50\n",
      "16000/16000 [==============================] - 1s 73us/step - loss: 0.1294 - acc: 0.9630 - val_loss: 0.1605 - val_acc: 0.9595\n",
      "Epoch 37/50\n",
      "16000/16000 [==============================] - 1s 85us/step - loss: 0.1375 - acc: 0.9623 - val_loss: 0.1605 - val_acc: 0.9593\n",
      "Epoch 38/50\n",
      "16000/16000 [==============================] - 1s 67us/step - loss: 0.1311 - acc: 0.9622 - val_loss: 0.1642 - val_acc: 0.9605\n",
      "Epoch 39/50\n",
      "16000/16000 [==============================] - 1s 71us/step - loss: 0.1253 - acc: 0.9639 - val_loss: 0.1640 - val_acc: 0.9593\n",
      "Epoch 40/50\n",
      "16000/16000 [==============================] - 1s 71us/step - loss: 0.1319 - acc: 0.9602 - val_loss: 0.1625 - val_acc: 0.9602\n",
      "Epoch 41/50\n",
      "16000/16000 [==============================] - 1s 71us/step - loss: 0.1257 - acc: 0.9623 - val_loss: 0.1600 - val_acc: 0.9610\n",
      "Epoch 42/50\n",
      "16000/16000 [==============================] - 1s 65us/step - loss: 0.1258 - acc: 0.9619 - val_loss: 0.1615 - val_acc: 0.9585\n",
      "Epoch 43/50\n",
      "16000/16000 [==============================] - 1s 70us/step - loss: 0.1154 - acc: 0.9666 - val_loss: 0.1606 - val_acc: 0.9622\n",
      "Epoch 44/50\n",
      "16000/16000 [==============================] - 1s 72us/step - loss: 0.1237 - acc: 0.9636 - val_loss: 0.1617 - val_acc: 0.9602\n",
      "Epoch 45/50\n",
      "16000/16000 [==============================] - 1s 72us/step - loss: 0.1153 - acc: 0.9664 - val_loss: 0.1610 - val_acc: 0.9615\n",
      "Epoch 46/50\n",
      "16000/16000 [==============================] - 1s 71us/step - loss: 0.1157 - acc: 0.9673 - val_loss: 0.1553 - val_acc: 0.9620\n",
      "Epoch 47/50\n",
      "16000/16000 [==============================] - 1s 69us/step - loss: 0.1186 - acc: 0.9665 - val_loss: 0.1583 - val_acc: 0.9618\n",
      "Epoch 48/50\n",
      "16000/16000 [==============================] - 1s 69us/step - loss: 0.1106 - acc: 0.9673 - val_loss: 0.1640 - val_acc: 0.9620\n",
      "Epoch 49/50\n",
      "16000/16000 [==============================] - 1s 72us/step - loss: 0.1128 - acc: 0.9668 - val_loss: 0.1600 - val_acc: 0.9615\n",
      "Epoch 50/50\n",
      "16000/16000 [==============================] - 1s 75us/step - loss: 0.1101 - acc: 0.9668 - val_loss: 0.1606 - val_acc: 0.9623\n"
     ]
    },
    {
     "data": {
      "image/png": "[encoded data removed]",
      "text/plain": [
       "<matplotlib.figure.Figure at 0x1a212693c8>"
      ]
     },
     "metadata": {},
     "output_type": "display_data"
    },
    {
     "name": "stdout",
     "output_type": "stream",
     "text": [
      "10000/10000 [==============================] - 1s 53us/step\n",
      "[0.14866484829075635, 0.96350000000000002]\n"
     ]
    }
   ],
   "source": [
    "%run keras/09_mnist_adagrad_keras.py"
   ]
  },
  {
   "cell_type": "code",
   "execution_count": 3,
   "metadata": {
    "collapsed": true
   },
   "outputs": [
    {
     "data": {
      "image/png": "[encoded data removed]",
      "text/plain": [
       "<matplotlib.figure.Figure at 0x1a214324a8>"
      ]
     },
     "metadata": {},
     "output_type": "display_data"
    },
    {
     "name": "stdout",
     "output_type": "stream",
     "text": [
      "10000/10000 [==============================] - 1s 57us/step\n",
      "[0.14866484829075635, 0.96350000000000002]\n"
     ]
    }
   ],
   "source": [
    "plt.rc('font', family='serif')\n",
    "fig = plt.figure()\n",
    "plt.plot(range(epochs), val_loss, label='loss', color='black')\n",
    "plt.xlabel('epochs')\n",
    "plt.show()\n",
    "\n",
    "'''\n",
    "予測精度の評価\n",
    "'''\n",
    "loss_and_metrics = model.evaluate(X_test, Y_test)\n",
    "print(loss_and_metrics)"
   ]
  },
  {
   "cell_type": "code",
   "execution_count": null,
   "metadata": {
    "collapsed": true
   },
   "outputs": [],
   "source": []
  },
  {
   "cell_type": "markdown",
   "metadata": {},
   "source": [
    "# 10_mnist_adadelta"
   ]
  },
  {
   "cell_type": "code",
   "execution_count": 4,
   "metadata": {
    "collapsed": true
   },
   "outputs": [
    {
     "name": "stderr",
     "output_type": "stream",
     "text": [
      "/Users/yohei/.pyenv/versions/anaconda3-5.0.0/envs/tensorflow/lib/python3.5/site-packages/sklearn/model_selection/_split.py:2026: FutureWarning: From version 0.21, test_size will always complement train_size unless both are specified.\n",
      "  FutureWarning)\n"
     ]
    },
    {
     "name": "stdout",
     "output_type": "stream",
     "text": [
      "epoch: 0  validation loss: 0.788691  validation accuracy: 0.7985\n",
      "epoch: 1  validation loss: 0.470517  validation accuracy: 0.874\n",
      "epoch: 2  validation loss: 0.367165  validation accuracy: 0.89675\n",
      "epoch: 3  validation loss: 0.320919  validation accuracy: 0.90975\n",
      "epoch: 4  validation loss: 0.294814  validation accuracy: 0.9185\n",
      "epoch: 5  validation loss: 0.273544  validation accuracy: 0.923\n",
      "epoch: 6  validation loss: 0.25274  validation accuracy: 0.9285\n",
      "epoch: 7  validation loss: 0.2412  validation accuracy: 0.9315\n",
      "epoch: 8  validation loss: 0.232611  validation accuracy: 0.93425\n",
      "epoch: 9  validation loss: 0.220992  validation accuracy: 0.93975\n",
      "epoch: 10  validation loss: 0.216709  validation accuracy: 0.937\n",
      "epoch: 11  validation loss: 0.206717  validation accuracy: 0.944\n",
      "epoch: 12  validation loss: 0.207613  validation accuracy: 0.94475\n",
      "epoch: 13  validation loss: 0.197858  validation accuracy: 0.9465\n",
      "epoch: 14  validation loss: 0.194532  validation accuracy: 0.9465\n",
      "epoch: 15  validation loss: 0.191865  validation accuracy: 0.95\n",
      "epoch: 16  validation loss: 0.187579  validation accuracy: 0.94725\n",
      "epoch: 17  validation loss: 0.191775  validation accuracy: 0.95025\n",
      "epoch: 18  validation loss: 0.182411  validation accuracy: 0.951\n",
      "epoch: 19  validation loss: 0.181259  validation accuracy: 0.9505\n",
      "epoch: 20  validation loss: 0.179538  validation accuracy: 0.95275\n",
      "epoch: 21  validation loss: 0.174959  validation accuracy: 0.95425\n",
      "epoch: 22  validation loss: 0.174969  validation accuracy: 0.953\n",
      "epoch: 23  validation loss: 0.172671  validation accuracy: 0.95475\n",
      "epoch: 24  validation loss: 0.168592  validation accuracy: 0.9555\n",
      "epoch: 25  validation loss: 0.167671  validation accuracy: 0.95775\n",
      "epoch: 26  validation loss: 0.164991  validation accuracy: 0.95775\n",
      "epoch: 27  validation loss: 0.165033  validation accuracy: 0.95725\n",
      "epoch: 28  validation loss: 0.166619  validation accuracy: 0.95775\n",
      "epoch: 29  validation loss: 0.165222  validation accuracy: 0.959\n",
      "epoch: 30  validation loss: 0.162898  validation accuracy: 0.9585\n",
      "epoch: 31  validation loss: 0.164709  validation accuracy: 0.95775\n",
      "epoch: 32  validation loss: 0.162874  validation accuracy: 0.959\n",
      "epoch: 33  validation loss: 0.162945  validation accuracy: 0.96\n",
      "epoch: 34  validation loss: 0.165034  validation accuracy: 0.9615\n",
      "epoch: 35  validation loss: 0.16529  validation accuracy: 0.95775\n",
      "epoch: 36  validation loss: 0.166106  validation accuracy: 0.96125\n",
      "epoch: 37  validation loss: 0.162322  validation accuracy: 0.95975\n",
      "epoch: 38  validation loss: 0.163635  validation accuracy: 0.95875\n",
      "epoch: 39  validation loss: 0.165564  validation accuracy: 0.96075\n",
      "epoch: 40  validation loss: 0.16022  validation accuracy: 0.962\n",
      "epoch: 41  validation loss: 0.16512  validation accuracy: 0.9585\n",
      "epoch: 42  validation loss: 0.164359  validation accuracy: 0.9605\n",
      "epoch: 43  validation loss: 0.167697  validation accuracy: 0.961\n",
      "epoch: 44  validation loss: 0.160459  validation accuracy: 0.9615\n",
      "epoch: 45  validation loss: 0.16354  validation accuracy: 0.96125\n",
      "epoch: 46  validation loss: 0.165568  validation accuracy: 0.9615\n",
      "epoch: 47  validation loss: 0.159543  validation accuracy: 0.962\n",
      "epoch: 48  validation loss: 0.161557  validation accuracy: 0.96425\n",
      "epoch: 49  validation loss: 0.161402  validation accuracy: 0.9625\n"
     ]
    },
    {
     "data": {
      "image/png": "[encoded data removed]",
      "text/plain": [
       "<matplotlib.figure.Figure at 0x1a1ca013c8>"
      ]
     },
     "metadata": {},
     "output_type": "display_data"
    },
    {
     "name": "stdout",
     "output_type": "stream",
     "text": [
      "accuracy:  0.9624\n"
     ]
    },
    {
     "data": {
      "text/plain": [
       "<matplotlib.figure.Figure at 0x1a212a5f60>"
      ]
     },
     "metadata": {},
     "output_type": "display_data"
    }
   ],
   "source": [
    "%run tensorflow/10_mnist_adadelta_tensorflow.py"
   ]
  },
  {
   "cell_type": "code",
   "execution_count": 5,
   "metadata": {
    "collapsed": true
   },
   "outputs": [
    {
     "name": "stderr",
     "output_type": "stream",
     "text": [
      "/Users/yohei/.pyenv/versions/anaconda3-5.0.0/envs/tensorflow/lib/python3.5/site-packages/sklearn/model_selection/_split.py:2026: FutureWarning: From version 0.21, test_size will always complement train_size unless both are specified.\n",
      "  FutureWarning)\n"
     ]
    },
    {
     "name": "stdout",
     "output_type": "stream",
     "text": [
      "Train on 16000 samples, validate on 4000 samples\n",
      "Epoch 1/50\n",
      "16000/16000 [==============================] - 2s 143us/step - loss: 2.0028 - acc: 0.2985 - val_loss: 1.0732 - val_acc: 0.7725\n",
      "Epoch 2/50\n",
      "16000/16000 [==============================] - 1s 76us/step - loss: 1.1698 - acc: 0.6069 - val_loss: 0.5675 - val_acc: 0.8525\n",
      "Epoch 3/50\n",
      "16000/16000 [==============================] - 1s 79us/step - loss: 0.8264 - acc: 0.7301 - val_loss: 0.4324 - val_acc: 0.8812\n",
      "Epoch 4/50\n",
      "16000/16000 [==============================] - 1s 78us/step - loss: 0.6643 - acc: 0.7914 - val_loss: 0.3682 - val_acc: 0.8940\n",
      "Epoch 5/50\n",
      "16000/16000 [==============================] - 1s 87us/step - loss: 0.5796 - acc: 0.8249 - val_loss: 0.3322 - val_acc: 0.9062\n",
      "Epoch 6/50\n",
      "16000/16000 [==============================] - 1s 85us/step - loss: 0.5252 - acc: 0.8444 - val_loss: 0.3082 - val_acc: 0.9088\n",
      "Epoch 7/50\n",
      "16000/16000 [==============================] - 1s 81us/step - loss: 0.4703 - acc: 0.8612 - val_loss: 0.2817 - val_acc: 0.9175\n",
      "Epoch 8/50\n",
      "16000/16000 [==============================] - 1s 78us/step - loss: 0.4297 - acc: 0.8751 - val_loss: 0.2682 - val_acc: 0.9207\n",
      "Epoch 9/50\n",
      "16000/16000 [==============================] - 1s 79us/step - loss: 0.4070 - acc: 0.8816 - val_loss: 0.2566 - val_acc: 0.9245\n",
      "Epoch 10/50\n",
      "16000/16000 [==============================] - 1s 78us/step - loss: 0.3771 - acc: 0.8900 - val_loss: 0.2442 - val_acc: 0.9285\n",
      "Epoch 11/50\n",
      "16000/16000 [==============================] - 1s 82us/step - loss: 0.3571 - acc: 0.9011 - val_loss: 0.2397 - val_acc: 0.9313\n",
      "Epoch 12/50\n",
      "16000/16000 [==============================] - 2s 97us/step - loss: 0.3394 - acc: 0.9050 - val_loss: 0.2306 - val_acc: 0.9333\n",
      "Epoch 13/50\n",
      "16000/16000 [==============================] - 1s 88us/step - loss: 0.3261 - acc: 0.9071 - val_loss: 0.2166 - val_acc: 0.9352\n",
      "Epoch 14/50\n",
      "16000/16000 [==============================] - 1s 79us/step - loss: 0.3036 - acc: 0.9118 - val_loss: 0.2130 - val_acc: 0.9380\n",
      "Epoch 15/50\n",
      "16000/16000 [==============================] - 1s 79us/step - loss: 0.2933 - acc: 0.9166 - val_loss: 0.2078 - val_acc: 0.9410\n",
      "Epoch 16/50\n",
      "16000/16000 [==============================] - 2s 101us/step - loss: 0.2819 - acc: 0.9200 - val_loss: 0.2011 - val_acc: 0.9395\n",
      "Epoch 17/50\n",
      "16000/16000 [==============================] - 2s 98us/step - loss: 0.2685 - acc: 0.9257 - val_loss: 0.1990 - val_acc: 0.9417\n",
      "Epoch 18/50\n",
      "16000/16000 [==============================] - 2s 100us/step - loss: 0.2634 - acc: 0.9244 - val_loss: 0.1940 - val_acc: 0.9420\n",
      "Epoch 19/50\n",
      "16000/16000 [==============================] - 2s 96us/step - loss: 0.2505 - acc: 0.9293 - val_loss: 0.1867 - val_acc: 0.9453\n",
      "Epoch 20/50\n",
      "16000/16000 [==============================] - 2s 104us/step - loss: 0.2430 - acc: 0.9323 - val_loss: 0.1894 - val_acc: 0.9472\n",
      "Epoch 21/50\n",
      "16000/16000 [==============================] - 2s 99us/step - loss: 0.2380 - acc: 0.9334 - val_loss: 0.1856 - val_acc: 0.9482\n",
      "Epoch 22/50\n",
      "16000/16000 [==============================] - 2s 108us/step - loss: 0.2310 - acc: 0.9347 - val_loss: 0.1783 - val_acc: 0.9505\n",
      "Epoch 23/50\n",
      "16000/16000 [==============================] - 2s 102us/step - loss: 0.2244 - acc: 0.9372 - val_loss: 0.1793 - val_acc: 0.9475\n",
      "Epoch 24/50\n",
      "16000/16000 [==============================] - 1s 93us/step - loss: 0.2180 - acc: 0.9386 - val_loss: 0.1774 - val_acc: 0.9482\n",
      "Epoch 25/50\n",
      "16000/16000 [==============================] - 1s 87us/step - loss: 0.2082 - acc: 0.9411 - val_loss: 0.1696 - val_acc: 0.9515\n",
      "Epoch 26/50\n",
      "16000/16000 [==============================] - 1s 85us/step - loss: 0.2010 - acc: 0.9432 - val_loss: 0.1692 - val_acc: 0.9522\n",
      "Epoch 27/50\n",
      "16000/16000 [==============================] - 1s 82us/step - loss: 0.1907 - acc: 0.9458 - val_loss: 0.1772 - val_acc: 0.9517\n",
      "Epoch 28/50\n",
      "16000/16000 [==============================] - 1s 78us/step - loss: 0.1900 - acc: 0.9461 - val_loss: 0.1696 - val_acc: 0.9542\n",
      "Epoch 29/50\n",
      "16000/16000 [==============================] - 1s 78us/step - loss: 0.1839 - acc: 0.9474 - val_loss: 0.1668 - val_acc: 0.9540\n",
      "Epoch 30/50\n",
      "16000/16000 [==============================] - 1s 81us/step - loss: 0.1848 - acc: 0.9476 - val_loss: 0.1680 - val_acc: 0.9532\n",
      "Epoch 31/50\n",
      "16000/16000 [==============================] - 1s 82us/step - loss: 0.1789 - acc: 0.9497 - val_loss: 0.1637 - val_acc: 0.9545\n",
      "Epoch 32/50\n",
      "16000/16000 [==============================] - 1s 78us/step - loss: 0.1730 - acc: 0.9506 - val_loss: 0.1683 - val_acc: 0.9558\n",
      "Epoch 33/50\n",
      "16000/16000 [==============================] - 1s 81us/step - loss: 0.1689 - acc: 0.9526 - val_loss: 0.1633 - val_acc: 0.9573\n",
      "Epoch 34/50\n",
      "16000/16000 [==============================] - 1s 80us/step - loss: 0.1644 - acc: 0.9535 - val_loss: 0.1605 - val_acc: 0.9593\n",
      "Epoch 35/50\n",
      "16000/16000 [==============================] - 1s 78us/step - loss: 0.1582 - acc: 0.9541 - val_loss: 0.1663 - val_acc: 0.9565\n",
      "Epoch 36/50\n",
      "16000/16000 [==============================] - 1s 77us/step - loss: 0.1562 - acc: 0.9537 - val_loss: 0.1606 - val_acc: 0.9580\n",
      "Epoch 37/50\n",
      "16000/16000 [==============================] - 1s 81us/step - loss: 0.1556 - acc: 0.9561 - val_loss: 0.1619 - val_acc: 0.9573\n",
      "Epoch 38/50\n",
      "16000/16000 [==============================] - 1s 82us/step - loss: 0.1539 - acc: 0.9549 - val_loss: 0.1599 - val_acc: 0.9573\n",
      "Epoch 39/50\n",
      "16000/16000 [==============================] - 1s 80us/step - loss: 0.1475 - acc: 0.9576 - val_loss: 0.1598 - val_acc: 0.9590\n",
      "Epoch 40/50\n",
      "16000/16000 [==============================] - 1s 82us/step - loss: 0.1489 - acc: 0.9567 - val_loss: 0.1608 - val_acc: 0.9577\n",
      "Epoch 41/50\n",
      "16000/16000 [==============================] - 1s 82us/step - loss: 0.1412 - acc: 0.9602 - val_loss: 0.1642 - val_acc: 0.9567\n",
      "Epoch 42/50\n",
      "16000/16000 [==============================] - 1s 81us/step - loss: 0.1416 - acc: 0.9582 - val_loss: 0.1597 - val_acc: 0.9575\n",
      "Epoch 43/50\n",
      "16000/16000 [==============================] - 1s 83us/step - loss: 0.1428 - acc: 0.9585 - val_loss: 0.1582 - val_acc: 0.9597\n",
      "Epoch 44/50\n",
      "16000/16000 [==============================] - 1s 83us/step - loss: 0.1340 - acc: 0.9613 - val_loss: 0.1575 - val_acc: 0.9595\n",
      "Epoch 45/50\n",
      "16000/16000 [==============================] - 1s 84us/step - loss: 0.1276 - acc: 0.9633 - val_loss: 0.1609 - val_acc: 0.9600\n",
      "Epoch 46/50\n",
      "16000/16000 [==============================] - 1s 79us/step - loss: 0.1295 - acc: 0.9618 - val_loss: 0.1636 - val_acc: 0.9575\n",
      "Epoch 47/50\n",
      "16000/16000 [==============================] - 1s 85us/step - loss: 0.1267 - acc: 0.9632 - val_loss: 0.1600 - val_acc: 0.9583\n",
      "Epoch 48/50\n",
      "16000/16000 [==============================] - 1s 85us/step - loss: 0.1207 - acc: 0.9637 - val_loss: 0.1622 - val_acc: 0.9612\n",
      "Epoch 49/50\n",
      "16000/16000 [==============================] - 1s 86us/step - loss: 0.1231 - acc: 0.9624 - val_loss: 0.1599 - val_acc: 0.9588\n",
      "Epoch 50/50\n",
      "16000/16000 [==============================] - 2s 96us/step - loss: 0.1199 - acc: 0.9662 - val_loss: 0.1598 - val_acc: 0.9590\n"
     ]
    },
    {
     "data": {
      "image/png": "[encoded data removed]",
      "text/plain": [
       "<matplotlib.figure.Figure at 0x1a21a354a8>"
      ]
     },
     "metadata": {},
     "output_type": "display_data"
    },
    {
     "name": "stdout",
     "output_type": "stream",
     "text": [
      "10000/10000 [==============================] - 1s 65us/step\n",
      "[0.14795228018686174, 0.96160000000000001]\n"
     ]
    }
   ],
   "source": [
    "%run keras/10_mnist_adadelta_keras.py"
   ]
  },
  {
   "cell_type": "code",
   "execution_count": null,
   "metadata": {
    "collapsed": true
   },
   "outputs": [],
   "source": []
  },
  {
   "cell_type": "markdown",
   "metadata": {},
   "source": [
    "# 11_mnist_rmsprop"
   ]
  },
  {
   "cell_type": "code",
   "execution_count": 6,
   "metadata": {
    "collapsed": true
   },
   "outputs": [
    {
     "name": "stderr",
     "output_type": "stream",
     "text": [
      "/Users/yohei/.pyenv/versions/anaconda3-5.0.0/envs/tensorflow/lib/python3.5/site-packages/sklearn/model_selection/_split.py:2026: FutureWarning: From version 0.21, test_size will always complement train_size unless both are specified.\n",
      "  FutureWarning)\n"
     ]
    },
    {
     "name": "stdout",
     "output_type": "stream",
     "text": [
      "epoch: 0  validation loss: 2.14114  validation accuracy: 0.4245\n",
      "epoch: 1  validation loss: 0.425591  validation accuracy: 0.88\n",
      "epoch: 2  validation loss: 0.299075  validation accuracy: 0.91425\n",
      "epoch: 3  validation loss: 0.245427  validation accuracy: 0.9295\n",
      "epoch: 4  validation loss: 0.22576  validation accuracy: 0.93975\n",
      "epoch: 5  validation loss: 0.203749  validation accuracy: 0.9435\n",
      "epoch: 6  validation loss: 0.205998  validation accuracy: 0.944\n",
      "epoch: 7  validation loss: 0.182971  validation accuracy: 0.9505\n",
      "epoch: 8  validation loss: 0.168658  validation accuracy: 0.95625\n",
      "epoch: 9  validation loss: 0.186525  validation accuracy: 0.95125\n",
      "epoch: 10  validation loss: 0.188004  validation accuracy: 0.954\n",
      "epoch: 11  validation loss: 0.16993  validation accuracy: 0.95675\n",
      "epoch: 12  validation loss: 0.173121  validation accuracy: 0.95825\n",
      "epoch: 13  validation loss: 0.166675  validation accuracy: 0.96\n",
      "epoch: 14  validation loss: 0.183283  validation accuracy: 0.9555\n",
      "epoch: 15  validation loss: 0.167082  validation accuracy: 0.95775\n",
      "epoch: 16  validation loss: 0.17069  validation accuracy: 0.96075\n",
      "epoch: 17  validation loss: 0.178888  validation accuracy: 0.95875\n",
      "epoch: 18  validation loss: 0.172139  validation accuracy: 0.9615\n",
      "epoch: 19  validation loss: 0.164867  validation accuracy: 0.96375\n",
      "epoch: 20  validation loss: 0.164781  validation accuracy: 0.96425\n",
      "epoch: 21  validation loss: 0.16911  validation accuracy: 0.96375\n",
      "epoch: 22  validation loss: 0.173959  validation accuracy: 0.96225\n",
      "epoch: 23  validation loss: 0.173897  validation accuracy: 0.964\n",
      "epoch: 24  validation loss: 0.181072  validation accuracy: 0.96125\n",
      "epoch: 25  validation loss: 0.173224  validation accuracy: 0.96425\n",
      "epoch: 26  validation loss: 0.171081  validation accuracy: 0.9635\n",
      "epoch: 27  validation loss: 0.164742  validation accuracy: 0.96375\n",
      "epoch: 28  validation loss: 0.179476  validation accuracy: 0.964\n",
      "epoch: 29  validation loss: 0.179346  validation accuracy: 0.9645\n",
      "epoch: 30  validation loss: 0.18368  validation accuracy: 0.96425\n",
      "epoch: 31  validation loss: 0.197324  validation accuracy: 0.962\n",
      "epoch: 32  validation loss: 0.188226  validation accuracy: 0.96325\n",
      "epoch: 33  validation loss: 0.179388  validation accuracy: 0.965\n",
      "epoch: 34  validation loss: 0.182318  validation accuracy: 0.9635\n",
      "epoch: 35  validation loss: 0.178547  validation accuracy: 0.96525\n",
      "epoch: 36  validation loss: 0.17605  validation accuracy: 0.9665\n",
      "epoch: 37  validation loss: 0.173986  validation accuracy: 0.96725\n",
      "epoch: 38  validation loss: 0.197473  validation accuracy: 0.965\n",
      "epoch: 39  validation loss: 0.198879  validation accuracy: 0.9645\n",
      "epoch: 40  validation loss: 0.194453  validation accuracy: 0.96625\n",
      "epoch: 41  validation loss: 0.197669  validation accuracy: 0.9645\n",
      "epoch: 42  validation loss: 0.197978  validation accuracy: 0.966\n",
      "epoch: 43  validation loss: 0.197622  validation accuracy: 0.966\n",
      "epoch: 44  validation loss: 0.200256  validation accuracy: 0.96725\n",
      "epoch: 45  validation loss: 0.198355  validation accuracy: 0.96475\n",
      "epoch: 46  validation loss: 0.216873  validation accuracy: 0.964\n",
      "epoch: 47  validation loss: 0.191889  validation accuracy: 0.9675\n",
      "epoch: 48  validation loss: 0.202472  validation accuracy: 0.96475\n",
      "epoch: 49  validation loss: 0.200423  validation accuracy: 0.96775\n"
     ]
    },
    {
     "data": {
      "image/png": "[encoded data removed]",
      "text/plain": [
       "<matplotlib.figure.Figure at 0x1a1efe2ef0>"
      ]
     },
     "metadata": {},
     "output_type": "display_data"
    },
    {
     "name": "stdout",
     "output_type": "stream",
     "text": [
      "accuracy:  0.9667\n"
     ]
    }
   ],
   "source": [
    "%run tensorflow/11_mnist_rmsprop_tensorflow.py"
   ]
  },
  {
   "cell_type": "code",
   "execution_count": 7,
   "metadata": {
    "collapsed": true
   },
   "outputs": [
    {
     "name": "stderr",
     "output_type": "stream",
     "text": [
      "/Users/yohei/.pyenv/versions/anaconda3-5.0.0/envs/tensorflow/lib/python3.5/site-packages/sklearn/model_selection/_split.py:2026: FutureWarning: From version 0.21, test_size will always complement train_size unless both are specified.\n",
      "  FutureWarning)\n"
     ]
    },
    {
     "name": "stdout",
     "output_type": "stream",
     "text": [
      "Train on 16000 samples, validate on 4000 samples\n",
      "Epoch 1/50\n",
      "16000/16000 [==============================] - 2s 127us/step - loss: 1.3406 - acc: 0.5453 - val_loss: 0.4548 - val_acc: 0.8680\n",
      "Epoch 2/50\n",
      "16000/16000 [==============================] - 1s 72us/step - loss: 0.6369 - acc: 0.8025 - val_loss: 0.3070 - val_acc: 0.9077\n",
      "Epoch 3/50\n",
      "16000/16000 [==============================] - 1s 73us/step - loss: 0.4679 - acc: 0.8634 - val_loss: 0.2704 - val_acc: 0.9205\n",
      "Epoch 4/50\n",
      "16000/16000 [==============================] - 1s 74us/step - loss: 0.3812 - acc: 0.8909 - val_loss: 0.2301 - val_acc: 0.9302\n",
      "Epoch 5/50\n",
      "16000/16000 [==============================] - 1s 77us/step - loss: 0.3402 - acc: 0.9047 - val_loss: 0.2147 - val_acc: 0.9380\n",
      "Epoch 6/50\n",
      "16000/16000 [==============================] - 2s 95us/step - loss: 0.3039 - acc: 0.9164 - val_loss: 0.2074 - val_acc: 0.9370\n",
      "Epoch 7/50\n",
      "16000/16000 [==============================] - 1s 72us/step - loss: 0.2704 - acc: 0.9243 - val_loss: 0.1922 - val_acc: 0.9435\n",
      "Epoch 8/50\n",
      "16000/16000 [==============================] - 1s 85us/step - loss: 0.2465 - acc: 0.9291 - val_loss: 0.1830 - val_acc: 0.9470\n",
      "Epoch 9/50\n",
      "16000/16000 [==============================] - 2s 104us/step - loss: 0.2409 - acc: 0.9329 - val_loss: 0.1749 - val_acc: 0.9520\n",
      "Epoch 10/50\n",
      "16000/16000 [==============================] - 1s 94us/step - loss: 0.2231 - acc: 0.9392 - val_loss: 0.1752 - val_acc: 0.9548\n",
      "Epoch 11/50\n",
      "16000/16000 [==============================] - 2s 95us/step - loss: 0.2082 - acc: 0.9407 - val_loss: 0.1771 - val_acc: 0.9548\n",
      "Epoch 12/50\n",
      "16000/16000 [==============================] - 1s 80us/step - loss: 0.1959 - acc: 0.9451 - val_loss: 0.1586 - val_acc: 0.9560\n",
      "Epoch 13/50\n",
      "16000/16000 [==============================] - 1s 94us/step - loss: 0.1841 - acc: 0.9485 - val_loss: 0.1679 - val_acc: 0.9550\n",
      "Epoch 14/50\n",
      "16000/16000 [==============================] - 1s 89us/step - loss: 0.1826 - acc: 0.9482 - val_loss: 0.1633 - val_acc: 0.9602\n",
      "Epoch 15/50\n",
      "16000/16000 [==============================] - 1s 74us/step - loss: 0.1709 - acc: 0.9515 - val_loss: 0.1580 - val_acc: 0.9595\n",
      "Epoch 16/50\n",
      "16000/16000 [==============================] - 1s 91us/step - loss: 0.1633 - acc: 0.9537 - val_loss: 0.1660 - val_acc: 0.9595\n",
      "Epoch 17/50\n",
      "16000/16000 [==============================] - 2s 102us/step - loss: 0.1619 - acc: 0.9547 - val_loss: 0.1543 - val_acc: 0.9630\n",
      "Epoch 18/50\n",
      "16000/16000 [==============================] - 1s 89us/step - loss: 0.1530 - acc: 0.9561 - val_loss: 0.1565 - val_acc: 0.9590\n",
      "Epoch 19/50\n",
      "16000/16000 [==============================] - 2s 104us/step - loss: 0.1421 - acc: 0.9594 - val_loss: 0.1479 - val_acc: 0.9625\n",
      "Epoch 20/50\n",
      "16000/16000 [==============================] - 1s 92us/step - loss: 0.1414 - acc: 0.9597 - val_loss: 0.1701 - val_acc: 0.9595\n",
      "Epoch 21/50\n",
      "16000/16000 [==============================] - 1s 90us/step - loss: 0.1400 - acc: 0.9606 - val_loss: 0.1722 - val_acc: 0.9625\n",
      "Epoch 22/50\n",
      "16000/16000 [==============================] - 2s 97us/step - loss: 0.1350 - acc: 0.9624 - val_loss: 0.1621 - val_acc: 0.9627\n",
      "Epoch 23/50\n",
      "16000/16000 [==============================] - 2s 107us/step - loss: 0.1313 - acc: 0.9640 - val_loss: 0.1695 - val_acc: 0.9618\n",
      "Epoch 24/50\n",
      "16000/16000 [==============================] - 1s 85us/step - loss: 0.1254 - acc: 0.9665 - val_loss: 0.1697 - val_acc: 0.9628\n",
      "Epoch 25/50\n",
      "16000/16000 [==============================] - 1s 88us/step - loss: 0.1243 - acc: 0.9668 - val_loss: 0.1715 - val_acc: 0.9642\n",
      "Epoch 26/50\n",
      "16000/16000 [==============================] - 1s 80us/step - loss: 0.1219 - acc: 0.9663 - val_loss: 0.1540 - val_acc: 0.9650\n",
      "Epoch 27/50\n",
      "16000/16000 [==============================] - 1s 78us/step - loss: 0.1139 - acc: 0.9676 - val_loss: 0.1547 - val_acc: 0.9650\n",
      "Epoch 28/50\n",
      "16000/16000 [==============================] - 1s 75us/step - loss: 0.1199 - acc: 0.9674 - val_loss: 0.1601 - val_acc: 0.9640\n",
      "Epoch 29/50\n",
      "16000/16000 [==============================] - 1s 70us/step - loss: 0.1120 - acc: 0.9672 - val_loss: 0.1513 - val_acc: 0.9660\n",
      "Epoch 30/50\n",
      "16000/16000 [==============================] - 1s 74us/step - loss: 0.1118 - acc: 0.9693 - val_loss: 0.1710 - val_acc: 0.9613\n",
      "Epoch 31/50\n",
      "16000/16000 [==============================] - 1s 77us/step - loss: 0.1050 - acc: 0.9711 - val_loss: 0.1688 - val_acc: 0.9650\n",
      "Epoch 32/50\n",
      "16000/16000 [==============================] - 1s 80us/step - loss: 0.1127 - acc: 0.9680 - val_loss: 0.1657 - val_acc: 0.9627\n",
      "Epoch 33/50\n",
      "16000/16000 [==============================] - 1s 79us/step - loss: 0.1052 - acc: 0.9718 - val_loss: 0.1670 - val_acc: 0.9657\n",
      "Epoch 34/50\n",
      "16000/16000 [==============================] - 1s 76us/step - loss: 0.0995 - acc: 0.9723 - val_loss: 0.1745 - val_acc: 0.9655\n",
      "Epoch 35/50\n",
      "16000/16000 [==============================] - 1s 77us/step - loss: 0.1063 - acc: 0.9711 - val_loss: 0.1660 - val_acc: 0.9673\n",
      "Epoch 36/50\n",
      "16000/16000 [==============================] - 1s 75us/step - loss: 0.0985 - acc: 0.9739 - val_loss: 0.1831 - val_acc: 0.9650\n",
      "Epoch 37/50\n",
      "16000/16000 [==============================] - 1s 75us/step - loss: 0.0976 - acc: 0.9715 - val_loss: 0.1716 - val_acc: 0.9648\n",
      "Epoch 38/50\n",
      "16000/16000 [==============================] - 1s 79us/step - loss: 0.0955 - acc: 0.9734 - val_loss: 0.1780 - val_acc: 0.9658\n",
      "Epoch 39/50\n",
      "16000/16000 [==============================] - 1s 77us/step - loss: 0.0985 - acc: 0.9740 - val_loss: 0.1796 - val_acc: 0.9645\n",
      "Epoch 40/50\n",
      "16000/16000 [==============================] - 1s 76us/step - loss: 0.1005 - acc: 0.9736 - val_loss: 0.1748 - val_acc: 0.9670\n",
      "Epoch 41/50\n",
      "16000/16000 [==============================] - 1s 75us/step - loss: 0.0890 - acc: 0.9742 - val_loss: 0.1657 - val_acc: 0.9655\n",
      "Epoch 42/50\n",
      "16000/16000 [==============================] - 1s 71us/step - loss: 0.0965 - acc: 0.9736 - val_loss: 0.1776 - val_acc: 0.9650\n",
      "Epoch 43/50\n",
      "16000/16000 [==============================] - 1s 76us/step - loss: 0.0936 - acc: 0.9736 - val_loss: 0.1730 - val_acc: 0.9665\n",
      "Epoch 44/50\n",
      "16000/16000 [==============================] - 1s 72us/step - loss: 0.0891 - acc: 0.9766 - val_loss: 0.1948 - val_acc: 0.9672\n",
      "Epoch 45/50\n",
      "16000/16000 [==============================] - 1s 77us/step - loss: 0.0839 - acc: 0.9777 - val_loss: 0.1772 - val_acc: 0.9665\n",
      "Epoch 46/50\n",
      "16000/16000 [==============================] - 1s 74us/step - loss: 0.0919 - acc: 0.9766 - val_loss: 0.1854 - val_acc: 0.9678\n",
      "Epoch 47/50\n",
      "16000/16000 [==============================] - 1s 77us/step - loss: 0.0819 - acc: 0.9781 - val_loss: 0.1906 - val_acc: 0.9658\n",
      "Epoch 48/50\n",
      "16000/16000 [==============================] - 1s 78us/step - loss: 0.0909 - acc: 0.9764 - val_loss: 0.1925 - val_acc: 0.9673\n",
      "Epoch 49/50\n",
      "16000/16000 [==============================] - 1s 75us/step - loss: 0.0863 - acc: 0.9759 - val_loss: 0.1978 - val_acc: 0.9667\n",
      "Epoch 50/50\n",
      "16000/16000 [==============================] - 1s 75us/step - loss: 0.0922 - acc: 0.9754 - val_loss: 0.1781 - val_acc: 0.9678\n"
     ]
    },
    {
     "data": {
      "image/png": "[encoded data removed]",
      "text/plain": [
       "<matplotlib.figure.Figure at 0x1a83896a58>"
      ]
     },
     "metadata": {},
     "output_type": "display_data"
    },
    {
     "name": "stdout",
     "output_type": "stream",
     "text": [
      "10000/10000 [==============================] - 1s 52us/step\n",
      "[0.16550376851930923, 0.96830000000000005]\n"
     ]
    }
   ],
   "source": [
    "%run keras/11_mnist_rmsprop_keras.py"
   ]
  },
  {
   "cell_type": "code",
   "execution_count": null,
   "metadata": {
    "collapsed": true
   },
   "outputs": [],
   "source": []
  },
  {
   "cell_type": "markdown",
   "metadata": {},
   "source": [
    "# 12_mnist_adam"
   ]
  },
  {
   "cell_type": "code",
   "execution_count": 8,
   "metadata": {
    "collapsed": true
   },
   "outputs": [
    {
     "name": "stderr",
     "output_type": "stream",
     "text": [
      "/Users/yohei/.pyenv/versions/anaconda3-5.0.0/envs/tensorflow/lib/python3.5/site-packages/sklearn/model_selection/_split.py:2026: FutureWarning: From version 0.21, test_size will always complement train_size unless both are specified.\n",
      "  FutureWarning)\n"
     ]
    },
    {
     "name": "stdout",
     "output_type": "stream",
     "text": [
      "epoch: 0  validation loss: 0.480722  validation accuracy: 0.85875\n",
      "epoch: 1  validation loss: 0.338208  validation accuracy: 0.90075\n",
      "epoch: 2  validation loss: 0.266413  validation accuracy: 0.92\n",
      "epoch: 3  validation loss: 0.25833  validation accuracy: 0.923\n",
      "epoch: 4  validation loss: 0.233591  validation accuracy: 0.92975\n",
      "epoch: 5  validation loss: 0.250873  validation accuracy: 0.92425\n",
      "epoch: 6  validation loss: 0.191463  validation accuracy: 0.9445\n",
      "epoch: 7  validation loss: 0.187665  validation accuracy: 0.94375\n",
      "epoch: 8  validation loss: 0.183887  validation accuracy: 0.9495\n",
      "epoch: 9  validation loss: 0.192573  validation accuracy: 0.94525\n",
      "epoch: 10  validation loss: 0.167587  validation accuracy: 0.951\n",
      "epoch: 11  validation loss: 0.175152  validation accuracy: 0.9505\n",
      "epoch: 12  validation loss: 0.178173  validation accuracy: 0.95175\n",
      "epoch: 13  validation loss: 0.14981  validation accuracy: 0.96\n",
      "epoch: 14  validation loss: 0.164169  validation accuracy: 0.95625\n",
      "epoch: 15  validation loss: 0.168841  validation accuracy: 0.95425\n",
      "epoch: 16  validation loss: 0.177187  validation accuracy: 0.95\n",
      "epoch: 17  validation loss: 0.179155  validation accuracy: 0.95175\n",
      "epoch: 18  validation loss: 0.163958  validation accuracy: 0.95375\n",
      "epoch: 19  validation loss: 0.164388  validation accuracy: 0.9605\n",
      "epoch: 20  validation loss: 0.172452  validation accuracy: 0.957\n",
      "epoch: 21  validation loss: 0.193118  validation accuracy: 0.954\n",
      "epoch: 22  validation loss: 0.148392  validation accuracy: 0.963\n",
      "epoch: 23  validation loss: 0.161171  validation accuracy: 0.95875\n",
      "epoch: 24  validation loss: 0.158325  validation accuracy: 0.9595\n",
      "epoch: 25  validation loss: 0.157181  validation accuracy: 0.96225\n",
      "epoch: 26  validation loss: 0.154588  validation accuracy: 0.96175\n",
      "epoch: 27  validation loss: 0.156734  validation accuracy: 0.9595\n",
      "epoch: 28  validation loss: 0.175365  validation accuracy: 0.96\n",
      "epoch: 29  validation loss: 0.186879  validation accuracy: 0.95475\n",
      "epoch: 30  validation loss: 0.157933  validation accuracy: 0.962\n",
      "epoch: 31  validation loss: 0.189214  validation accuracy: 0.95475\n",
      "epoch: 32  validation loss: 0.156466  validation accuracy: 0.96525\n",
      "epoch: 33  validation loss: 0.158067  validation accuracy: 0.96725\n",
      "epoch: 34  validation loss: 0.162713  validation accuracy: 0.961\n",
      "epoch: 35  validation loss: 0.161767  validation accuracy: 0.96325\n",
      "epoch: 36  validation loss: 0.167069  validation accuracy: 0.96225\n",
      "epoch: 37  validation loss: 0.176595  validation accuracy: 0.9625\n",
      "epoch: 38  validation loss: 0.153647  validation accuracy: 0.968\n",
      "epoch: 39  validation loss: 0.154969  validation accuracy: 0.96475\n",
      "epoch: 40  validation loss: 0.156961  validation accuracy: 0.96675\n",
      "epoch: 41  validation loss: 0.157322  validation accuracy: 0.9615\n",
      "epoch: 42  validation loss: 0.159027  validation accuracy: 0.9655\n",
      "epoch: 43  validation loss: 0.148055  validation accuracy: 0.96825\n",
      "epoch: 44  validation loss: 0.160963  validation accuracy: 0.96825\n",
      "epoch: 45  validation loss: 0.171314  validation accuracy: 0.96425\n",
      "epoch: 46  validation loss: 0.163324  validation accuracy: 0.965\n",
      "epoch: 47  validation loss: 0.167596  validation accuracy: 0.9655\n",
      "epoch: 48  validation loss: 0.166256  validation accuracy: 0.96225\n",
      "epoch: 49  validation loss: 0.163962  validation accuracy: 0.96475\n"
     ]
    },
    {
     "data": {
      "image/png": "[encoded data removed]",
      "text/plain": [
       "<matplotlib.figure.Figure at 0x1a694569b0>"
      ]
     },
     "metadata": {},
     "output_type": "display_data"
    },
    {
     "name": "stdout",
     "output_type": "stream",
     "text": [
      "accuracy:  0.9641\n"
     ]
    }
   ],
   "source": [
    "%run tensorflow/12_mnist_adam_tensorflow.py"
   ]
  },
  {
   "cell_type": "code",
   "execution_count": 9,
   "metadata": {
    "collapsed": true
   },
   "outputs": [
    {
     "name": "stderr",
     "output_type": "stream",
     "text": [
      "/Users/yohei/.pyenv/versions/anaconda3-5.0.0/envs/tensorflow/lib/python3.5/site-packages/sklearn/model_selection/_split.py:2026: FutureWarning: From version 0.21, test_size will always complement train_size unless both are specified.\n",
      "  FutureWarning)\n"
     ]
    },
    {
     "name": "stdout",
     "output_type": "stream",
     "text": [
      "Train on 16000 samples, validate on 4000 samples\n",
      "Epoch 1/50\n",
      "16000/16000 [==============================] - 3s 163us/step - loss: 1.5618 - acc: 0.4634 - val_loss: 0.5487 - val_acc: 0.8535\n",
      "Epoch 2/50\n",
      "16000/16000 [==============================] - 2s 95us/step - loss: 0.6932 - acc: 0.7802 - val_loss: 0.3343 - val_acc: 0.9042\n",
      "Epoch 3/50\n",
      "16000/16000 [==============================] - 1s 75us/step - loss: 0.4962 - acc: 0.8526 - val_loss: 0.2749 - val_acc: 0.9213\n",
      "Epoch 4/50\n",
      "16000/16000 [==============================] - 1s 79us/step - loss: 0.4066 - acc: 0.8798 - val_loss: 0.2445 - val_acc: 0.9278\n",
      "Epoch 5/50\n",
      "16000/16000 [==============================] - 1s 79us/step - loss: 0.3575 - acc: 0.8950 - val_loss: 0.2279 - val_acc: 0.9348\n",
      "Epoch 6/50\n",
      "16000/16000 [==============================] - 1s 79us/step - loss: 0.3268 - acc: 0.9086 - val_loss: 0.2079 - val_acc: 0.9360\n",
      "Epoch 7/50\n",
      "16000/16000 [==============================] - 1s 80us/step - loss: 0.2856 - acc: 0.9191 - val_loss: 0.2003 - val_acc: 0.9435\n",
      "Epoch 8/50\n",
      "16000/16000 [==============================] - 1s 78us/step - loss: 0.2621 - acc: 0.9238 - val_loss: 0.1855 - val_acc: 0.9470\n",
      "Epoch 9/50\n",
      "16000/16000 [==============================] - 1s 83us/step - loss: 0.2500 - acc: 0.9274 - val_loss: 0.1764 - val_acc: 0.9482\n",
      "Epoch 10/50\n",
      "16000/16000 [==============================] - 1s 83us/step - loss: 0.2247 - acc: 0.9356 - val_loss: 0.1710 - val_acc: 0.9520\n",
      "Epoch 11/50\n",
      "16000/16000 [==============================] - 1s 92us/step - loss: 0.2148 - acc: 0.9382 - val_loss: 0.1778 - val_acc: 0.9507\n",
      "Epoch 12/50\n",
      "16000/16000 [==============================] - 2s 105us/step - loss: 0.2032 - acc: 0.9433 - val_loss: 0.1648 - val_acc: 0.9540\n",
      "Epoch 13/50\n",
      "16000/16000 [==============================] - 2s 94us/step - loss: 0.1914 - acc: 0.9461 - val_loss: 0.1614 - val_acc: 0.9565\n",
      "Epoch 14/50\n",
      "16000/16000 [==============================] - 1s 83us/step - loss: 0.1754 - acc: 0.9494 - val_loss: 0.1561 - val_acc: 0.9582\n",
      "Epoch 15/50\n",
      "16000/16000 [==============================] - 1s 81us/step - loss: 0.1763 - acc: 0.9470 - val_loss: 0.1609 - val_acc: 0.9565\n",
      "Epoch 16/50\n",
      "16000/16000 [==============================] - 1s 76us/step - loss: 0.1623 - acc: 0.9527 - val_loss: 0.1594 - val_acc: 0.9547\n",
      "Epoch 17/50\n",
      "16000/16000 [==============================] - 1s 77us/step - loss: 0.1563 - acc: 0.9551 - val_loss: 0.1584 - val_acc: 0.9585\n",
      "Epoch 18/50\n",
      "16000/16000 [==============================] - 1s 77us/step - loss: 0.1553 - acc: 0.9549 - val_loss: 0.1482 - val_acc: 0.9568\n",
      "Epoch 19/50\n",
      "16000/16000 [==============================] - 1s 80us/step - loss: 0.1430 - acc: 0.9579 - val_loss: 0.1465 - val_acc: 0.9617\n",
      "Epoch 20/50\n",
      "16000/16000 [==============================] - 1s 79us/step - loss: 0.1383 - acc: 0.9581 - val_loss: 0.1503 - val_acc: 0.9603\n",
      "Epoch 21/50\n",
      "16000/16000 [==============================] - 1s 78us/step - loss: 0.1426 - acc: 0.9572 - val_loss: 0.1531 - val_acc: 0.9600\n",
      "Epoch 22/50\n",
      "16000/16000 [==============================] - 1s 78us/step - loss: 0.1337 - acc: 0.9616 - val_loss: 0.1464 - val_acc: 0.9600\n",
      "Epoch 23/50\n",
      "16000/16000 [==============================] - 1s 78us/step - loss: 0.1289 - acc: 0.9620 - val_loss: 0.1435 - val_acc: 0.9605\n",
      "Epoch 24/50\n",
      "16000/16000 [==============================] - 1s 84us/step - loss: 0.1117 - acc: 0.9650 - val_loss: 0.1486 - val_acc: 0.9620\n",
      "Epoch 25/50\n",
      "16000/16000 [==============================] - 1s 85us/step - loss: 0.1212 - acc: 0.9632 - val_loss: 0.1476 - val_acc: 0.9627\n",
      "Epoch 26/50\n",
      "16000/16000 [==============================] - 1s 87us/step - loss: 0.1135 - acc: 0.9646 - val_loss: 0.1481 - val_acc: 0.9622\n",
      "Epoch 27/50\n",
      "16000/16000 [==============================] - 1s 81us/step - loss: 0.1129 - acc: 0.9649 - val_loss: 0.1498 - val_acc: 0.9610\n",
      "Epoch 28/50\n",
      "16000/16000 [==============================] - 1s 77us/step - loss: 0.1100 - acc: 0.9678 - val_loss: 0.1455 - val_acc: 0.9637\n",
      "Epoch 29/50\n",
      "16000/16000 [==============================] - 1s 84us/step - loss: 0.1071 - acc: 0.9678 - val_loss: 0.1638 - val_acc: 0.9622\n",
      "Epoch 30/50\n",
      "16000/16000 [==============================] - 1s 82us/step - loss: 0.1070 - acc: 0.9687 - val_loss: 0.1598 - val_acc: 0.9625\n",
      "Epoch 31/50\n",
      "16000/16000 [==============================] - 1s 85us/step - loss: 0.0962 - acc: 0.9708 - val_loss: 0.1480 - val_acc: 0.9633\n",
      "Epoch 32/50\n",
      "16000/16000 [==============================] - 1s 82us/step - loss: 0.0980 - acc: 0.9699 - val_loss: 0.1480 - val_acc: 0.9620\n",
      "Epoch 33/50\n",
      "16000/16000 [==============================] - 1s 78us/step - loss: 0.0953 - acc: 0.9716 - val_loss: 0.1405 - val_acc: 0.9660\n",
      "Epoch 34/50\n",
      "16000/16000 [==============================] - 1s 83us/step - loss: 0.0927 - acc: 0.9727 - val_loss: 0.1505 - val_acc: 0.9653\n",
      "Epoch 35/50\n",
      "16000/16000 [==============================] - 1s 89us/step - loss: 0.0958 - acc: 0.9719 - val_loss: 0.1542 - val_acc: 0.9632\n",
      "Epoch 36/50\n",
      "16000/16000 [==============================] - 1s 83us/step - loss: 0.0938 - acc: 0.9716 - val_loss: 0.1411 - val_acc: 0.9670\n",
      "Epoch 37/50\n",
      "16000/16000 [==============================] - 1s 79us/step - loss: 0.0916 - acc: 0.9731 - val_loss: 0.1516 - val_acc: 0.9667\n",
      "Epoch 38/50\n",
      "16000/16000 [==============================] - 1s 81us/step - loss: 0.0884 - acc: 0.9740 - val_loss: 0.1426 - val_acc: 0.9678\n",
      "Epoch 39/50\n",
      "16000/16000 [==============================] - 1s 80us/step - loss: 0.0906 - acc: 0.9739 - val_loss: 0.1462 - val_acc: 0.9652\n",
      "Epoch 40/50\n",
      "16000/16000 [==============================] - 1s 79us/step - loss: 0.0894 - acc: 0.9717 - val_loss: 0.1537 - val_acc: 0.9640\n",
      "Epoch 41/50\n",
      "16000/16000 [==============================] - 1s 77us/step - loss: 0.0923 - acc: 0.9726 - val_loss: 0.1507 - val_acc: 0.9640\n",
      "Epoch 42/50\n",
      "16000/16000 [==============================] - 1s 76us/step - loss: 0.0905 - acc: 0.9713 - val_loss: 0.1542 - val_acc: 0.9667\n",
      "Epoch 43/50\n",
      "16000/16000 [==============================] - 1s 79us/step - loss: 0.0827 - acc: 0.9744 - val_loss: 0.1622 - val_acc: 0.9642\n",
      "Epoch 44/50\n",
      "16000/16000 [==============================] - 1s 81us/step - loss: 0.0782 - acc: 0.9759 - val_loss: 0.1457 - val_acc: 0.9662\n",
      "Epoch 45/50\n",
      "16000/16000 [==============================] - 1s 82us/step - loss: 0.0738 - acc: 0.9771 - val_loss: 0.1484 - val_acc: 0.9690\n",
      "Epoch 46/50\n",
      "16000/16000 [==============================] - 1s 81us/step - loss: 0.0818 - acc: 0.9759 - val_loss: 0.1494 - val_acc: 0.9693\n",
      "Epoch 47/50\n",
      "16000/16000 [==============================] - 1s 81us/step - loss: 0.0723 - acc: 0.9768 - val_loss: 0.1542 - val_acc: 0.9650\n",
      "Epoch 48/50\n",
      "16000/16000 [==============================] - 1s 80us/step - loss: 0.0722 - acc: 0.9768 - val_loss: 0.1462 - val_acc: 0.9675\n",
      "Epoch 49/50\n",
      "16000/16000 [==============================] - 1s 83us/step - loss: 0.0782 - acc: 0.9766 - val_loss: 0.1425 - val_acc: 0.9688\n",
      "Epoch 50/50\n",
      "16000/16000 [==============================] - 1s 82us/step - loss: 0.0714 - acc: 0.9782 - val_loss: 0.1507 - val_acc: 0.9680\n"
     ]
    },
    {
     "data": {
      "image/png": "[encoded data removed]",
      "text/plain": [
       "<matplotlib.figure.Figure at 0x1a808a57b8>"
      ]
     },
     "metadata": {},
     "output_type": "display_data"
    },
    {
     "name": "stdout",
     "output_type": "stream",
     "text": [
      "10000/10000 [==============================] - 1s 51us/step\n",
      "[0.14190131566819036, 0.96619999999999995]\n"
     ]
    }
   ],
   "source": [
    "%run keras/12_mnist_adam_keras.py"
   ]
  },
  {
   "cell_type": "code",
   "execution_count": null,
   "metadata": {},
   "outputs": [],
   "source": []
  },
  {
   "cell_type": "markdown",
   "metadata": {},
   "source": [
    "# 13_mnist_early_stopping"
   ]
  },
  {
   "cell_type": "code",
   "execution_count": 2,
   "metadata": {},
   "outputs": [
    {
     "name": "stderr",
     "output_type": "stream",
     "text": [
      "/Users/yohei/.pyenv/versions/anaconda3-5.0.0/envs/tensorflow/lib/python3.5/site-packages/sklearn/model_selection/_split.py:2026: FutureWarning: From version 0.21, test_size will always complement train_size unless both are specified.\n",
      "  FutureWarning)\n"
     ]
    },
    {
     "name": "stdout",
     "output_type": "stream",
     "text": [
      "epoch: 0  validation loss: 0.521593  validation accuracy: 0.83025  step:  0\n",
      "epoch: 1  validation loss: 0.321835  validation accuracy: 0.90525  step:  0\n",
      "epoch: 2  validation loss: 0.291865  validation accuracy: 0.9095  step:  0\n",
      "epoch: 3  validation loss: 0.230324  validation accuracy: 0.931  step:  0\n",
      "epoch: 4  validation loss: 0.241443  validation accuracy: 0.9265  step:  0\n",
      "epoch: 5  validation loss: 0.212465  validation accuracy: 0.9385  step:  1\n",
      "epoch: 6  validation loss: 0.236462  validation accuracy: 0.93225  step:  0\n",
      "epoch: 7  validation loss: 0.198182  validation accuracy: 0.94225  step:  1\n",
      "epoch: 8  validation loss: 0.174035  validation accuracy: 0.94975  step:  0\n",
      "epoch: 9  validation loss: 0.178864  validation accuracy: 0.95125  step:  0\n",
      "epoch: 10  validation loss: 0.172161  validation accuracy: 0.95175  step:  1\n",
      "epoch: 11  validation loss: 0.157978  validation accuracy: 0.95475  step:  0\n",
      "epoch: 12  validation loss: 0.15985  validation accuracy: 0.95625  step:  0\n",
      "epoch: 13  validation loss: 0.167559  validation accuracy: 0.95675  step:  1\n",
      "epoch: 14  validation loss: 0.171447  validation accuracy: 0.952  step:  2\n",
      "epoch: 15  validation loss: 0.164751  validation accuracy: 0.95775  step:  3\n",
      "epoch: 16  validation loss: 0.164103  validation accuracy: 0.95925  step:  4\n",
      "epoch: 17  validation loss: 0.161766  validation accuracy: 0.9575  step:  5\n",
      "epoch: 18  validation loss: 0.158084  validation accuracy: 0.95825  step:  6\n",
      "epoch: 19  validation loss: 0.149125  validation accuracy: 0.9605  step:  7\n",
      "epoch: 20  validation loss: 0.165519  validation accuracy: 0.9575  step:  0\n",
      "epoch: 21  validation loss: 0.149502  validation accuracy: 0.962  step:  1\n",
      "epoch: 22  validation loss: 0.158685  validation accuracy: 0.96075  step:  2\n",
      "epoch: 23  validation loss: 0.146776  validation accuracy: 0.964  step:  3\n",
      "epoch: 24  validation loss: 0.173725  validation accuracy: 0.95825  step:  0\n",
      "epoch: 25  validation loss: 0.155041  validation accuracy: 0.96  step:  1\n",
      "epoch: 26  validation loss: 0.147325  validation accuracy: 0.9645  step:  2\n",
      "epoch: 27  validation loss: 0.162885  validation accuracy: 0.9615  step:  3\n",
      "epoch: 28  validation loss: 0.161958  validation accuracy: 0.96075  step:  4\n",
      "epoch: 29  validation loss: 0.170661  validation accuracy: 0.958  step:  5\n",
      "epoch: 30  validation loss: 0.150675  validation accuracy: 0.963  step:  6\n",
      "epoch: 31  validation loss: 0.164994  validation accuracy: 0.96125  step:  7\n",
      "epoch: 32  validation loss: 0.167267  validation accuracy: 0.9605  step:  8\n",
      "epoch: 33  validation loss: 0.163651  validation accuracy: 0.96125  step:  9\n",
      "epoch: 34  validation loss: 0.144699  validation accuracy: 0.963  step:  10\n",
      "epoch: 35  validation loss: 0.144126  validation accuracy: 0.965  step:  0\n",
      "epoch: 36  validation loss: 0.145909  validation accuracy: 0.968  step:  0\n",
      "epoch: 37  validation loss: 0.15835  validation accuracy: 0.965  step:  1\n",
      "epoch: 38  validation loss: 0.135682  validation accuracy: 0.96875  step:  2\n",
      "epoch: 39  validation loss: 0.14049  validation accuracy: 0.96875  step:  0\n",
      "epoch: 40  validation loss: 0.140818  validation accuracy: 0.96625  step:  1\n",
      "epoch: 41  validation loss: 0.158093  validation accuracy: 0.9615  step:  2\n",
      "epoch: 42  validation loss: 0.149982  validation accuracy: 0.9675  step:  3\n",
      "epoch: 43  validation loss: 0.146086  validation accuracy: 0.96775  step:  4\n",
      "epoch: 44  validation loss: 0.153058  validation accuracy: 0.965  step:  5\n",
      "epoch: 45  validation loss: 0.157756  validation accuracy: 0.9665  step:  6\n",
      "epoch: 46  validation loss: 0.143343  validation accuracy: 0.966  step:  7\n",
      "epoch: 47  validation loss: 0.152198  validation accuracy: 0.96625  step:  8\n",
      "epoch: 48  validation loss: 0.157773  validation accuracy: 0.96525  step:  9\n",
      "epoch: 49  validation loss: 0.143713  validation accuracy: 0.96775  step:  10\n",
      "early stopping\n"
     ]
    },
    {
     "data": {
      "image/png": "[encoded data removed]",
      "text/plain": [
       "<matplotlib.figure.Figure at 0x1a271a0b70>"
      ]
     },
     "metadata": {},
     "output_type": "display_data"
    },
    {
     "name": "stdout",
     "output_type": "stream",
     "text": [
      "accuracy:  0.9674\n"
     ]
    }
   ],
   "source": [
    "%run tensorflow/13_mnist_early_stopping_tensorflow.py"
   ]
  },
  {
   "cell_type": "code",
   "execution_count": 3,
   "metadata": {},
   "outputs": [
    {
     "name": "stderr",
     "output_type": "stream",
     "text": [
      "Using TensorFlow backend.\n",
      "/Users/yohei/.pyenv/versions/anaconda3-5.0.0/envs/tensorflow/lib/python3.5/site-packages/sklearn/model_selection/_split.py:2026: FutureWarning: From version 0.21, test_size will always complement train_size unless both are specified.\n",
      "  FutureWarning)\n"
     ]
    },
    {
     "name": "stdout",
     "output_type": "stream",
     "text": [
      "Train on 16000 samples, validate on 4000 samples\n",
      "Epoch 1/200\n",
      "16000/16000 [==============================] - 3s 164us/step - loss: 1.5593 - acc: 0.4608 - val_loss: 0.5469 - val_acc: 0.8542\n",
      "Epoch 2/200\n",
      "16000/16000 [==============================] - 1s 92us/step - loss: 0.6934 - acc: 0.7831 - val_loss: 0.3358 - val_acc: 0.9022\n",
      "Epoch 3/200\n",
      "16000/16000 [==============================] - 1s 90us/step - loss: 0.4983 - acc: 0.8492 - val_loss: 0.2753 - val_acc: 0.9188\n",
      "Epoch 4/200\n",
      "16000/16000 [==============================] - 1s 93us/step - loss: 0.4058 - acc: 0.8821 - val_loss: 0.2461 - val_acc: 0.9255\n",
      "Epoch 5/200\n",
      "16000/16000 [==============================] - 2s 97us/step - loss: 0.3579 - acc: 0.8946 - val_loss: 0.2316 - val_acc: 0.9330\n",
      "Epoch 6/200\n",
      "16000/16000 [==============================] - 2s 101us/step - loss: 0.3271 - acc: 0.9094 - val_loss: 0.2049 - val_acc: 0.9380\n",
      "Epoch 7/200\n",
      "16000/16000 [==============================] - 2s 101us/step - loss: 0.2909 - acc: 0.9176 - val_loss: 0.1937 - val_acc: 0.9425\n",
      "Epoch 8/200\n",
      "16000/16000 [==============================] - 2s 102us/step - loss: 0.2695 - acc: 0.9215 - val_loss: 0.1898 - val_acc: 0.9443\n",
      "Epoch 9/200\n",
      "16000/16000 [==============================] - 1s 89us/step - loss: 0.2550 - acc: 0.9284 - val_loss: 0.1817 - val_acc: 0.9468\n",
      "Epoch 10/200\n",
      "16000/16000 [==============================] - 1s 91us/step - loss: 0.2318 - acc: 0.9334 - val_loss: 0.1706 - val_acc: 0.9512\n",
      "Epoch 11/200\n",
      "16000/16000 [==============================] - 1s 84us/step - loss: 0.2137 - acc: 0.9382 - val_loss: 0.1702 - val_acc: 0.9517\n",
      "Epoch 12/200\n",
      "16000/16000 [==============================] - 1s 81us/step - loss: 0.2045 - acc: 0.9439 - val_loss: 0.1757 - val_acc: 0.9540\n",
      "Epoch 13/200\n",
      "16000/16000 [==============================] - 1s 80us/step - loss: 0.1920 - acc: 0.9450 - val_loss: 0.1590 - val_acc: 0.9565\n",
      "Epoch 14/200\n",
      "16000/16000 [==============================] - 1s 81us/step - loss: 0.1808 - acc: 0.9481 - val_loss: 0.1500 - val_acc: 0.9588\n",
      "Epoch 15/200\n",
      "16000/16000 [==============================] - 1s 81us/step - loss: 0.1754 - acc: 0.9501 - val_loss: 0.1536 - val_acc: 0.9595\n",
      "Epoch 16/200\n",
      "16000/16000 [==============================] - 1s 80us/step - loss: 0.1727 - acc: 0.9510 - val_loss: 0.1528 - val_acc: 0.9567\n",
      "Epoch 17/200\n",
      "16000/16000 [==============================] - 2s 99us/step - loss: 0.1629 - acc: 0.9531 - val_loss: 0.1566 - val_acc: 0.9607\n",
      "Epoch 18/200\n",
      "16000/16000 [==============================] - 2s 114us/step - loss: 0.1532 - acc: 0.9559 - val_loss: 0.1471 - val_acc: 0.9610\n",
      "Epoch 19/200\n",
      "16000/16000 [==============================] - 2s 110us/step - loss: 0.1504 - acc: 0.9570 - val_loss: 0.1447 - val_acc: 0.9620\n",
      "Epoch 20/200\n",
      "16000/16000 [==============================] - 2s 99us/step - loss: 0.1413 - acc: 0.9578 - val_loss: 0.1496 - val_acc: 0.9588\n",
      "Epoch 21/200\n",
      "16000/16000 [==============================] - 1s 82us/step - loss: 0.1409 - acc: 0.9567 - val_loss: 0.1577 - val_acc: 0.9588\n",
      "Epoch 22/200\n",
      "16000/16000 [==============================] - 1s 77us/step - loss: 0.1447 - acc: 0.9587 - val_loss: 0.1515 - val_acc: 0.9597\n",
      "Epoch 23/200\n",
      "16000/16000 [==============================] - 1s 79us/step - loss: 0.1313 - acc: 0.9601 - val_loss: 0.1472 - val_acc: 0.9623\n",
      "Epoch 24/200\n",
      "16000/16000 [==============================] - 1s 84us/step - loss: 0.1230 - acc: 0.9640 - val_loss: 0.1442 - val_acc: 0.9647\n",
      "Epoch 25/200\n",
      "16000/16000 [==============================] - 2s 95us/step - loss: 0.1218 - acc: 0.9644 - val_loss: 0.1542 - val_acc: 0.9600\n",
      "Epoch 26/200\n",
      "16000/16000 [==============================] - 1s 84us/step - loss: 0.1112 - acc: 0.9666 - val_loss: 0.1475 - val_acc: 0.9593\n",
      "Epoch 27/200\n",
      "16000/16000 [==============================] - 2s 94us/step - loss: 0.1134 - acc: 0.9667 - val_loss: 0.1558 - val_acc: 0.9623\n",
      "Epoch 28/200\n",
      "16000/16000 [==============================] - 1s 89us/step - loss: 0.1131 - acc: 0.9664 - val_loss: 0.1481 - val_acc: 0.9630\n",
      "Epoch 29/200\n",
      "16000/16000 [==============================] - 1s 92us/step - loss: 0.1076 - acc: 0.9664 - val_loss: 0.1530 - val_acc: 0.9638\n",
      "Epoch 30/200\n",
      "16000/16000 [==============================] - 2s 95us/step - loss: 0.1029 - acc: 0.9703 - val_loss: 0.1564 - val_acc: 0.9612\n",
      "Epoch 31/200\n",
      "16000/16000 [==============================] - 1s 89us/step - loss: 0.1071 - acc: 0.9671 - val_loss: 0.1449 - val_acc: 0.9643\n",
      "Epoch 32/200\n",
      "16000/16000 [==============================] - 1s 88us/step - loss: 0.1028 - acc: 0.9684 - val_loss: 0.1413 - val_acc: 0.9625\n",
      "Epoch 33/200\n",
      "16000/16000 [==============================] - 1s 87us/step - loss: 0.0994 - acc: 0.9701 - val_loss: 0.1506 - val_acc: 0.9635\n",
      "Epoch 34/200\n",
      "16000/16000 [==============================] - 2s 94us/step - loss: 0.0919 - acc: 0.9728 - val_loss: 0.1544 - val_acc: 0.9625\n",
      "Epoch 35/200\n",
      "16000/16000 [==============================] - 2s 96us/step - loss: 0.0961 - acc: 0.9721 - val_loss: 0.1552 - val_acc: 0.9620\n",
      "Epoch 36/200\n",
      "16000/16000 [==============================] - 1s 93us/step - loss: 0.0945 - acc: 0.9709 - val_loss: 0.1408 - val_acc: 0.9625\n",
      "Epoch 37/200\n",
      "16000/16000 [==============================] - 1s 82us/step - loss: 0.0928 - acc: 0.9725 - val_loss: 0.1670 - val_acc: 0.9630\n",
      "Epoch 38/200\n",
      "16000/16000 [==============================] - 1s 91us/step - loss: 0.0922 - acc: 0.9721 - val_loss: 0.1455 - val_acc: 0.9653\n",
      "Epoch 39/200\n",
      "16000/16000 [==============================] - 1s 88us/step - loss: 0.0939 - acc: 0.9722 - val_loss: 0.1446 - val_acc: 0.9657\n",
      "Epoch 40/200\n",
      "16000/16000 [==============================] - 1s 90us/step - loss: 0.0882 - acc: 0.9743 - val_loss: 0.1527 - val_acc: 0.9650\n",
      "Epoch 41/200\n",
      "16000/16000 [==============================] - 1s 87us/step - loss: 0.0860 - acc: 0.9744 - val_loss: 0.1576 - val_acc: 0.9618\n",
      "Epoch 42/200\n",
      "16000/16000 [==============================] - 1s 92us/step - loss: 0.0840 - acc: 0.9738 - val_loss: 0.1523 - val_acc: 0.9660\n",
      "Epoch 43/200\n",
      "16000/16000 [==============================] - 1s 87us/step - loss: 0.0864 - acc: 0.9736 - val_loss: 0.1530 - val_acc: 0.9642\n",
      "Epoch 44/200\n",
      "16000/16000 [==============================] - 2s 96us/step - loss: 0.0786 - acc: 0.9762 - val_loss: 0.1440 - val_acc: 0.9678\n",
      "Epoch 45/200\n",
      "16000/16000 [==============================] - 1s 85us/step - loss: 0.0778 - acc: 0.9769 - val_loss: 0.1461 - val_acc: 0.9650\n",
      "Epoch 46/200\n",
      "16000/16000 [==============================] - 1s 85us/step - loss: 0.0821 - acc: 0.9744 - val_loss: 0.1552 - val_acc: 0.9655\n",
      "Epoch 00046: early stopping\n"
     ]
    },
    {
     "data": {
      "image/png": "[encoded data removed]",
      "text/plain": [
       "<matplotlib.figure.Figure at 0x1a1cfc6cf8>"
      ]
     },
     "metadata": {},
     "output_type": "display_data"
    },
    {
     "name": "stdout",
     "output_type": "stream",
     "text": [
      "10000/10000 [==============================] - 0s 50us/step\n",
      "[0.1456879265484633, 0.96540000000000004]\n"
     ]
    }
   ],
   "source": [
    "%run keras/13_mnist_early_stopping_keras.py"
   ]
  },
  {
   "cell_type": "markdown",
   "metadata": {},
   "source": [
    "# 14_mnist_batch_normalization"
   ]
  },
  {
   "cell_type": "code",
   "execution_count": 30,
   "metadata": {},
   "outputs": [
    {
     "name": "stderr",
     "output_type": "stream",
     "text": [
      "/Users/yohei/.pyenv/versions/anaconda3-5.0.0/envs/tensorflow/lib/python3.5/site-packages/sklearn/model_selection/_split.py:2026: FutureWarning: From version 0.21, test_size will always complement train_size unless both are specified.\n",
      "  FutureWarning)\n"
     ]
    },
    {
     "name": "stdout",
     "output_type": "stream",
     "text": [
      "epoch: 0  validation loss: 0.621321  validation accuracy: 0.8105\n",
      "epoch: 1  validation loss: 0.559135  validation accuracy: 0.841\n",
      "epoch: 2  validation loss: 0.381598  validation accuracy: 0.899\n",
      "epoch: 3  validation loss: 0.443533  validation accuracy: 0.8945\n",
      "epoch: 4  validation loss: 0.739918  validation accuracy: 0.85275\n",
      "epoch: 5  validation loss: 0.401219  validation accuracy: 0.89275\n",
      "epoch: 6  validation loss: 0.528148  validation accuracy: 0.884\n",
      "epoch: 7  validation loss: 0.798142  validation accuracy: 0.8285\n",
      "epoch: 8  validation loss: 0.571375  validation accuracy: 0.87175\n",
      "epoch: 9  validation loss: 0.368992  validation accuracy: 0.90675\n",
      "epoch: 10  validation loss: 0.391395  validation accuracy: 0.917\n",
      "epoch: 11  validation loss: 0.273313  validation accuracy: 0.9405\n",
      "epoch: 12  validation loss: 0.324022  validation accuracy: 0.92925\n",
      "epoch: 13  validation loss: 0.658958  validation accuracy: 0.86575\n",
      "epoch: 14  validation loss: 0.26357  validation accuracy: 0.94925\n",
      "epoch: 15  validation loss: 0.287538  validation accuracy: 0.94025\n",
      "epoch: 16  validation loss: 0.289905  validation accuracy: 0.9495\n",
      "epoch: 17  validation loss: 0.274722  validation accuracy: 0.94325\n",
      "epoch: 18  validation loss: 0.399694  validation accuracy: 0.9315\n",
      "epoch: 19  validation loss: 0.370265  validation accuracy: 0.9275\n",
      "epoch: 20  validation loss: 0.255628  validation accuracy: 0.95375\n",
      "epoch: 21  validation loss: 0.234898  validation accuracy: 0.955\n",
      "epoch: 22  validation loss: 0.468605  validation accuracy: 0.92975\n",
      "epoch: 23  validation loss: 0.28413  validation accuracy: 0.948\n",
      "epoch: 24  validation loss: 0.329196  validation accuracy: 0.947\n",
      "epoch: 25  validation loss: 0.294451  validation accuracy: 0.94325\n",
      "epoch: 26  validation loss: 0.233122  validation accuracy: 0.95825\n",
      "epoch: 27  validation loss: 0.25791  validation accuracy: 0.9575\n",
      "epoch: 28  validation loss: 0.293839  validation accuracy: 0.95425\n",
      "epoch: 29  validation loss: 0.377317  validation accuracy: 0.93525\n",
      "epoch: 30  validation loss: 0.540269  validation accuracy: 0.91\n",
      "epoch: 31  validation loss: 0.239571  validation accuracy: 0.9575\n",
      "epoch: 32  validation loss: 0.36511  validation accuracy: 0.9445\n",
      "epoch: 33  validation loss: 0.293808  validation accuracy: 0.948\n",
      "epoch: 34  validation loss: 0.420169  validation accuracy: 0.93425\n",
      "epoch: 35  validation loss: 0.287724  validation accuracy: 0.961\n",
      "epoch: 36  validation loss: 0.4128  validation accuracy: 0.939\n",
      "epoch: 37  validation loss: 0.258236  validation accuracy: 0.95775\n",
      "early stopping\n"
     ]
    },
    {
     "data": {
      "image/png": "[encoded data removed]",
      "text/plain": [
       "<matplotlib.figure.Figure at 0x1c3aab2320>"
      ]
     },
     "metadata": {},
     "output_type": "display_data"
    },
    {
     "name": "stdout",
     "output_type": "stream",
     "text": [
      "accuracy:  0.9571\n"
     ]
    }
   ],
   "source": [
    "%run tensorflow/14_mnist_batch_normalization_tensorflow.py"
   ]
  },
  {
   "cell_type": "code",
   "execution_count": 23,
   "metadata": {},
   "outputs": [],
   "source": [
    "x = tf.constant(np.arange(9).reshape(3,3))\n",
    "y, z = tf.nn.moments(x, axes=[0])\n",
    "a, b = tf.identity(y), tf.identity(z)"
   ]
  },
  {
   "cell_type": "code",
   "execution_count": 24,
   "metadata": {},
   "outputs": [
    {
     "name": "stdout",
     "output_type": "stream",
     "text": [
      "[[0 1 2]\n",
      " [3 4 5]\n",
      " [6 7 8]]\n",
      "[3 4 5]\n",
      "[3 4 5]\n",
      "[6 6 6]\n"
     ]
    }
   ],
   "source": [
    "with tf.Session() as sess:\n",
    "    sess.run(tf.global_variables_initializer())\n",
    "    print(sess.run(x))\n",
    "    print(sess.run(y))\n",
    "    print(sess.run(a))\n",
    "    print(sess.run(b))"
   ]
  },
  {
   "cell_type": "code",
   "execution_count": 5,
   "metadata": {},
   "outputs": [
    {
     "data": {
      "text/plain": [
       "<tf.Tensor 'mul:0' shape=(10, 10) dtype=float32>"
      ]
     },
     "execution_count": 5,
     "metadata": {},
     "output_type": "execute_result"
    }
   ],
   "source": [
    "shape=(10, 10)\n",
    "np.sqrt(2.0 / shape[0]) * tf.truncated_normal(shape)"
   ]
  },
  {
   "cell_type": "code",
   "execution_count": 19,
   "metadata": {},
   "outputs": [
    {
     "name": "stderr",
     "output_type": "stream",
     "text": [
      "/Users/yohei/.pyenv/versions/anaconda3-5.0.0/envs/tensorflow/lib/python3.5/site-packages/sklearn/model_selection/_split.py:2026: FutureWarning: From version 0.21, test_size will always complement train_size unless both are specified.\n",
      "  FutureWarning)\n"
     ]
    },
    {
     "name": "stdout",
     "output_type": "stream",
     "text": [
      "epoch: 0  validation loss: 1.20534  validation accuracy: 0.77225\n",
      "epoch: 1  validation loss: 1.00022  validation accuracy: 0.80375\n",
      "epoch: 2  validation loss: 0.422545  validation accuracy: 0.904\n",
      "epoch: 3  validation loss: 0.463025  validation accuracy: 0.88575\n",
      "epoch: 4  validation loss: 0.59832  validation accuracy: 0.88675\n",
      "epoch: 5  validation loss: 2.82094  validation accuracy: 0.7275\n",
      "epoch: 6  validation loss: 0.530091  validation accuracy: 0.9\n",
      "epoch: 7  validation loss: 1.37228  validation accuracy: 0.845\n",
      "epoch: 8  validation loss: 0.623467  validation accuracy: 0.90275\n",
      "epoch: 9  validation loss: 0.538649  validation accuracy: 0.92325\n",
      "epoch: 10  validation loss: 0.332843  validation accuracy: 0.945\n",
      "epoch: 11  validation loss: 0.523652  validation accuracy: 0.92375\n",
      "epoch: 12  validation loss: 0.352358  validation accuracy: 0.9315\n",
      "epoch: 13  validation loss: 0.55525  validation accuracy: 0.92375\n",
      "epoch: 14  validation loss: 0.303499  validation accuracy: 0.954\n",
      "epoch: 15  validation loss: 0.29104  validation accuracy: 0.95825\n",
      "epoch: 16  validation loss: 0.278152  validation accuracy: 0.96075\n",
      "epoch: 17  validation loss: 0.34262  validation accuracy: 0.953\n",
      "epoch: 18  validation loss: 0.538158  validation accuracy: 0.921\n",
      "epoch: 19  validation loss: 0.395894  validation accuracy: 0.94625\n",
      "epoch: 20  validation loss: 0.401518  validation accuracy: 0.945\n",
      "epoch: 21  validation loss: 0.375884  validation accuracy: 0.94925\n",
      "epoch: 22  validation loss: 0.440633  validation accuracy: 0.9405\n",
      "epoch: 23  validation loss: 0.892123  validation accuracy: 0.8835\n",
      "epoch: 24  validation loss: 0.597861  validation accuracy: 0.934\n",
      "epoch: 25  validation loss: 0.436281  validation accuracy: 0.9365\n",
      "epoch: 26  validation loss: 0.345632  validation accuracy: 0.958\n",
      "epoch: 27  validation loss: 0.313056  validation accuracy: 0.9585\n",
      "early stopping\n"
     ]
    },
    {
     "data": {
      "image/png": "[encoded data removed]",
      "text/plain": [
       "<matplotlib.figure.Figure at 0x1c2dbf1208>"
      ]
     },
     "metadata": {},
     "output_type": "display_data"
    },
    {
     "name": "stdout",
     "output_type": "stream",
     "text": [
      "accuracy:  0.9561\n"
     ]
    }
   ],
   "source": [
    "%run tensorflow/batch_normalization.py"
   ]
  },
  {
   "cell_type": "code",
   "execution_count": 32,
   "metadata": {},
   "outputs": [
    {
     "name": "stderr",
     "output_type": "stream",
     "text": [
      "/Users/yohei/.pyenv/versions/anaconda3-5.0.0/envs/tensorflow/lib/python3.5/site-packages/sklearn/model_selection/_split.py:2026: FutureWarning: From version 0.21, test_size will always complement train_size unless both are specified.\n",
      "  FutureWarning)\n"
     ]
    },
    {
     "name": "stdout",
     "output_type": "stream",
     "text": [
      "Train on 16000 samples, validate on 4000 samples\n",
      "Epoch 1/200\n",
      "16000/16000 [==============================] - 4s 220us/step - loss: 0.3137 - acc: 0.9029 - val_loss: 0.6564 - val_acc: 0.8705\n",
      "Epoch 2/200\n",
      "16000/16000 [==============================] - 2s 109us/step - loss: 0.1414 - acc: 0.9561 - val_loss: 0.3538 - val_acc: 0.9045\n",
      "Epoch 3/200\n",
      "16000/16000 [==============================] - 2s 110us/step - loss: 0.0881 - acc: 0.9730 - val_loss: 0.3131 - val_acc: 0.9208\n",
      "Epoch 4/200\n",
      "16000/16000 [==============================] - 2s 107us/step - loss: 0.0742 - acc: 0.9743 - val_loss: 0.2961 - val_acc: 0.9235\n",
      "Epoch 5/200\n",
      "16000/16000 [==============================] - 2s 109us/step - loss: 0.0605 - acc: 0.9799 - val_loss: 0.2132 - val_acc: 0.9480\n",
      "Epoch 6/200\n",
      "16000/16000 [==============================] - 2s 104us/step - loss: 0.0377 - acc: 0.9871 - val_loss: 0.1975 - val_acc: 0.9555\n",
      "Epoch 7/200\n",
      "16000/16000 [==============================] - 2s 104us/step - loss: 0.0383 - acc: 0.9869 - val_loss: 0.2040 - val_acc: 0.9505\n",
      "Epoch 8/200\n",
      "16000/16000 [==============================] - 2s 122us/step - loss: 0.0430 - acc: 0.9854 - val_loss: 0.3575 - val_acc: 0.9278\n",
      "Epoch 9/200\n",
      "16000/16000 [==============================] - 2s 114us/step - loss: 0.0302 - acc: 0.9899 - val_loss: 0.1959 - val_acc: 0.9562\n",
      "Epoch 10/200\n",
      "16000/16000 [==============================] - 2s 110us/step - loss: 0.0256 - acc: 0.9912 - val_loss: 0.2144 - val_acc: 0.9540\n",
      "Epoch 11/200\n",
      "16000/16000 [==============================] - 2s 109us/step - loss: 0.0225 - acc: 0.9926 - val_loss: 0.2448 - val_acc: 0.9497\n",
      "Epoch 12/200\n",
      "16000/16000 [==============================] - 2s 109us/step - loss: 0.0271 - acc: 0.9911 - val_loss: 0.3996 - val_acc: 0.9210\n",
      "Epoch 13/200\n",
      "16000/16000 [==============================] - 2s 104us/step - loss: 0.0290 - acc: 0.9897 - val_loss: 0.3328 - val_acc: 0.9368\n",
      "Epoch 14/200\n",
      "16000/16000 [==============================] - 2s 109us/step - loss: 0.0207 - acc: 0.9939 - val_loss: 0.2767 - val_acc: 0.9477\n",
      "Epoch 15/200\n",
      "16000/16000 [==============================] - 2s 109us/step - loss: 0.0185 - acc: 0.9940 - val_loss: 0.3371 - val_acc: 0.9395\n",
      "Epoch 16/200\n",
      "16000/16000 [==============================] - 2s 112us/step - loss: 0.0190 - acc: 0.9937 - val_loss: 0.2255 - val_acc: 0.9560\n",
      "Epoch 17/200\n",
      "16000/16000 [==============================] - 2s 109us/step - loss: 0.0106 - acc: 0.9963 - val_loss: 0.2219 - val_acc: 0.9550\n",
      "Epoch 18/200\n",
      "16000/16000 [==============================] - 2s 108us/step - loss: 0.0128 - acc: 0.9961 - val_loss: 0.1829 - val_acc: 0.9650\n",
      "Epoch 19/200\n",
      "16000/16000 [==============================] - 2s 105us/step - loss: 0.0101 - acc: 0.9965 - val_loss: 0.3759 - val_acc: 0.9310\n",
      "Epoch 20/200\n",
      "16000/16000 [==============================] - 2s 111us/step - loss: 0.0101 - acc: 0.9965 - val_loss: 0.3133 - val_acc: 0.9480\n",
      "Epoch 21/200\n",
      "16000/16000 [==============================] - 2s 113us/step - loss: 0.0123 - acc: 0.9963 - val_loss: 0.2685 - val_acc: 0.9538\n",
      "Epoch 22/200\n",
      "16000/16000 [==============================] - 2s 108us/step - loss: 0.0162 - acc: 0.9949 - val_loss: 0.2224 - val_acc: 0.9535\n",
      "Epoch 23/200\n",
      "16000/16000 [==============================] - 2s 114us/step - loss: 0.0147 - acc: 0.9958 - val_loss: 0.2132 - val_acc: 0.9608\n",
      "Epoch 24/200\n",
      "16000/16000 [==============================] - 2s 115us/step - loss: 0.0093 - acc: 0.9970 - val_loss: 0.1840 - val_acc: 0.9635\n",
      "Epoch 25/200\n",
      "16000/16000 [==============================] - 2s 113us/step - loss: 0.0109 - acc: 0.9966 - val_loss: 0.1865 - val_acc: 0.9650\n",
      "Epoch 26/200\n",
      "16000/16000 [==============================] - 2s 114us/step - loss: 0.0113 - acc: 0.9964 - val_loss: 0.3009 - val_acc: 0.9457\n",
      "Epoch 27/200\n",
      "16000/16000 [==============================] - 2s 114us/step - loss: 0.0144 - acc: 0.9950 - val_loss: 0.2717 - val_acc: 0.9505\n",
      "Epoch 28/200\n",
      "16000/16000 [==============================] - 2s 114us/step - loss: 0.0216 - acc: 0.9933 - val_loss: 0.3341 - val_acc: 0.9445\n",
      "Epoch 00028: early stopping\n"
     ]
    },
    {
     "data": {
      "image/png": "[encoded data removed]",
      "text/plain": [
       "<matplotlib.figure.Figure at 0x1c56534cf8>"
      ]
     },
     "metadata": {},
     "output_type": "display_data"
    },
    {
     "name": "stdout",
     "output_type": "stream",
     "text": [
      "10000/10000 [==============================] - 1s 86us/step\n",
      "[0.29896896293761238, 0.94479999999999997]\n"
     ]
    }
   ],
   "source": [
    "# kerasの場合\n",
    "%run keras/14_mnist_batch_normalization_keras.py"
   ]
  },
  {
   "cell_type": "code",
   "execution_count": 35,
   "metadata": {},
   "outputs": [
    {
     "name": "stderr",
     "output_type": "stream",
     "text": [
      "/Users/yohei/.pyenv/versions/anaconda3-5.0.0/envs/tensorflow/lib/python3.5/site-packages/sklearn/model_selection/_split.py:2026: FutureWarning: From version 0.21, test_size will always complement train_size unless both are specified.\n",
      "  FutureWarning)\n"
     ]
    },
    {
     "name": "stdout",
     "output_type": "stream",
     "text": [
      "epoch: 0  validation loss: 20.878447  validation accuracy: 0.09325\n",
      "epoch: 1  validation loss: 20.878447  validation accuracy: 0.09325\n",
      "epoch: 2  validation loss: 20.878447  validation accuracy: 0.09325\n",
      "epoch: 3  validation loss: 20.878447  validation accuracy: 0.09325\n",
      "epoch: 4  validation loss: 20.878447  validation accuracy: 0.09325\n",
      "epoch: 5  validation loss: 20.878447  validation accuracy: 0.09325\n",
      "epoch: 6  validation loss: 20.878447  validation accuracy: 0.09325\n"
     ]
    },
    {
     "ename": "KeyboardInterrupt",
     "evalue": "",
     "output_type": "error",
     "traceback": [
      "\u001b[0;31m---------------------------------------------------------------------------\u001b[0m",
      "\u001b[0;31mKeyboardInterrupt\u001b[0m                         Traceback (most recent call last)",
      "\u001b[0;32m~/Documents/Study/deeplearning-tensorflow-keras/4/tensorflow/batch_normalization.py\u001b[0m in \u001b[0;36m<module>\u001b[0;34m()\u001b[0m\n\u001b[1;32m    180\u001b[0m                 \u001b[0mx\u001b[0m\u001b[0;34m:\u001b[0m \u001b[0mX_\u001b[0m\u001b[0;34m[\u001b[0m\u001b[0mstart\u001b[0m\u001b[0;34m:\u001b[0m\u001b[0mend\u001b[0m\u001b[0;34m]\u001b[0m\u001b[0;34m,\u001b[0m\u001b[0;34m\u001b[0m\u001b[0m\n\u001b[1;32m    181\u001b[0m                 \u001b[0mt\u001b[0m\u001b[0;34m:\u001b[0m \u001b[0mY_\u001b[0m\u001b[0;34m[\u001b[0m\u001b[0mstart\u001b[0m\u001b[0;34m:\u001b[0m\u001b[0mend\u001b[0m\u001b[0;34m]\u001b[0m\u001b[0;34m,\u001b[0m\u001b[0;34m\u001b[0m\u001b[0m\n\u001b[0;32m--> 182\u001b[0;31m                 \u001b[0mis_training\u001b[0m\u001b[0;34m:\u001b[0m \u001b[0;32mTrue\u001b[0m\u001b[0;34m\u001b[0m\u001b[0m\n\u001b[0m\u001b[1;32m    183\u001b[0m             })\n\u001b[1;32m    184\u001b[0m \u001b[0;34m\u001b[0m\u001b[0m\n",
      "\u001b[0;32m~/.pyenv/versions/anaconda3-5.0.0/envs/tensorflow/lib/python3.5/site-packages/tensorflow/python/client/session.py\u001b[0m in \u001b[0;36mrun\u001b[0;34m(self, fetches, feed_dict, options, run_metadata)\u001b[0m\n\u001b[1;32m    887\u001b[0m     \u001b[0;32mtry\u001b[0m\u001b[0;34m:\u001b[0m\u001b[0;34m\u001b[0m\u001b[0m\n\u001b[1;32m    888\u001b[0m       result = self._run(None, fetches, feed_dict, options_ptr,\n\u001b[0;32m--> 889\u001b[0;31m                          run_metadata_ptr)\n\u001b[0m\u001b[1;32m    890\u001b[0m       \u001b[0;32mif\u001b[0m \u001b[0mrun_metadata\u001b[0m\u001b[0;34m:\u001b[0m\u001b[0;34m\u001b[0m\u001b[0m\n\u001b[1;32m    891\u001b[0m         \u001b[0mproto_data\u001b[0m \u001b[0;34m=\u001b[0m \u001b[0mtf_session\u001b[0m\u001b[0;34m.\u001b[0m\u001b[0mTF_GetBuffer\u001b[0m\u001b[0;34m(\u001b[0m\u001b[0mrun_metadata_ptr\u001b[0m\u001b[0;34m)\u001b[0m\u001b[0;34m\u001b[0m\u001b[0m\n",
      "\u001b[0;32m~/.pyenv/versions/anaconda3-5.0.0/envs/tensorflow/lib/python3.5/site-packages/tensorflow/python/client/session.py\u001b[0m in \u001b[0;36m_run\u001b[0;34m(self, handle, fetches, feed_dict, options, run_metadata)\u001b[0m\n\u001b[1;32m   1118\u001b[0m     \u001b[0;32mif\u001b[0m \u001b[0mfinal_fetches\u001b[0m \u001b[0;32mor\u001b[0m \u001b[0mfinal_targets\u001b[0m \u001b[0;32mor\u001b[0m \u001b[0;34m(\u001b[0m\u001b[0mhandle\u001b[0m \u001b[0;32mand\u001b[0m \u001b[0mfeed_dict_tensor\u001b[0m\u001b[0;34m)\u001b[0m\u001b[0;34m:\u001b[0m\u001b[0;34m\u001b[0m\u001b[0m\n\u001b[1;32m   1119\u001b[0m       results = self._do_run(handle, final_targets, final_fetches,\n\u001b[0;32m-> 1120\u001b[0;31m                              feed_dict_tensor, options, run_metadata)\n\u001b[0m\u001b[1;32m   1121\u001b[0m     \u001b[0;32melse\u001b[0m\u001b[0;34m:\u001b[0m\u001b[0;34m\u001b[0m\u001b[0m\n\u001b[1;32m   1122\u001b[0m       \u001b[0mresults\u001b[0m \u001b[0;34m=\u001b[0m \u001b[0;34m[\u001b[0m\u001b[0;34m]\u001b[0m\u001b[0;34m\u001b[0m\u001b[0m\n",
      "\u001b[0;32m~/.pyenv/versions/anaconda3-5.0.0/envs/tensorflow/lib/python3.5/site-packages/tensorflow/python/client/session.py\u001b[0m in \u001b[0;36m_do_run\u001b[0;34m(self, handle, target_list, fetch_list, feed_dict, options, run_metadata)\u001b[0m\n\u001b[1;32m   1315\u001b[0m     \u001b[0;32mif\u001b[0m \u001b[0mhandle\u001b[0m \u001b[0;32mis\u001b[0m \u001b[0;32mNone\u001b[0m\u001b[0;34m:\u001b[0m\u001b[0;34m\u001b[0m\u001b[0m\n\u001b[1;32m   1316\u001b[0m       return self._do_call(_run_fn, self._session, feeds, fetches, targets,\n\u001b[0;32m-> 1317\u001b[0;31m                            options, run_metadata)\n\u001b[0m\u001b[1;32m   1318\u001b[0m     \u001b[0;32melse\u001b[0m\u001b[0;34m:\u001b[0m\u001b[0;34m\u001b[0m\u001b[0m\n\u001b[1;32m   1319\u001b[0m       \u001b[0;32mreturn\u001b[0m \u001b[0mself\u001b[0m\u001b[0;34m.\u001b[0m\u001b[0m_do_call\u001b[0m\u001b[0;34m(\u001b[0m\u001b[0m_prun_fn\u001b[0m\u001b[0;34m,\u001b[0m \u001b[0mself\u001b[0m\u001b[0;34m.\u001b[0m\u001b[0m_session\u001b[0m\u001b[0;34m,\u001b[0m \u001b[0mhandle\u001b[0m\u001b[0;34m,\u001b[0m \u001b[0mfeeds\u001b[0m\u001b[0;34m,\u001b[0m \u001b[0mfetches\u001b[0m\u001b[0;34m)\u001b[0m\u001b[0;34m\u001b[0m\u001b[0m\n",
      "\u001b[0;32m~/.pyenv/versions/anaconda3-5.0.0/envs/tensorflow/lib/python3.5/site-packages/tensorflow/python/client/session.py\u001b[0m in \u001b[0;36m_do_call\u001b[0;34m(self, fn, *args)\u001b[0m\n\u001b[1;32m   1321\u001b[0m   \u001b[0;32mdef\u001b[0m \u001b[0m_do_call\u001b[0m\u001b[0;34m(\u001b[0m\u001b[0mself\u001b[0m\u001b[0;34m,\u001b[0m \u001b[0mfn\u001b[0m\u001b[0;34m,\u001b[0m \u001b[0;34m*\u001b[0m\u001b[0margs\u001b[0m\u001b[0;34m)\u001b[0m\u001b[0;34m:\u001b[0m\u001b[0;34m\u001b[0m\u001b[0m\n\u001b[1;32m   1322\u001b[0m     \u001b[0;32mtry\u001b[0m\u001b[0;34m:\u001b[0m\u001b[0;34m\u001b[0m\u001b[0m\n\u001b[0;32m-> 1323\u001b[0;31m       \u001b[0;32mreturn\u001b[0m \u001b[0mfn\u001b[0m\u001b[0;34m(\u001b[0m\u001b[0;34m*\u001b[0m\u001b[0margs\u001b[0m\u001b[0;34m)\u001b[0m\u001b[0;34m\u001b[0m\u001b[0m\n\u001b[0m\u001b[1;32m   1324\u001b[0m     \u001b[0;32mexcept\u001b[0m \u001b[0merrors\u001b[0m\u001b[0;34m.\u001b[0m\u001b[0mOpError\u001b[0m \u001b[0;32mas\u001b[0m \u001b[0me\u001b[0m\u001b[0;34m:\u001b[0m\u001b[0;34m\u001b[0m\u001b[0m\n\u001b[1;32m   1325\u001b[0m       \u001b[0mmessage\u001b[0m \u001b[0;34m=\u001b[0m \u001b[0mcompat\u001b[0m\u001b[0;34m.\u001b[0m\u001b[0mas_text\u001b[0m\u001b[0;34m(\u001b[0m\u001b[0me\u001b[0m\u001b[0;34m.\u001b[0m\u001b[0mmessage\u001b[0m\u001b[0;34m)\u001b[0m\u001b[0;34m\u001b[0m\u001b[0m\n",
      "\u001b[0;32m~/.pyenv/versions/anaconda3-5.0.0/envs/tensorflow/lib/python3.5/site-packages/tensorflow/python/client/session.py\u001b[0m in \u001b[0;36m_run_fn\u001b[0;34m(session, feed_dict, fetch_list, target_list, options, run_metadata)\u001b[0m\n\u001b[1;32m   1300\u001b[0m           return tf_session.TF_Run(session, options,\n\u001b[1;32m   1301\u001b[0m                                    \u001b[0mfeed_dict\u001b[0m\u001b[0;34m,\u001b[0m \u001b[0mfetch_list\u001b[0m\u001b[0;34m,\u001b[0m \u001b[0mtarget_list\u001b[0m\u001b[0;34m,\u001b[0m\u001b[0;34m\u001b[0m\u001b[0m\n\u001b[0;32m-> 1302\u001b[0;31m                                    status, run_metadata)\n\u001b[0m\u001b[1;32m   1303\u001b[0m \u001b[0;34m\u001b[0m\u001b[0m\n\u001b[1;32m   1304\u001b[0m     \u001b[0;32mdef\u001b[0m \u001b[0m_prun_fn\u001b[0m\u001b[0;34m(\u001b[0m\u001b[0msession\u001b[0m\u001b[0;34m,\u001b[0m \u001b[0mhandle\u001b[0m\u001b[0;34m,\u001b[0m \u001b[0mfeed_dict\u001b[0m\u001b[0;34m,\u001b[0m \u001b[0mfetch_list\u001b[0m\u001b[0;34m)\u001b[0m\u001b[0;34m:\u001b[0m\u001b[0;34m\u001b[0m\u001b[0m\n",
      "\u001b[0;31mKeyboardInterrupt\u001b[0m: "
     ]
    }
   ],
   "source": [
    "%run tensorflow/batch_normalization.py"
   ]
  },
  {
   "cell_type": "code",
   "execution_count": 38,
   "metadata": {},
   "outputs": [
    {
     "ename": "TypeError",
     "evalue": "Using a `tf.Tensor` as a Python `bool` is not allowed. Use `if t is not None:` instead of `if t:` to test if a tensor is defined, and use TensorFlow ops such as tf.cond to execute subgraphs conditioned on the value of a tensor.",
     "output_type": "error",
     "traceback": [
      "\u001b[0;31m---------------------------------------------------------------------------\u001b[0m",
      "\u001b[0;31mTypeError\u001b[0m                                 Traceback (most recent call last)",
      "\u001b[0;32m<ipython-input-38-e04cf8383278>\u001b[0m in \u001b[0;36m<module>\u001b[0;34m()\u001b[0m\n\u001b[1;32m      1\u001b[0m \u001b[0mis_training\u001b[0m \u001b[0;34m=\u001b[0m \u001b[0mtf\u001b[0m\u001b[0;34m.\u001b[0m\u001b[0mplaceholder\u001b[0m\u001b[0;34m(\u001b[0m\u001b[0mtf\u001b[0m\u001b[0;34m.\u001b[0m\u001b[0mbool\u001b[0m\u001b[0;34m)\u001b[0m\u001b[0;34m\u001b[0m\u001b[0m\n\u001b[0;32m----> 2\u001b[0;31m \u001b[0;32mif\u001b[0m \u001b[0mis_training\u001b[0m\u001b[0;34m:\u001b[0m\u001b[0;34m\u001b[0m\u001b[0m\n\u001b[0m\u001b[1;32m      3\u001b[0m     \u001b[0mprint\u001b[0m\u001b[0;34m(\u001b[0m\u001b[0ma\u001b[0m\u001b[0;34m)\u001b[0m\u001b[0;34m\u001b[0m\u001b[0m\n",
      "\u001b[0;32m~/.pyenv/versions/anaconda3-5.0.0/envs/tensorflow/lib/python3.5/site-packages/tensorflow/python/framework/ops.py\u001b[0m in \u001b[0;36m__bool__\u001b[0;34m(self)\u001b[0m\n\u001b[1;32m    526\u001b[0m       \u001b[0;31m`\u001b[0m\u001b[0mTypeError\u001b[0m\u001b[0;31m`\u001b[0m\u001b[0;34m.\u001b[0m\u001b[0;34m\u001b[0m\u001b[0m\n\u001b[1;32m    527\u001b[0m     \"\"\"\n\u001b[0;32m--> 528\u001b[0;31m     raise TypeError(\"Using a `tf.Tensor` as a Python `bool` is not allowed. \"\n\u001b[0m\u001b[1;32m    529\u001b[0m                     \u001b[0;34m\"Use `if t is not None:` instead of `if t:` to test if a \"\u001b[0m\u001b[0;34m\u001b[0m\u001b[0m\n\u001b[1;32m    530\u001b[0m                     \u001b[0;34m\"tensor is defined, and use TensorFlow ops such as \"\u001b[0m\u001b[0;34m\u001b[0m\u001b[0m\n",
      "\u001b[0;31mTypeError\u001b[0m: Using a `tf.Tensor` as a Python `bool` is not allowed. Use `if t is not None:` instead of `if t:` to test if a tensor is defined, and use TensorFlow ops such as tf.cond to execute subgraphs conditioned on the value of a tensor."
     ]
    }
   ],
   "source": []
  },
  {
   "cell_type": "code",
   "execution_count": 37,
   "metadata": {},
   "outputs": [
    {
     "name": "stdout",
     "output_type": "stream",
     "text": [
      "True\n"
     ]
    }
   ],
   "source": [
    "with tf.Session() as sess:\n",
    "    print(sess.run(is_training, feed_dict={\n",
    "        is_training: True\n",
    "    }))"
   ]
  },
  {
   "cell_type": "code",
   "execution_count": 18,
   "metadata": {},
   "outputs": [
    {
     "name": "stdout",
     "output_type": "stream",
     "text": [
      "1\n"
     ]
    }
   ],
   "source": [
    "if False is False:\n",
    "    print(1)"
   ]
  },
  {
   "cell_type": "code",
   "execution_count": null,
   "metadata": {},
   "outputs": [],
   "source": []
  }
 ],
 "metadata": {
  "kernelspec": {
   "display_name": "tensorflow",
   "language": "python",
   "name": "tensorflow"
  },
  "language_info": {
   "codemirror_mode": {
    "name": "ipython",
    "version": 3
   },
   "file_extension": ".py",
   "mimetype": "text/x-python",
   "name": "python",
   "nbconvert_exporter": "python",
   "pygments_lexer": "ipython3",
   "version": "3.5.4"
  },
  "toc": {
   "nav_menu": {},
   "number_sections": true,
   "sideBar": true,
   "skip_h1_title": false,
   "toc_cell": false,
   "toc_position": {},
   "toc_section_display": "block",
   "toc_window_display": false
  }
 },
 "nbformat": 4,
 "nbformat_minor": 2
}
